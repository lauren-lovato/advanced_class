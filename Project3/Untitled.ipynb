{
 "cells": [
  {
   "cell_type": "code",
   "execution_count": null,
   "metadata": {},
   "outputs": [],
   "source": [
    "fl=FeatureLayer(country_url)\n",
    "sdf=fl.query(return_all_records=True).df\n",
    "\n",
    "sp_rel = \"esriSpatialIntersects\"\n",
    "sp_filter = filters.intersects(geometry-mo_geom)\n",
    "\n",
    "sdf['TLIFENAME'].mode\n",
    ".value_counts()"
   ]
  }
 ],
 "metadata": {
  "kernelspec": {
   "display_name": "Python 3",
   "language": "python",
   "name": "python3"
  },
  "language_info": {
   "codemirror_mode": {
    "name": "ipython",
    "version": 3
   },
   "file_extension": ".py",
   "mimetype": "text/x-python",
   "name": "python",
   "nbconvert_exporter": "python",
   "pygments_lexer": "ipython3",
   "version": "3.6.5"
  }
 },
 "nbformat": 4,
 "nbformat_minor": 2
}
