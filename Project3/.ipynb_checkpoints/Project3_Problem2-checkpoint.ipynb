{
 "cells": [
  {
   "cell_type": "markdown",
   "metadata": {},
   "source": [
    "# Project 3, Problem 2: Earthquake Impact Assessment"
   ]
  },
  {
   "cell_type": "markdown",
   "metadata": {},
   "source": [
    "### Have you ever seen the USGS Earthquake Pager? In the project, you're going to work towards creating something similar!\n",
    "\n",
    "### The USGS tracks global earthquake activity. For this project, I want you to estimate the potential population affected by a large earthquake that occurred over the past month. The significant earthquakes from the past month can be found here. There will be on the order of 1 to 10 significant earthquakes from the last month.\n",
    "\n",
    "### As a template for this analysis, please see this GeoEnrichment Tutorial. For your analysis, you will follow some steps seen here. Your goal is to present an estimate of the Total Population affected by those earthquakes. I'm leaving it up to you to figure out buffer sizes, whether there are in fact any people within range of the earthquake, and other questions.\n",
    "\n",
    "### Please submit a detailed and clean notebook."
   ]
  },
  {
   "cell_type": "markdown",
   "metadata": {},
   "source": [
    "#### Ruberic\n",
    " - Well-documented Notebook (10 Points)\n",
    " - reasonable Total Population estimates (15 points)\n",
    " - Successful implementation of geoenrichment workflow based on the Geoenrichment Tutorial. (25 points)\n",
    " - Bonus plot the events on a map symbolized by potentail population affected. (10 points)"
   ]
  },
  {
   "cell_type": "code",
   "execution_count": null,
   "metadata": {},
   "outputs": [],
   "source": []
  }
 ],
 "metadata": {
  "kernelspec": {
   "display_name": "Python 3",
   "language": "python",
   "name": "python3"
  },
  "language_info": {
   "codemirror_mode": {
    "name": "ipython",
    "version": 3
   },
   "file_extension": ".py",
   "mimetype": "text/x-python",
   "name": "python",
   "nbconvert_exporter": "python",
   "pygments_lexer": "ipython3",
   "version": "3.6.5"
  }
 },
 "nbformat": 4,
 "nbformat_minor": 2
}
