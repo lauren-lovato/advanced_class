{
 "cells": [
  {
   "cell_type": "markdown",
   "metadata": {},
   "source": [
    "# Project 3, Problem 2: Earthquake Impact Assessment"
   ]
  },
  {
   "cell_type": "markdown",
   "metadata": {},
   "source": [
    "### Have you ever seen the USGS Earthquake Page? In the project, you're going to work towards creating something similar!\n",
    "\n",
    "### The USGS tracks global earthquake activity. For this project, I want you to estimate the potential population affected by a large earthquake that occurred over the past month. The significant earthquakes from the past month can be found here. There will be on the order of 1 to 10 significant earthquakes from the last month.\n",
    "\n",
    "### As a template for this analysis, please see this GeoEnrichment Tutorial. For your analysis, you will follow some steps seen here. Your goal is to present an estimate of the Total Population affected by those earthquakes. I'm leaving it up to you to figure out buffer sizes, whether there are in fact any people within range of the earthquake, and other questions.\n",
    "\n",
    "### Please submit a detailed and clean notebook."
   ]
  },
  {
   "cell_type": "markdown",
   "metadata": {},
   "source": [
    "#### Ruberic\n",
    " - Well-documented Notebook (10 Points)\n",
    " - reasonable Total Population estimates (15 points)\n",
    " - Successful implementation of geoenrichment workflow based on the Geoenrichment Tutorial. (25 points)\n",
    " - Bonus plot the events on a map symbolized by potentail population affected. (10 points)"
   ]
  },
  {
   "cell_type": "code",
   "execution_count": 88,
   "metadata": {},
   "outputs": [
    {
     "name": "stdout",
     "output_type": "stream",
     "text": [
      "Enter password: ········\n"
     ]
    }
   ],
   "source": [
    "import arcgis\n",
    "from arcgis.gis import GIS\n",
    "from arcgis.geoenrichment import *\n",
    "from arcgis.geometry import Geometry\n",
    "from arcgis.features import SpatialDataFrame \n",
    "gis = GIS(\"http://slustl.maps.arcgis.com/home\", \"laurenlovato_slustl\")"
   ]
  },
  {
   "cell_type": "markdown",
   "metadata": {},
   "source": [
    "### Out of the 11 significant earthquakes that occured in the last month, only 5 occurred on land (not in the middle of the ocean), so the focus will be on those:\n",
    "* 7.0 magnitude on 11/30 in Anchorage, Alaska\n",
    "* 6.3 magnitude on 11/25 near Sarpol-e Zahab, Iran\n",
    "* 5.7 magnitude on 11/21 near Redoubt Volcano, Alaska\n",
    "* 4.8 magnitude on 11/19 near Alberto Oviedo Mota, Mexico\n",
    "* 5.2 magnitude on 11/08 near Manjimup, Australia"
   ]
  },
  {
   "cell_type": "code",
   "execution_count": 4,
   "metadata": {},
   "outputs": [
    {
     "data": {
      "text/html": [
       "<div>\n",
       "<style scoped>\n",
       "    .dataframe tbody tr th:only-of-type {\n",
       "        vertical-align: middle;\n",
       "    }\n",
       "\n",
       "    .dataframe tbody tr th {\n",
       "        vertical-align: top;\n",
       "    }\n",
       "\n",
       "    .dataframe thead th {\n",
       "        text-align: right;\n",
       "    }\n",
       "</style>\n",
       "<table border=\"1\" class=\"dataframe\">\n",
       "  <thead>\n",
       "    <tr style=\"text-align: right;\">\n",
       "      <th></th>\n",
       "      <th>time</th>\n",
       "      <th>latitude</th>\n",
       "      <th>longitude</th>\n",
       "      <th>depth</th>\n",
       "      <th>mag</th>\n",
       "      <th>magType</th>\n",
       "      <th>nst</th>\n",
       "      <th>gap</th>\n",
       "      <th>dmin</th>\n",
       "      <th>rms</th>\n",
       "      <th>...</th>\n",
       "      <th>updated</th>\n",
       "      <th>place</th>\n",
       "      <th>type</th>\n",
       "      <th>horizontalError</th>\n",
       "      <th>depthError</th>\n",
       "      <th>magError</th>\n",
       "      <th>magNst</th>\n",
       "      <th>status</th>\n",
       "      <th>locationSource</th>\n",
       "      <th>magSource</th>\n",
       "    </tr>\n",
       "  </thead>\n",
       "  <tbody>\n",
       "    <tr>\n",
       "      <th>0</th>\n",
       "      <td>2018-11-30T17:29:29.206Z</td>\n",
       "      <td>61.3234</td>\n",
       "      <td>-149.9234</td>\n",
       "      <td>44.10</td>\n",
       "      <td>7.00</td>\n",
       "      <td>mww</td>\n",
       "      <td>NaN</td>\n",
       "      <td>NaN</td>\n",
       "      <td>NaN</td>\n",
       "      <td>0.70</td>\n",
       "      <td>...</td>\n",
       "      <td>2018-12-02T01:18:05.952Z</td>\n",
       "      <td>12km N of Anchorage, Alaska</td>\n",
       "      <td>earthquake</td>\n",
       "      <td>NaN</td>\n",
       "      <td>0.30</td>\n",
       "      <td>NaN</td>\n",
       "      <td>NaN</td>\n",
       "      <td>reviewed</td>\n",
       "      <td>ak</td>\n",
       "      <td>ak</td>\n",
       "    </tr>\n",
       "    <tr>\n",
       "      <th>1</th>\n",
       "      <td>2018-11-25T16:37:31.410Z</td>\n",
       "      <td>34.3042</td>\n",
       "      <td>45.7402</td>\n",
       "      <td>10.00</td>\n",
       "      <td>6.30</td>\n",
       "      <td>mww</td>\n",
       "      <td>NaN</td>\n",
       "      <td>22.0</td>\n",
       "      <td>0.8100</td>\n",
       "      <td>0.87</td>\n",
       "      <td>...</td>\n",
       "      <td>2018-11-29T21:57:52.931Z</td>\n",
       "      <td>20km SSW of Sarpol-e Zahab, Iran</td>\n",
       "      <td>earthquake</td>\n",
       "      <td>5.90</td>\n",
       "      <td>1.80</td>\n",
       "      <td>0.073</td>\n",
       "      <td>18.0</td>\n",
       "      <td>reviewed</td>\n",
       "      <td>us</td>\n",
       "      <td>us</td>\n",
       "    </tr>\n",
       "    <tr>\n",
       "      <th>2</th>\n",
       "      <td>2018-11-21T18:21:43.908Z</td>\n",
       "      <td>59.9732</td>\n",
       "      <td>-153.3083</td>\n",
       "      <td>145.50</td>\n",
       "      <td>5.70</td>\n",
       "      <td>ml</td>\n",
       "      <td>NaN</td>\n",
       "      <td>NaN</td>\n",
       "      <td>NaN</td>\n",
       "      <td>0.47</td>\n",
       "      <td>...</td>\n",
       "      <td>2018-11-30T21:41:28.378Z</td>\n",
       "      <td>65km SSW of Redoubt Volcano, Alaska</td>\n",
       "      <td>earthquake</td>\n",
       "      <td>NaN</td>\n",
       "      <td>0.10</td>\n",
       "      <td>NaN</td>\n",
       "      <td>NaN</td>\n",
       "      <td>reviewed</td>\n",
       "      <td>ak</td>\n",
       "      <td>ak</td>\n",
       "    </tr>\n",
       "    <tr>\n",
       "      <th>3</th>\n",
       "      <td>2018-11-19T20:18:42.510Z</td>\n",
       "      <td>32.2065</td>\n",
       "      <td>-115.2535</td>\n",
       "      <td>10.95</td>\n",
       "      <td>4.82</td>\n",
       "      <td>mw</td>\n",
       "      <td>29.0</td>\n",
       "      <td>149.0</td>\n",
       "      <td>0.2168</td>\n",
       "      <td>0.38</td>\n",
       "      <td>...</td>\n",
       "      <td>2018-11-25T14:40:31.040Z</td>\n",
       "      <td>8km WSW of Alberto Oviedo Mota, B.C., MX</td>\n",
       "      <td>earthquake</td>\n",
       "      <td>0.79</td>\n",
       "      <td>31.61</td>\n",
       "      <td>NaN</td>\n",
       "      <td>6.0</td>\n",
       "      <td>reviewed</td>\n",
       "      <td>ci</td>\n",
       "      <td>ci</td>\n",
       "    </tr>\n",
       "    <tr>\n",
       "      <th>4</th>\n",
       "      <td>2018-11-08T21:07:01.460Z</td>\n",
       "      <td>-34.3508</td>\n",
       "      <td>116.8388</td>\n",
       "      <td>10.00</td>\n",
       "      <td>5.20</td>\n",
       "      <td>mww</td>\n",
       "      <td>NaN</td>\n",
       "      <td>61.0</td>\n",
       "      <td>1.4580</td>\n",
       "      <td>0.97</td>\n",
       "      <td>...</td>\n",
       "      <td>2018-11-24T06:39:45.251Z</td>\n",
       "      <td>64km ESE of Manjimup, Australia</td>\n",
       "      <td>earthquake</td>\n",
       "      <td>8.70</td>\n",
       "      <td>1.80</td>\n",
       "      <td>0.089</td>\n",
       "      <td>12.0</td>\n",
       "      <td>reviewed</td>\n",
       "      <td>us</td>\n",
       "      <td>us</td>\n",
       "    </tr>\n",
       "  </tbody>\n",
       "</table>\n",
       "<p>5 rows × 22 columns</p>\n",
       "</div>"
      ],
      "text/plain": [
       "                       time  latitude  longitude   depth   mag magType   nst  \\\n",
       "0  2018-11-30T17:29:29.206Z   61.3234  -149.9234   44.10  7.00     mww   NaN   \n",
       "1  2018-11-25T16:37:31.410Z   34.3042    45.7402   10.00  6.30     mww   NaN   \n",
       "2  2018-11-21T18:21:43.908Z   59.9732  -153.3083  145.50  5.70      ml   NaN   \n",
       "3  2018-11-19T20:18:42.510Z   32.2065  -115.2535   10.95  4.82      mw  29.0   \n",
       "4  2018-11-08T21:07:01.460Z  -34.3508   116.8388   10.00  5.20     mww   NaN   \n",
       "\n",
       "     gap    dmin   rms    ...                      updated  \\\n",
       "0    NaN     NaN  0.70    ...     2018-12-02T01:18:05.952Z   \n",
       "1   22.0  0.8100  0.87    ...     2018-11-29T21:57:52.931Z   \n",
       "2    NaN     NaN  0.47    ...     2018-11-30T21:41:28.378Z   \n",
       "3  149.0  0.2168  0.38    ...     2018-11-25T14:40:31.040Z   \n",
       "4   61.0  1.4580  0.97    ...     2018-11-24T06:39:45.251Z   \n",
       "\n",
       "                                      place        type horizontalError  \\\n",
       "0               12km N of Anchorage, Alaska  earthquake             NaN   \n",
       "1          20km SSW of Sarpol-e Zahab, Iran  earthquake            5.90   \n",
       "2       65km SSW of Redoubt Volcano, Alaska  earthquake             NaN   \n",
       "3  8km WSW of Alberto Oviedo Mota, B.C., MX  earthquake            0.79   \n",
       "4           64km ESE of Manjimup, Australia  earthquake            8.70   \n",
       "\n",
       "  depthError  magError  magNst    status  locationSource magSource  \n",
       "0       0.30       NaN     NaN  reviewed              ak        ak  \n",
       "1       1.80     0.073    18.0  reviewed              us        us  \n",
       "2       0.10       NaN     NaN  reviewed              ak        ak  \n",
       "3      31.61       NaN     6.0  reviewed              ci        ci  \n",
       "4       1.80     0.089    12.0  reviewed              us        us  \n",
       "\n",
       "[5 rows x 22 columns]"
      ]
     },
     "execution_count": 4,
     "metadata": {},
     "output_type": "execute_result"
    }
   ],
   "source": [
    "import pandas as pd\n",
    "earthquake_csv = pd.read_csv(\"significant_month_USGS.CSV\")\n",
    "earthquake_csv.head()"
   ]
  },
  {
   "cell_type": "markdown",
   "metadata": {},
   "source": [
    "### Get US population data for 2 earthquakes in Alaska"
   ]
  },
  {
   "cell_type": "code",
   "execution_count": 7,
   "metadata": {},
   "outputs": [
    {
     "name": "stdout",
     "output_type": "stream",
     "text": [
      "Number of countries for which GeoEnrichment data is available: 137\n"
     ]
    }
   ],
   "source": [
    "countries = get_countries()\n",
    "print(\"Number of countries for which GeoEnrichment data is available: \" + str(len(countries)))"
   ]
  },
  {
   "cell_type": "code",
   "execution_count": 9,
   "metadata": {},
   "outputs": [
    {
     "data": {
      "text/plain": [
       "Index(['1yearincrements', '5yearincrements', 'ACS_Housing_Summary_rep',\n",
       "       'ACS_Population_Summary_rep', 'Age', 'Age_50_Profile_rep',\n",
       "       'Age_by_Sex_Profile_rep', 'Age_by_Sex_by_Race_Profile_rep', 'AtRisk',\n",
       "       'AutomobilesAutomotiveProducts',\n",
       "       ...\n",
       "       'transportation', 'travelMPI', 'unitsinstructure',\n",
       "       'urbanizationgroupsNEW', 'vacant', 'vehiclesavailable', 'veterans',\n",
       "       'women', 'yearbuilt', 'yearmovedin'],\n",
       "      dtype='object', name='dataCollectionID', length=141)"
      ]
     },
     "execution_count": 9,
     "metadata": {},
     "output_type": "execute_result"
    }
   ],
   "source": [
    "usa = Country.get('US')\n",
    "type(usa)\n",
    "df_usa = usa.data_collections\n",
    "df_usa.index.unique()"
   ]
  },
  {
   "cell_type": "code",
   "execution_count": 70,
   "metadata": {},
   "outputs": [
    {
     "data": {
      "text/plain": [
       "array(['populationtotals.TOTPOP_CY', 'populationtotals.HHPOP_CY',\n",
       "       'populationtotals.FAMPOP_CY', 'populationtotals.POPDENS_CY',\n",
       "       'populationtotals.POPGRW10CY', 'populationtotals.DPOP_CY',\n",
       "       'populationtotals.DPOPWRK_CY', 'populationtotals.DPOPRES_CY',\n",
       "       'populationtotals.DPOPDENSCY', 'populationtotals.TOTPOP_FY',\n",
       "       'populationtotals.HHPOP_FY', 'populationtotals.FAMPOP_FY',\n",
       "       'populationtotals.POPDENS_FY', 'populationtotals.POPGRWCYFY',\n",
       "       'populationtotals.TOTPOP10', 'populationtotals.POPDENS10',\n",
       "       'populationtotals.MALES10', 'populationtotals.FEMALES10',\n",
       "       'populationtotals.HHPOP10', 'populationtotals.FAMPOP10',\n",
       "       'populationtotals.POPGRW0010', 'populationtotals.URBARPOP10',\n",
       "       'populationtotals.URBCLPOP10', 'populationtotals.RURALPOP10',\n",
       "       'populationtotals.TOTPOP00', 'populationtotals.HHPOP00',\n",
       "       'populationtotals.FAMPOP00', 'populationtotals.MAGEBASE10',\n",
       "       'populationtotals.AGEBASE10', 'populationtotals.FAGEBASE10',\n",
       "       'populationtotals.URBANPOP10', 'populationtotals.URPOPBAS10'],\n",
       "      dtype=object)"
      ]
     },
     "execution_count": 70,
     "metadata": {},
     "output_type": "execute_result"
    }
   ],
   "source": [
    "df_usa.loc['populationtotals']['analysisVariable'].unique()"
   ]
  },
  {
   "cell_type": "code",
   "execution_count": 71,
   "metadata": {},
   "outputs": [
    {
     "data": {
      "text/html": [
       "<div>\n",
       "<style scoped>\n",
       "    .dataframe tbody tr th:only-of-type {\n",
       "        vertical-align: middle;\n",
       "    }\n",
       "\n",
       "    .dataframe tbody tr th {\n",
       "        vertical-align: top;\n",
       "    }\n",
       "\n",
       "    .dataframe thead th {\n",
       "        text-align: right;\n",
       "    }\n",
       "</style>\n",
       "<table border=\"1\" class=\"dataframe\">\n",
       "  <thead>\n",
       "    <tr style=\"text-align: right;\">\n",
       "      <th></th>\n",
       "      <th>analysisVariable</th>\n",
       "      <th>alias</th>\n",
       "      <th>fieldCategory</th>\n",
       "      <th>vintage</th>\n",
       "    </tr>\n",
       "    <tr>\n",
       "      <th>dataCollectionID</th>\n",
       "      <th></th>\n",
       "      <th></th>\n",
       "      <th></th>\n",
       "      <th></th>\n",
       "    </tr>\n",
       "  </thead>\n",
       "  <tbody>\n",
       "    <tr>\n",
       "      <th>populationtotals</th>\n",
       "      <td>populationtotals.TOTPOP_CY</td>\n",
       "      <td>2018 Total Population</td>\n",
       "      <td>2018 Key Demographic Indicators (Esri)</td>\n",
       "      <td>2018</td>\n",
       "    </tr>\n",
       "    <tr>\n",
       "      <th>populationtotals</th>\n",
       "      <td>populationtotals.HHPOP_CY</td>\n",
       "      <td>2018 Population in Households</td>\n",
       "      <td>2018 Key Demographic Indicators (Esri)</td>\n",
       "      <td>2018</td>\n",
       "    </tr>\n",
       "    <tr>\n",
       "      <th>populationtotals</th>\n",
       "      <td>populationtotals.FAMPOP_CY</td>\n",
       "      <td>2018 Population in Families</td>\n",
       "      <td>2018 Key Demographic Indicators (Esri)</td>\n",
       "      <td>2018</td>\n",
       "    </tr>\n",
       "    <tr>\n",
       "      <th>populationtotals</th>\n",
       "      <td>populationtotals.POPDENS_CY</td>\n",
       "      <td>2018 Population Density</td>\n",
       "      <td>2018 Key Demographic Indicators (Esri)</td>\n",
       "      <td>2018</td>\n",
       "    </tr>\n",
       "    <tr>\n",
       "      <th>populationtotals</th>\n",
       "      <td>populationtotals.POPGRW10CY</td>\n",
       "      <td>2010-2018 Growth Rate: Population</td>\n",
       "      <td>2018 Key Demographic Indicators (Esri)</td>\n",
       "      <td>2018</td>\n",
       "    </tr>\n",
       "  </tbody>\n",
       "</table>\n",
       "</div>"
      ],
      "text/plain": [
       "                             analysisVariable  \\\n",
       "dataCollectionID                                \n",
       "populationtotals   populationtotals.TOTPOP_CY   \n",
       "populationtotals    populationtotals.HHPOP_CY   \n",
       "populationtotals   populationtotals.FAMPOP_CY   \n",
       "populationtotals  populationtotals.POPDENS_CY   \n",
       "populationtotals  populationtotals.POPGRW10CY   \n",
       "\n",
       "                                              alias  \\\n",
       "dataCollectionID                                      \n",
       "populationtotals              2018 Total Population   \n",
       "populationtotals      2018 Population in Households   \n",
       "populationtotals        2018 Population in Families   \n",
       "populationtotals            2018 Population Density   \n",
       "populationtotals  2010-2018 Growth Rate: Population   \n",
       "\n",
       "                                           fieldCategory vintage  \n",
       "dataCollectionID                                                  \n",
       "populationtotals  2018 Key Demographic Indicators (Esri)    2018  \n",
       "populationtotals  2018 Key Demographic Indicators (Esri)    2018  \n",
       "populationtotals  2018 Key Demographic Indicators (Esri)    2018  \n",
       "populationtotals  2018 Key Demographic Indicators (Esri)    2018  \n",
       "populationtotals  2018 Key Demographic Indicators (Esri)    2018  "
      ]
     },
     "execution_count": 71,
     "metadata": {},
     "output_type": "execute_result"
    }
   ],
   "source": [
    "df_usa.loc['populationtotals'].head()"
   ]
  },
  {
   "cell_type": "markdown",
   "metadata": {},
   "source": [
    "### Use 'populationtotals' with population data to enrich area around earthquake, using buffers and latitude and longitude. "
   ]
  },
  {
   "cell_type": "markdown",
   "metadata": {},
   "source": [
    "### 7.0 magnitude on 11/30 in Anchorage, Alaska, with 50 and 100 km buffer"
   ]
  },
  {
   "cell_type": "code",
   "execution_count": 73,
   "metadata": {},
   "outputs": [
    {
     "data": {
      "text/html": [
       "<div>\n",
       "<style scoped>\n",
       "    .dataframe tbody tr th:only-of-type {\n",
       "        vertical-align: middle;\n",
       "    }\n",
       "\n",
       "    .dataframe tbody tr th {\n",
       "        vertical-align: top;\n",
       "    }\n",
       "\n",
       "    .dataframe thead th {\n",
       "        text-align: right;\n",
       "    }\n",
       "</style>\n",
       "<table border=\"1\" class=\"dataframe\">\n",
       "  <thead>\n",
       "    <tr style=\"text-align: right;\">\n",
       "      <th></th>\n",
       "      <th>AGEBASE10</th>\n",
       "      <th>DPOPDENSCY</th>\n",
       "      <th>DPOPRES_CY</th>\n",
       "      <th>DPOPWRK_CY</th>\n",
       "      <th>DPOP_CY</th>\n",
       "      <th>FAGEBASE10</th>\n",
       "      <th>FAMPOP00</th>\n",
       "      <th>FAMPOP10</th>\n",
       "      <th>FAMPOP_CY</th>\n",
       "      <th>FAMPOP_FY</th>\n",
       "      <th>...</th>\n",
       "      <th>URPOPBAS10</th>\n",
       "      <th>aggregationMethod</th>\n",
       "      <th>apportionmentConfidence</th>\n",
       "      <th>areaType</th>\n",
       "      <th>bufferRadii</th>\n",
       "      <th>bufferUnits</th>\n",
       "      <th>bufferUnitsAlias</th>\n",
       "      <th>populationToPolygonSizeRating</th>\n",
       "      <th>sourceCountry</th>\n",
       "      <th>SHAPE</th>\n",
       "    </tr>\n",
       "  </thead>\n",
       "  <tbody>\n",
       "    <tr>\n",
       "      <th>0</th>\n",
       "      <td>353519</td>\n",
       "      <td>124.2</td>\n",
       "      <td>189960</td>\n",
       "      <td>186598</td>\n",
       "      <td>376558</td>\n",
       "      <td>173537</td>\n",
       "      <td>237987</td>\n",
       "      <td>276458</td>\n",
       "      <td>293444</td>\n",
       "      <td>303780</td>\n",
       "      <td>...</td>\n",
       "      <td>353520</td>\n",
       "      <td>BlockApportionment:US.BlockGroups</td>\n",
       "      <td>2.576</td>\n",
       "      <td>RingBuffer</td>\n",
       "      <td>50</td>\n",
       "      <td>Kilometers</td>\n",
       "      <td>Kilometers</td>\n",
       "      <td>2.191</td>\n",
       "      <td>US</td>\n",
       "      <td>{'rings': [[[-149.9234, 61.77207929613249], [-...</td>\n",
       "    </tr>\n",
       "    <tr>\n",
       "      <th>1</th>\n",
       "      <td>383682</td>\n",
       "      <td>33.7</td>\n",
       "      <td>209475</td>\n",
       "      <td>198675</td>\n",
       "      <td>408150</td>\n",
       "      <td>187856</td>\n",
       "      <td>256366</td>\n",
       "      <td>299943</td>\n",
       "      <td>321142</td>\n",
       "      <td>334069</td>\n",
       "      <td>...</td>\n",
       "      <td>383682</td>\n",
       "      <td>BlockApportionment:US.BlockGroups</td>\n",
       "      <td>2.576</td>\n",
       "      <td>RingBuffer</td>\n",
       "      <td>100</td>\n",
       "      <td>Kilometers</td>\n",
       "      <td>Kilometers</td>\n",
       "      <td>2.191</td>\n",
       "      <td>US</td>\n",
       "      <td>{'rings': [[[-149.9234, 62.22072903520303], [-...</td>\n",
       "    </tr>\n",
       "  </tbody>\n",
       "</table>\n",
       "<p>2 rows × 44 columns</p>\n",
       "</div>"
      ],
      "text/plain": [
       "   AGEBASE10  DPOPDENSCY  DPOPRES_CY  DPOPWRK_CY  DPOP_CY  FAGEBASE10  \\\n",
       "0     353519       124.2      189960      186598   376558      173537   \n",
       "1     383682        33.7      209475      198675   408150      187856   \n",
       "\n",
       "   FAMPOP00  FAMPOP10  FAMPOP_CY  FAMPOP_FY  \\\n",
       "0    237987    276458     293444     303780   \n",
       "1    256366    299943     321142     334069   \n",
       "\n",
       "                         ...                          URPOPBAS10  \\\n",
       "0                        ...                              353520   \n",
       "1                        ...                              383682   \n",
       "\n",
       "                   aggregationMethod  apportionmentConfidence    areaType  \\\n",
       "0  BlockApportionment:US.BlockGroups                    2.576  RingBuffer   \n",
       "1  BlockApportionment:US.BlockGroups                    2.576  RingBuffer   \n",
       "\n",
       "   bufferRadii  bufferUnits bufferUnitsAlias  populationToPolygonSizeRating  \\\n",
       "0           50   Kilometers       Kilometers                          2.191   \n",
       "1          100   Kilometers       Kilometers                          2.191   \n",
       "\n",
       "   sourceCountry                                              SHAPE  \n",
       "0             US  {'rings': [[[-149.9234, 61.77207929613249], [-...  \n",
       "1             US  {'rings': [[[-149.9234, 62.22072903520303], [-...  \n",
       "\n",
       "[2 rows x 44 columns]"
      ]
     },
     "execution_count": 73,
     "metadata": {},
     "output_type": "execute_result"
    }
   ],
   "source": [
    "pt1 = arcgis.geometry.Geometry({\"x\":-149.9234,\"y\":61.3234})\n",
    "buffered1 = BufferStudyArea(area= pt1, radii=[50, 100], units='Kilometers', overlap=True) \n",
    "pt1_df = enrich(study_areas=[buffered1], data_collections=['populationtotals'])\n",
    "pt1_df"
   ]
  },
  {
   "cell_type": "code",
   "execution_count": 74,
   "metadata": {},
   "outputs": [
    {
     "data": {
      "text/html": [
       "<div>\n",
       "<style scoped>\n",
       "    .dataframe tbody tr th:only-of-type {\n",
       "        vertical-align: middle;\n",
       "    }\n",
       "\n",
       "    .dataframe tbody tr th {\n",
       "        vertical-align: top;\n",
       "    }\n",
       "\n",
       "    .dataframe thead th {\n",
       "        text-align: right;\n",
       "    }\n",
       "</style>\n",
       "<table border=\"1\" class=\"dataframe\">\n",
       "  <thead>\n",
       "    <tr style=\"text-align: right;\">\n",
       "      <th></th>\n",
       "      <th>TOTPOP_CY</th>\n",
       "      <th>bufferRadii</th>\n",
       "      <th>bufferUnits</th>\n",
       "    </tr>\n",
       "  </thead>\n",
       "  <tbody>\n",
       "    <tr>\n",
       "      <th>0</th>\n",
       "      <td>377551</td>\n",
       "      <td>50</td>\n",
       "      <td>Kilometers</td>\n",
       "    </tr>\n",
       "    <tr>\n",
       "      <th>1</th>\n",
       "      <td>413820</td>\n",
       "      <td>100</td>\n",
       "      <td>Kilometers</td>\n",
       "    </tr>\n",
       "  </tbody>\n",
       "</table>\n",
       "</div>"
      ],
      "text/plain": [
       "   TOTPOP_CY  bufferRadii bufferUnits\n",
       "0     377551           50  Kilometers\n",
       "1     413820          100  Kilometers"
      ]
     },
     "execution_count": 74,
     "metadata": {},
     "output_type": "execute_result"
    }
   ],
   "source": [
    "pt1_df[['TOTPOP_CY', 'bufferRadii', 'bufferUnits']]"
   ]
  },
  {
   "cell_type": "markdown",
   "metadata": {},
   "source": [
    "### 377,551  people were affected at 50 km range and 413,820 at 100 km range for earthquake of 7.0 magnitude on 11/30 in Anchorage, Alaska"
   ]
  },
  {
   "cell_type": "markdown",
   "metadata": {},
   "source": [
    "### 5.7 magnitude on 11/21 near Redoubt Volcano, Alaska with 50 km and 100 km buffer"
   ]
  },
  {
   "cell_type": "code",
   "execution_count": 78,
   "metadata": {},
   "outputs": [
    {
     "data": {
      "text/html": [
       "<div>\n",
       "<style scoped>\n",
       "    .dataframe tbody tr th:only-of-type {\n",
       "        vertical-align: middle;\n",
       "    }\n",
       "\n",
       "    .dataframe tbody tr th {\n",
       "        vertical-align: top;\n",
       "    }\n",
       "\n",
       "    .dataframe thead th {\n",
       "        text-align: right;\n",
       "    }\n",
       "</style>\n",
       "<table border=\"1\" class=\"dataframe\">\n",
       "  <thead>\n",
       "    <tr style=\"text-align: right;\">\n",
       "      <th></th>\n",
       "      <th>TOTPOP_CY</th>\n",
       "      <th>bufferRadii</th>\n",
       "      <th>bufferUnits</th>\n",
       "    </tr>\n",
       "  </thead>\n",
       "  <tbody>\n",
       "    <tr>\n",
       "      <th>0</th>\n",
       "      <td>33</td>\n",
       "      <td>50</td>\n",
       "      <td>Kilometers</td>\n",
       "    </tr>\n",
       "    <tr>\n",
       "      <th>1</th>\n",
       "      <td>4278</td>\n",
       "      <td>100</td>\n",
       "      <td>Kilometers</td>\n",
       "    </tr>\n",
       "  </tbody>\n",
       "</table>\n",
       "</div>"
      ],
      "text/plain": [
       "   TOTPOP_CY  bufferRadii bufferUnits\n",
       "0         33           50  Kilometers\n",
       "1       4278          100  Kilometers"
      ]
     },
     "execution_count": 78,
     "metadata": {},
     "output_type": "execute_result"
    }
   ],
   "source": [
    "pt2 = arcgis.geometry.Geometry({\"x\":-153.3083,\"y\":59.9732})\n",
    "buffered2 = BufferStudyArea(area= pt2, radii=[50, 100], units='Kilometers', overlap=True) \n",
    "pt2_df = enrich(study_areas=[buffered2], data_collections=['populationtotals'])\n",
    "pt2_df[['TOTPOP_CY', 'bufferRadii', 'bufferUnits']]"
   ]
  },
  {
   "cell_type": "markdown",
   "metadata": {},
   "source": [
    "### 33 people were affected at 50 km range and 4,278 at 100 km range for earthquake of 5.7 magnitude on 11/21 near Redoubt Volcano, Alaska. This area looks very isolated. 50 km range is probably more accurate since it was of less magnitude and the USGS maps show the intensity was less because the earthquake was deep (145 km)"
   ]
  },
  {
   "cell_type": "markdown",
   "metadata": {},
   "source": [
    "### Get Iran population data for earthquake near near Sarpol-e Zahab, Iran"
   ]
  },
  {
   "cell_type": "code",
   "execution_count": 60,
   "metadata": {},
   "outputs": [
    {
     "data": {
      "text/plain": [
       "[<Country name:Hong Kong>,\n",
       " <Country name:Hungary>,\n",
       " <Country name:Iceland>,\n",
       " <Country name:India>,\n",
       " <Country name:Indonesia>,\n",
       " <Country name:Ireland>,\n",
       " <Country name:Israel>,\n",
       " <Country name:Italy>,\n",
       " <Country name:Jamaica>,\n",
       " <Country name:Japan>,\n",
       " <Country name:Jordan>,\n",
       " <Country name:Kazakhstan>,\n",
       " <Country name:Kenya>,\n",
       " <Country name:Kosovo>,\n",
       " <Country name:Kuwait>,\n",
       " <Country name:Kyrgyzstan>,\n",
       " <Country name:Latvia>,\n",
       " <Country name:Lebanon>,\n",
       " <Country name:Lesotho>,\n",
       " <Country name:Liechtenstein>,\n",
       " <Country name:Lithuania>,\n",
       " <Country name:Luxembourg>,\n",
       " <Country name:Macao>,\n",
       " <Country name:Macedonia>,\n",
       " <Country name:Malawi>,\n",
       " <Country name:Malaysia>,\n",
       " <Country name:Malta>,\n",
       " <Country name:Martinique>,\n",
       " <Country name:Mauritius>,\n",
       " <Country name:Mexico>,\n",
       " <Country name:Moldova>,\n",
       " <Country name:Monaco>,\n",
       " <Country name:Mongolia>,\n",
       " <Country name:Montenegro>,\n",
       " <Country name:Morocco>,\n",
       " <Country name:Mozambique>,\n",
       " <Country name:Namibia>,\n",
       " <Country name:Netherlands>,\n",
       " <Country name:New Caledonia>,\n",
       " <Country name:New Zealand>,\n",
       " <Country name:Nicaragua>,\n",
       " <Country name:Nigeria>,\n",
       " <Country name:Norway>,\n",
       " <Country name:Oman>,\n",
       " <Country name:Pakistan>,\n",
       " <Country name:Panama>,\n",
       " <Country name:Paraguay>,\n",
       " <Country name:Peru>,\n",
       " <Country name:Philippines>,\n",
       " <Country name:Poland>]"
      ]
     },
     "execution_count": 60,
     "metadata": {},
     "output_type": "execute_result"
    }
   ],
   "source": [
    "countries = get_countries()\n",
    "countries[50:100]"
   ]
  },
  {
   "cell_type": "markdown",
   "metadata": {},
   "source": [
    "### There is no data available for Iran so we cannot find the population affected by this earthquake"
   ]
  },
  {
   "cell_type": "markdown",
   "metadata": {},
   "source": [
    "### Get population data for earthquake near Alberto Oviedo Mota, Mexico"
   ]
  },
  {
   "cell_type": "code",
   "execution_count": 61,
   "metadata": {},
   "outputs": [
    {
     "data": {
      "text/plain": [
       "Index(['15YearIncrements', 'EducationalAttainment', 'Gender',\n",
       "       'HouseholdTotals', 'HouseholdType', 'KeyFacts', 'KeyGlobalFacts',\n",
       "       'PopulationTotals', 'PurchasingPower', 'Spending'],\n",
       "      dtype='object', name='dataCollectionID')"
      ]
     },
     "execution_count": 61,
     "metadata": {},
     "output_type": "execute_result"
    }
   ],
   "source": [
    "MEX = Country.get('MEX')\n",
    "type(MEX)\n",
    "df_MEX = MEX.data_collections\n",
    "df_MEX.index.unique()"
   ]
  },
  {
   "cell_type": "code",
   "execution_count": 63,
   "metadata": {},
   "outputs": [
    {
     "data": {
      "text/plain": [
       "array(['PopulationTotals.TOTPOP_CY', 'PopulationTotals.POPDENS_CY',\n",
       "       'PopulationTotals.POPPRM_CY'], dtype=object)"
      ]
     },
     "execution_count": 63,
     "metadata": {},
     "output_type": "execute_result"
    }
   ],
   "source": [
    "df_MEX.loc['PopulationTotals']['analysisVariable'].unique()"
   ]
  },
  {
   "cell_type": "code",
   "execution_count": 64,
   "metadata": {},
   "outputs": [
    {
     "data": {
      "text/html": [
       "<div>\n",
       "<style scoped>\n",
       "    .dataframe tbody tr th:only-of-type {\n",
       "        vertical-align: middle;\n",
       "    }\n",
       "\n",
       "    .dataframe tbody tr th {\n",
       "        vertical-align: top;\n",
       "    }\n",
       "\n",
       "    .dataframe thead th {\n",
       "        text-align: right;\n",
       "    }\n",
       "</style>\n",
       "<table border=\"1\" class=\"dataframe\">\n",
       "  <thead>\n",
       "    <tr style=\"text-align: right;\">\n",
       "      <th></th>\n",
       "      <th>analysisVariable</th>\n",
       "      <th>alias</th>\n",
       "      <th>fieldCategory</th>\n",
       "      <th>vintage</th>\n",
       "    </tr>\n",
       "    <tr>\n",
       "      <th>dataCollectionID</th>\n",
       "      <th></th>\n",
       "      <th></th>\n",
       "      <th></th>\n",
       "      <th></th>\n",
       "    </tr>\n",
       "  </thead>\n",
       "  <tbody>\n",
       "    <tr>\n",
       "      <th>PopulationTotals</th>\n",
       "      <td>PopulationTotals.TOTPOP_CY</td>\n",
       "      <td>2016 Total Population</td>\n",
       "      <td>2016 Population Totals (MBR)</td>\n",
       "      <td>2016</td>\n",
       "    </tr>\n",
       "    <tr>\n",
       "      <th>PopulationTotals</th>\n",
       "      <td>PopulationTotals.POPDENS_CY</td>\n",
       "      <td>2016 Population Density (per sq. km)</td>\n",
       "      <td>2016 Population Totals (MBR)</td>\n",
       "      <td>2016</td>\n",
       "    </tr>\n",
       "    <tr>\n",
       "      <th>PopulationTotals</th>\n",
       "      <td>PopulationTotals.POPPRM_CY</td>\n",
       "      <td>2016 Population Per Mill</td>\n",
       "      <td>2016 Population Totals (MBR)</td>\n",
       "      <td>2016</td>\n",
       "    </tr>\n",
       "  </tbody>\n",
       "</table>\n",
       "</div>"
      ],
      "text/plain": [
       "                             analysisVariable  \\\n",
       "dataCollectionID                                \n",
       "PopulationTotals   PopulationTotals.TOTPOP_CY   \n",
       "PopulationTotals  PopulationTotals.POPDENS_CY   \n",
       "PopulationTotals   PopulationTotals.POPPRM_CY   \n",
       "\n",
       "                                                 alias  \\\n",
       "dataCollectionID                                         \n",
       "PopulationTotals                 2016 Total Population   \n",
       "PopulationTotals  2016 Population Density (per sq. km)   \n",
       "PopulationTotals              2016 Population Per Mill   \n",
       "\n",
       "                                 fieldCategory vintage  \n",
       "dataCollectionID                                        \n",
       "PopulationTotals  2016 Population Totals (MBR)    2016  \n",
       "PopulationTotals  2016 Population Totals (MBR)    2016  \n",
       "PopulationTotals  2016 Population Totals (MBR)    2016  "
      ]
     },
     "execution_count": 64,
     "metadata": {},
     "output_type": "execute_result"
    }
   ],
   "source": [
    "df_MEX.loc['PopulationTotals'].head()"
   ]
  },
  {
   "cell_type": "markdown",
   "metadata": {},
   "source": [
    "### Use 'PopulationTotals' with population data to enrich area around earthquake, using buffers and latitude and longitude.\n",
    "### 4.8 magnitude on 11/19 near Alberto Oviedo Mota, Mexico, with 50 and 100 km buffer"
   ]
  },
  {
   "cell_type": "code",
   "execution_count": 65,
   "metadata": {},
   "outputs": [
    {
     "data": {
      "text/html": [
       "<div>\n",
       "<style scoped>\n",
       "    .dataframe tbody tr th:only-of-type {\n",
       "        vertical-align: middle;\n",
       "    }\n",
       "\n",
       "    .dataframe tbody tr th {\n",
       "        vertical-align: top;\n",
       "    }\n",
       "\n",
       "    .dataframe thead th {\n",
       "        text-align: right;\n",
       "    }\n",
       "</style>\n",
       "<table border=\"1\" class=\"dataframe\">\n",
       "  <thead>\n",
       "    <tr style=\"text-align: right;\">\n",
       "      <th></th>\n",
       "      <th>HasData</th>\n",
       "      <th>ID</th>\n",
       "      <th>OBJECTID</th>\n",
       "      <th>POPDENS_CY</th>\n",
       "      <th>POPPRM_CY</th>\n",
       "      <th>TOTPOP_CY</th>\n",
       "      <th>aggregationMethod</th>\n",
       "      <th>apportionmentConfidence</th>\n",
       "      <th>areaType</th>\n",
       "      <th>bufferRadii</th>\n",
       "      <th>bufferUnits</th>\n",
       "      <th>bufferUnitsAlias</th>\n",
       "      <th>populationToPolygonSizeRating</th>\n",
       "      <th>sourceCountry</th>\n",
       "      <th>SHAPE</th>\n",
       "    </tr>\n",
       "  </thead>\n",
       "  <tbody>\n",
       "    <tr>\n",
       "      <th>0</th>\n",
       "      <td>1</td>\n",
       "      <td>0</td>\n",
       "      <td>1</td>\n",
       "      <td>92.9</td>\n",
       "      <td>6.0</td>\n",
       "      <td>729743.0</td>\n",
       "      <td>BlockApportionment:MX.Municipalities</td>\n",
       "      <td>3.040</td>\n",
       "      <td>RingBuffer</td>\n",
       "      <td>50</td>\n",
       "      <td>Kilometers</td>\n",
       "      <td>Kilometers</td>\n",
       "      <td>2.550</td>\n",
       "      <td>MX</td>\n",
       "      <td>{'rings': [[[-115.2535, 32.657379400243755], [...</td>\n",
       "    </tr>\n",
       "    <tr>\n",
       "      <th>1</th>\n",
       "      <td>1</td>\n",
       "      <td>0</td>\n",
       "      <td>2</td>\n",
       "      <td>49.8</td>\n",
       "      <td>10.7</td>\n",
       "      <td>1306790.0</td>\n",
       "      <td>CentroidsInPolygon:MX.Municipalities</td>\n",
       "      <td>3.040</td>\n",
       "      <td>RingBuffer</td>\n",
       "      <td>100</td>\n",
       "      <td>Kilometers</td>\n",
       "      <td>Kilometers</td>\n",
       "      <td>2.550</td>\n",
       "      <td>MX</td>\n",
       "      <td>{'rings': [[[-115.2535, 33.10822636748008], [-...</td>\n",
       "    </tr>\n",
       "    <tr>\n",
       "      <th>2</th>\n",
       "      <td>1</td>\n",
       "      <td>0</td>\n",
       "      <td>3</td>\n",
       "      <td>NaN</td>\n",
       "      <td>NaN</td>\n",
       "      <td>NaN</td>\n",
       "      <td>BlockApportionment:US.BlockGroups</td>\n",
       "      <td>2.576</td>\n",
       "      <td>RingBuffer</td>\n",
       "      <td>100</td>\n",
       "      <td>Kilometers</td>\n",
       "      <td>Kilometers</td>\n",
       "      <td>2.191</td>\n",
       "      <td>US</td>\n",
       "      <td>{'rings': [[[-115.2535, 33.10822636748008], [-...</td>\n",
       "    </tr>\n",
       "  </tbody>\n",
       "</table>\n",
       "</div>"
      ],
      "text/plain": [
       "   HasData ID  OBJECTID  POPDENS_CY  POPPRM_CY  TOTPOP_CY  \\\n",
       "0        1  0         1        92.9        6.0   729743.0   \n",
       "1        1  0         2        49.8       10.7  1306790.0   \n",
       "2        1  0         3         NaN        NaN        NaN   \n",
       "\n",
       "                      aggregationMethod  apportionmentConfidence    areaType  \\\n",
       "0  BlockApportionment:MX.Municipalities                    3.040  RingBuffer   \n",
       "1  CentroidsInPolygon:MX.Municipalities                    3.040  RingBuffer   \n",
       "2     BlockApportionment:US.BlockGroups                    2.576  RingBuffer   \n",
       "\n",
       "   bufferRadii bufferUnits bufferUnitsAlias  populationToPolygonSizeRating  \\\n",
       "0           50  Kilometers       Kilometers                          2.550   \n",
       "1          100  Kilometers       Kilometers                          2.550   \n",
       "2          100  Kilometers       Kilometers                          2.191   \n",
       "\n",
       "  sourceCountry                                              SHAPE  \n",
       "0            MX  {'rings': [[[-115.2535, 32.657379400243755], [...  \n",
       "1            MX  {'rings': [[[-115.2535, 33.10822636748008], [-...  \n",
       "2            US  {'rings': [[[-115.2535, 33.10822636748008], [-...  "
      ]
     },
     "execution_count": 65,
     "metadata": {},
     "output_type": "execute_result"
    }
   ],
   "source": [
    "pt3 = arcgis.geometry.Geometry({\"x\":-115.2535,\"y\":32.2065})\n",
    "buffered3 = BufferStudyArea(area= pt3, radii=[50, 100], units='Kilometers', overlap=True) \n",
    "pt3_df = enrich(study_areas=[buffered3], data_collections=['PopulationTotals'])\n",
    "pt3_df"
   ]
  },
  {
   "cell_type": "markdown",
   "metadata": {},
   "source": [
    "### 729,743 people were affected at the 50 km range for 4.8 magnitude on 11/19 near Alberto Oviedo Mota, Mexico. Lower magnitude earthquake so 50 km buffer is probably more accurate. "
   ]
  },
  {
   "cell_type": "markdown",
   "metadata": {},
   "source": [
    "### Get population data for earthquake near Manjimup, Australia"
   ]
  },
  {
   "cell_type": "code",
   "execution_count": 66,
   "metadata": {},
   "outputs": [
    {
     "data": {
      "text/plain": [
       "Index(['15YearIncrements', 'AgeBySexMapDataServices', 'BuildingApprovalsMDS',\n",
       "       'ClothingMDS', 'CountryOfBirthBySexMapDataServices',\n",
       "       'DaytimePopulationMDS',\n",
       "       'DwellingStructureByTenureAndLandlordTypeMapDataServices',\n",
       "       'DwellingStructureMapDataServices', 'EducationMDS',\n",
       "       'EducationalAttainment', 'Employment', 'EntertainmentMDS',\n",
       "       'FamilyCompositionMapDataServices', 'FinancialMDS', 'FoodMDS', 'Gender',\n",
       "       'HealthAndPersonalCareMDS',\n",
       "       'HighestYearOfSchoolCompletedBySexMapDataServices',\n",
       "       'HouseholdCompositionByNumberOfResidentsMapDataServices',\n",
       "       'HouseholdIncome', 'HouseholdNetWorthMDS', 'HouseholdTotals',\n",
       "       'HouseholdType', 'HousingAndHouseholdMDS', 'KeyFacts', 'KeyGlobalFacts',\n",
       "       'LanguageSpokenAtHomeBySexMapDataServices', 'MaritalStatus',\n",
       "       'MaritalStatusByAgeAndSexMapDataServices', 'MiscellaneousMDS',\n",
       "       'OccupationBySexMapDataServices', 'PopulationTotals',\n",
       "       'PopulationTotalsBySexMapDataServices', 'PurchasingPower',\n",
       "       'ReligiousAffiliationBySexMapDataServices', 'Spending',\n",
       "       'TransportationMDS', 'TravelMDS',\n",
       "       'TypeOfEducationalInstitutionAttendingBySexMapDataServices',\n",
       "       'WeeklyHouseholdIncomeByHouseholdCompositionMapDataServices',\n",
       "       'WeeklyPersonalIncomeBySexMapDataServices'],\n",
       "      dtype='object', name='dataCollectionID')"
      ]
     },
     "execution_count": 66,
     "metadata": {},
     "output_type": "execute_result"
    }
   ],
   "source": [
    "AUS = Country.get('AUS')\n",
    "type(AUS)\n",
    "df_AUS = AUS.data_collections\n",
    "df_AUS.index.unique()"
   ]
  },
  {
   "cell_type": "code",
   "execution_count": 67,
   "metadata": {},
   "outputs": [
    {
     "data": {
      "text/plain": [
       "array(['PopulationTotals.TOTPOP_CY', 'PopulationTotals.POPDENS_CY',\n",
       "       'PopulationTotals.POPPRM_CY'], dtype=object)"
      ]
     },
     "execution_count": 67,
     "metadata": {},
     "output_type": "execute_result"
    }
   ],
   "source": [
    "df_AUS.loc['PopulationTotals']['analysisVariable'].unique()"
   ]
  },
  {
   "cell_type": "code",
   "execution_count": 68,
   "metadata": {},
   "outputs": [
    {
     "data": {
      "text/html": [
       "<div>\n",
       "<style scoped>\n",
       "    .dataframe tbody tr th:only-of-type {\n",
       "        vertical-align: middle;\n",
       "    }\n",
       "\n",
       "    .dataframe tbody tr th {\n",
       "        vertical-align: top;\n",
       "    }\n",
       "\n",
       "    .dataframe thead th {\n",
       "        text-align: right;\n",
       "    }\n",
       "</style>\n",
       "<table border=\"1\" class=\"dataframe\">\n",
       "  <thead>\n",
       "    <tr style=\"text-align: right;\">\n",
       "      <th></th>\n",
       "      <th>analysisVariable</th>\n",
       "      <th>alias</th>\n",
       "      <th>fieldCategory</th>\n",
       "      <th>vintage</th>\n",
       "    </tr>\n",
       "    <tr>\n",
       "      <th>dataCollectionID</th>\n",
       "      <th></th>\n",
       "      <th></th>\n",
       "      <th></th>\n",
       "      <th></th>\n",
       "    </tr>\n",
       "  </thead>\n",
       "  <tbody>\n",
       "    <tr>\n",
       "      <th>PopulationTotals</th>\n",
       "      <td>PopulationTotals.TOTPOP_CY</td>\n",
       "      <td>2016 Total Population</td>\n",
       "      <td>2016 Population Totals (MBR)</td>\n",
       "      <td>2016</td>\n",
       "    </tr>\n",
       "    <tr>\n",
       "      <th>PopulationTotals</th>\n",
       "      <td>PopulationTotals.POPDENS_CY</td>\n",
       "      <td>2016 Population Density (per sq. km)</td>\n",
       "      <td>2016 Population Totals (MBR)</td>\n",
       "      <td>2016</td>\n",
       "    </tr>\n",
       "    <tr>\n",
       "      <th>PopulationTotals</th>\n",
       "      <td>PopulationTotals.POPPRM_CY</td>\n",
       "      <td>2016 Population Per Mill</td>\n",
       "      <td>2016 Population Totals (MBR)</td>\n",
       "      <td>2016</td>\n",
       "    </tr>\n",
       "  </tbody>\n",
       "</table>\n",
       "</div>"
      ],
      "text/plain": [
       "                             analysisVariable  \\\n",
       "dataCollectionID                                \n",
       "PopulationTotals   PopulationTotals.TOTPOP_CY   \n",
       "PopulationTotals  PopulationTotals.POPDENS_CY   \n",
       "PopulationTotals   PopulationTotals.POPPRM_CY   \n",
       "\n",
       "                                                 alias  \\\n",
       "dataCollectionID                                         \n",
       "PopulationTotals                 2016 Total Population   \n",
       "PopulationTotals  2016 Population Density (per sq. km)   \n",
       "PopulationTotals              2016 Population Per Mill   \n",
       "\n",
       "                                 fieldCategory vintage  \n",
       "dataCollectionID                                        \n",
       "PopulationTotals  2016 Population Totals (MBR)    2016  \n",
       "PopulationTotals  2016 Population Totals (MBR)    2016  \n",
       "PopulationTotals  2016 Population Totals (MBR)    2016  "
      ]
     },
     "execution_count": 68,
     "metadata": {},
     "output_type": "execute_result"
    }
   ],
   "source": [
    "df_AUS.loc['PopulationTotals'].head()"
   ]
  },
  {
   "cell_type": "markdown",
   "metadata": {},
   "source": [
    "### Use 'PopulationTotals' with population data to enrich area around earthquake, using buffers and latitude and longitude.\n",
    "### 5.2 magnitude on 11/08 near Manjimup, Australia, with 50 and 100 km buffer"
   ]
  },
  {
   "cell_type": "code",
   "execution_count": 69,
   "metadata": {},
   "outputs": [
    {
     "data": {
      "text/html": [
       "<div>\n",
       "<style scoped>\n",
       "    .dataframe tbody tr th:only-of-type {\n",
       "        vertical-align: middle;\n",
       "    }\n",
       "\n",
       "    .dataframe tbody tr th {\n",
       "        vertical-align: top;\n",
       "    }\n",
       "\n",
       "    .dataframe thead th {\n",
       "        text-align: right;\n",
       "    }\n",
       "</style>\n",
       "<table border=\"1\" class=\"dataframe\">\n",
       "  <thead>\n",
       "    <tr style=\"text-align: right;\">\n",
       "      <th></th>\n",
       "      <th>HasData</th>\n",
       "      <th>ID</th>\n",
       "      <th>OBJECTID</th>\n",
       "      <th>POPDENS_CY</th>\n",
       "      <th>POPPRM_CY</th>\n",
       "      <th>TOTPOP_CY</th>\n",
       "      <th>aggregationMethod</th>\n",
       "      <th>apportionmentConfidence</th>\n",
       "      <th>areaType</th>\n",
       "      <th>bufferRadii</th>\n",
       "      <th>bufferUnits</th>\n",
       "      <th>bufferUnitsAlias</th>\n",
       "      <th>populationToPolygonSizeRating</th>\n",
       "      <th>sourceCountry</th>\n",
       "      <th>SHAPE</th>\n",
       "    </tr>\n",
       "  </thead>\n",
       "  <tbody>\n",
       "    <tr>\n",
       "      <th>0</th>\n",
       "      <td>1</td>\n",
       "      <td>0</td>\n",
       "      <td>1</td>\n",
       "      <td>0.3</td>\n",
       "      <td>0.1</td>\n",
       "      <td>2674</td>\n",
       "      <td>CentroidsInPolygon:AU.StatisticalAreasLevel1</td>\n",
       "      <td>2.295</td>\n",
       "      <td>RingBuffer</td>\n",
       "      <td>50</td>\n",
       "      <td>Kilometers</td>\n",
       "      <td>Kilometers</td>\n",
       "      <td>1.378</td>\n",
       "      <td>AU</td>\n",
       "      <td>{'rings': [[[116.83879999999999, -33.900043585...</td>\n",
       "    </tr>\n",
       "    <tr>\n",
       "      <th>1</th>\n",
       "      <td>1</td>\n",
       "      <td>0</td>\n",
       "      <td>2</td>\n",
       "      <td>1.1</td>\n",
       "      <td>1.4</td>\n",
       "      <td>32976</td>\n",
       "      <td>CentroidsInPolygon:AU.StatisticalAreasLevel2</td>\n",
       "      <td>2.295</td>\n",
       "      <td>RingBuffer</td>\n",
       "      <td>100</td>\n",
       "      <td>Kilometers</td>\n",
       "      <td>Kilometers</td>\n",
       "      <td>1.378</td>\n",
       "      <td>AU</td>\n",
       "      <td>{'rings': [[[116.83879999999999, -33.449254131...</td>\n",
       "    </tr>\n",
       "  </tbody>\n",
       "</table>\n",
       "</div>"
      ],
      "text/plain": [
       "   HasData ID  OBJECTID  POPDENS_CY  POPPRM_CY  TOTPOP_CY  \\\n",
       "0        1  0         1         0.3        0.1       2674   \n",
       "1        1  0         2         1.1        1.4      32976   \n",
       "\n",
       "                              aggregationMethod  apportionmentConfidence  \\\n",
       "0  CentroidsInPolygon:AU.StatisticalAreasLevel1                    2.295   \n",
       "1  CentroidsInPolygon:AU.StatisticalAreasLevel2                    2.295   \n",
       "\n",
       "     areaType  bufferRadii bufferUnits bufferUnitsAlias  \\\n",
       "0  RingBuffer           50  Kilometers       Kilometers   \n",
       "1  RingBuffer          100  Kilometers       Kilometers   \n",
       "\n",
       "   populationToPolygonSizeRating sourceCountry  \\\n",
       "0                          1.378            AU   \n",
       "1                          1.378            AU   \n",
       "\n",
       "                                               SHAPE  \n",
       "0  {'rings': [[[116.83879999999999, -33.900043585...  \n",
       "1  {'rings': [[[116.83879999999999, -33.449254131...  "
      ]
     },
     "execution_count": 69,
     "metadata": {},
     "output_type": "execute_result"
    }
   ],
   "source": [
    "pt4 = arcgis.geometry.Geometry({\"x\":116.8388,\"y\":-34.3508})\n",
    "buffered4 = BufferStudyArea(area= pt4, radii=[50, 100], units='Kilometers', overlap=True) \n",
    "pt4_df = enrich(study_areas=[buffered4], data_collections=['PopulationTotals'])\n",
    "pt4_df"
   ]
  },
  {
   "cell_type": "markdown",
   "metadata": {},
   "source": [
    "### 2,674 people were affected at the 50 km range, and 32,976 people were affected at the 100 km range for 5.2 magnitude on 11/08 near Manjimup, Australia. This area looks to be somewhat isolated. Lower magnitude earthquake so 50 km buffer may be more accurate."
   ]
  },
  {
   "cell_type": "markdown",
   "metadata": {},
   "source": [
    "## In conclusion, reasonable population estimates for number of people affected by significant earthquakes in the past month (that occured on land) are as follows:\n",
    "* 7.0 magnitude on 11/30 in Anchorage, Alaska: 377,551 people at 50 km range and 413,820 at 100 km range\n",
    "* 5.7 magnitude on 11/21 near Redoubt Volcano, Alaska: 33 people at 50 km range\n",
    "* 4.8 magnitude on 11/19 near Alberto Oviedo Mota, Mexico: 729,743 people at50 km range\n",
    "* 5.2 magnitude on 11/08 near Manjimup, Australia: 2,674 people at 50 km range"
   ]
  },
  {
   "cell_type": "markdown",
   "metadata": {},
   "source": [
    "### Bonus: plot the events on a map symbolized by potential population affected"
   ]
  },
  {
   "cell_type": "code",
   "execution_count": 82,
   "metadata": {},
   "outputs": [
    {
     "data": {
      "application/vnd.jupyter.widget-view+json": {
       "model_id": "195603d1a9344d31a79c22fff0ff4384",
       "version_major": 2,
       "version_minor": 0
      },
      "text/plain": [
       "MapView(basemaps=['dark-gray', 'dark-gray-vector', 'gray', 'gray-vector', 'hybrid', 'national-geographic', 'oc…"
      ]
     },
     "metadata": {},
     "output_type": "display_data"
    }
   ],
   "source": [
    "earthquake_map = gis.map()\n",
    "earthquake_map"
   ]
  },
  {
   "cell_type": "raw",
   "metadata": {},
   "source": [
    "earthquake_map.draw(pt1_df.to_featureset())\n",
    "earthquake_map.draw(pt2_df.to_featureset())\n",
    "earthquake_map.draw(pt3_df.to_featureset())\n",
    "earthquake_map.draw(pt4_df.to_featureset())"
   ]
  },
  {
   "cell_type": "markdown",
   "metadata": {},
   "source": [
    "### Earthquake buffers of population affected added, now adding earthquake points"
   ]
  },
  {
   "cell_type": "code",
   "execution_count": 85,
   "metadata": {},
   "outputs": [
    {
     "data": {
      "text/html": [
       "<div>\n",
       "<style scoped>\n",
       "    .dataframe tbody tr th:only-of-type {\n",
       "        vertical-align: middle;\n",
       "    }\n",
       "\n",
       "    .dataframe tbody tr th {\n",
       "        vertical-align: top;\n",
       "    }\n",
       "\n",
       "    .dataframe thead th {\n",
       "        text-align: right;\n",
       "    }\n",
       "</style>\n",
       "<table border=\"1\" class=\"dataframe\">\n",
       "  <thead>\n",
       "    <tr style=\"text-align: right;\">\n",
       "      <th></th>\n",
       "      <th>time</th>\n",
       "      <th>latitude</th>\n",
       "      <th>longitude</th>\n",
       "      <th>depth</th>\n",
       "      <th>mag</th>\n",
       "      <th>magType</th>\n",
       "      <th>id</th>\n",
       "      <th>updated</th>\n",
       "      <th>place</th>\n",
       "      <th>type</th>\n",
       "      <th>horizontalError</th>\n",
       "      <th>depthError</th>\n",
       "      <th>magError</th>\n",
       "      <th>magNst</th>\n",
       "      <th>status</th>\n",
       "      <th>locationSource</th>\n",
       "      <th>magSource</th>\n",
       "    </tr>\n",
       "  </thead>\n",
       "  <tbody>\n",
       "    <tr>\n",
       "      <th>0</th>\n",
       "      <td>2018-11-30T17:29:29.206Z</td>\n",
       "      <td>61.3234</td>\n",
       "      <td>-149.9234</td>\n",
       "      <td>44.10</td>\n",
       "      <td>7.00</td>\n",
       "      <td>mww</td>\n",
       "      <td>ak20419010</td>\n",
       "      <td>2018-12-02T01:18:05.952Z</td>\n",
       "      <td>12km N of Anchorage, Alaska</td>\n",
       "      <td>earthquake</td>\n",
       "      <td>NaN</td>\n",
       "      <td>0.30</td>\n",
       "      <td>NaN</td>\n",
       "      <td>NaN</td>\n",
       "      <td>reviewed</td>\n",
       "      <td>ak</td>\n",
       "      <td>ak</td>\n",
       "    </tr>\n",
       "    <tr>\n",
       "      <th>1</th>\n",
       "      <td>2018-11-25T16:37:31.410Z</td>\n",
       "      <td>34.3042</td>\n",
       "      <td>45.7402</td>\n",
       "      <td>10.00</td>\n",
       "      <td>6.30</td>\n",
       "      <td>mww</td>\n",
       "      <td>us1000hwdw</td>\n",
       "      <td>2018-11-29T21:57:52.931Z</td>\n",
       "      <td>20km SSW of Sarpol-e Zahab, Iran</td>\n",
       "      <td>earthquake</td>\n",
       "      <td>5.90</td>\n",
       "      <td>1.80</td>\n",
       "      <td>0.073</td>\n",
       "      <td>18.0</td>\n",
       "      <td>reviewed</td>\n",
       "      <td>us</td>\n",
       "      <td>us</td>\n",
       "    </tr>\n",
       "    <tr>\n",
       "      <th>2</th>\n",
       "      <td>2018-11-21T18:21:43.908Z</td>\n",
       "      <td>59.9732</td>\n",
       "      <td>-153.3083</td>\n",
       "      <td>145.50</td>\n",
       "      <td>5.70</td>\n",
       "      <td>ml</td>\n",
       "      <td>ak20386247</td>\n",
       "      <td>2018-11-30T21:41:28.378Z</td>\n",
       "      <td>65km SSW of Redoubt Volcano, Alaska</td>\n",
       "      <td>earthquake</td>\n",
       "      <td>NaN</td>\n",
       "      <td>0.10</td>\n",
       "      <td>NaN</td>\n",
       "      <td>NaN</td>\n",
       "      <td>reviewed</td>\n",
       "      <td>ak</td>\n",
       "      <td>ak</td>\n",
       "    </tr>\n",
       "    <tr>\n",
       "      <th>3</th>\n",
       "      <td>2018-11-19T20:18:42.510Z</td>\n",
       "      <td>32.2065</td>\n",
       "      <td>-115.2535</td>\n",
       "      <td>10.95</td>\n",
       "      <td>4.82</td>\n",
       "      <td>mw</td>\n",
       "      <td>ci38138175</td>\n",
       "      <td>2018-11-25T14:40:31.040Z</td>\n",
       "      <td>8km WSW of Alberto Oviedo Mota, B.C., MX</td>\n",
       "      <td>earthquake</td>\n",
       "      <td>0.79</td>\n",
       "      <td>31.61</td>\n",
       "      <td>NaN</td>\n",
       "      <td>6.0</td>\n",
       "      <td>reviewed</td>\n",
       "      <td>ci</td>\n",
       "      <td>ci</td>\n",
       "    </tr>\n",
       "    <tr>\n",
       "      <th>4</th>\n",
       "      <td>2018-11-08T21:07:01.460Z</td>\n",
       "      <td>-34.3508</td>\n",
       "      <td>116.8388</td>\n",
       "      <td>10.00</td>\n",
       "      <td>5.20</td>\n",
       "      <td>mww</td>\n",
       "      <td>us1000hpej</td>\n",
       "      <td>2018-11-24T06:39:45.251Z</td>\n",
       "      <td>64km ESE of Manjimup, Australia</td>\n",
       "      <td>earthquake</td>\n",
       "      <td>8.70</td>\n",
       "      <td>1.80</td>\n",
       "      <td>0.089</td>\n",
       "      <td>12.0</td>\n",
       "      <td>reviewed</td>\n",
       "      <td>us</td>\n",
       "      <td>us</td>\n",
       "    </tr>\n",
       "  </tbody>\n",
       "</table>\n",
       "</div>"
      ],
      "text/plain": [
       "                       time  latitude  longitude   depth   mag magType  \\\n",
       "0  2018-11-30T17:29:29.206Z   61.3234  -149.9234   44.10  7.00     mww   \n",
       "1  2018-11-25T16:37:31.410Z   34.3042    45.7402   10.00  6.30     mww   \n",
       "2  2018-11-21T18:21:43.908Z   59.9732  -153.3083  145.50  5.70      ml   \n",
       "3  2018-11-19T20:18:42.510Z   32.2065  -115.2535   10.95  4.82      mw   \n",
       "4  2018-11-08T21:07:01.460Z  -34.3508   116.8388   10.00  5.20     mww   \n",
       "\n",
       "           id                   updated  \\\n",
       "0  ak20419010  2018-12-02T01:18:05.952Z   \n",
       "1  us1000hwdw  2018-11-29T21:57:52.931Z   \n",
       "2  ak20386247  2018-11-30T21:41:28.378Z   \n",
       "3  ci38138175  2018-11-25T14:40:31.040Z   \n",
       "4  us1000hpej  2018-11-24T06:39:45.251Z   \n",
       "\n",
       "                                      place        type  horizontalError  \\\n",
       "0               12km N of Anchorage, Alaska  earthquake              NaN   \n",
       "1          20km SSW of Sarpol-e Zahab, Iran  earthquake             5.90   \n",
       "2       65km SSW of Redoubt Volcano, Alaska  earthquake              NaN   \n",
       "3  8km WSW of Alberto Oviedo Mota, B.C., MX  earthquake             0.79   \n",
       "4           64km ESE of Manjimup, Australia  earthquake             8.70   \n",
       "\n",
       "   depthError  magError  magNst    status locationSource magSource  \n",
       "0        0.30       NaN     NaN  reviewed             ak        ak  \n",
       "1        1.80     0.073    18.0  reviewed             us        us  \n",
       "2        0.10       NaN     NaN  reviewed             ak        ak  \n",
       "3       31.61       NaN     6.0  reviewed             ci        ci  \n",
       "4        1.80     0.089    12.0  reviewed             us        us  "
      ]
     },
     "execution_count": 85,
     "metadata": {},
     "output_type": "execute_result"
    }
   ],
   "source": [
    "df = pd.DataFrame(earthquake_csv)\n",
    "new_df = df.drop(columns= [\"nst\", \"gap\", \"dmin\", \"rms\", \"net\"])\n",
    "new_df.head()"
   ]
  },
  {
   "cell_type": "code",
   "execution_count": 86,
   "metadata": {},
   "outputs": [
    {
     "data": {
      "text/plain": [
       "[[61.3234, -149.9234],\n",
       " [34.3042, 45.7402],\n",
       " [59.9732, -153.3083],\n",
       " [32.2065, -115.2535],\n",
       " [-34.3508, 116.8388],\n",
       " [-7.403, 128.7097],\n",
       " [-17.8972, -178.9],\n",
       " [-56.2373, -122.0421],\n",
       " [-56.778, -25.3862],\n",
       " [15.5653, -49.8719],\n",
       " [71.6226, -11.2399]]"
      ]
     },
     "execution_count": 86,
     "metadata": {},
     "output_type": "execute_result"
    }
   ],
   "source": [
    "locations = new_df.iloc[:,1:3].values.tolist()\n",
    "locations"
   ]
  },
  {
   "cell_type": "code",
   "execution_count": 89,
   "metadata": {},
   "outputs": [],
   "source": [
    "sdf = SpatialDataFrame(new_df,geometry=[arcgis.geometry.Geometry({'x':r[1], 'y':r[0], \n",
    "                    'spatialReference':{'wkid':4326}}) for r in locations])"
   ]
  },
  {
   "cell_type": "code",
   "execution_count": 90,
   "metadata": {},
   "outputs": [
    {
     "data": {
      "text/html": [
       "<div>\n",
       "<style scoped>\n",
       "    .dataframe tbody tr th:only-of-type {\n",
       "        vertical-align: middle;\n",
       "    }\n",
       "\n",
       "    .dataframe tbody tr th {\n",
       "        vertical-align: top;\n",
       "    }\n",
       "\n",
       "    .dataframe thead th {\n",
       "        text-align: right;\n",
       "    }\n",
       "</style>\n",
       "<table border=\"1\" class=\"dataframe\">\n",
       "  <thead>\n",
       "    <tr style=\"text-align: right;\">\n",
       "      <th></th>\n",
       "      <th>time</th>\n",
       "      <th>latitude</th>\n",
       "      <th>longitude</th>\n",
       "      <th>depth</th>\n",
       "      <th>mag</th>\n",
       "      <th>magType</th>\n",
       "      <th>id</th>\n",
       "      <th>updated</th>\n",
       "      <th>place</th>\n",
       "      <th>type</th>\n",
       "      <th>horizontalError</th>\n",
       "      <th>depthError</th>\n",
       "      <th>magError</th>\n",
       "      <th>magNst</th>\n",
       "      <th>status</th>\n",
       "      <th>locationSource</th>\n",
       "      <th>magSource</th>\n",
       "      <th>SHAPE</th>\n",
       "    </tr>\n",
       "  </thead>\n",
       "  <tbody>\n",
       "    <tr>\n",
       "      <th>0</th>\n",
       "      <td>2018-11-30T17:29:29.206Z</td>\n",
       "      <td>61.3234</td>\n",
       "      <td>-149.9234</td>\n",
       "      <td>44.10</td>\n",
       "      <td>7.00</td>\n",
       "      <td>mww</td>\n",
       "      <td>ak20419010</td>\n",
       "      <td>2018-12-02T01:18:05.952Z</td>\n",
       "      <td>12km N of Anchorage, Alaska</td>\n",
       "      <td>earthquake</td>\n",
       "      <td>NaN</td>\n",
       "      <td>0.30</td>\n",
       "      <td>NaN</td>\n",
       "      <td>NaN</td>\n",
       "      <td>reviewed</td>\n",
       "      <td>ak</td>\n",
       "      <td>ak</td>\n",
       "      <td>{'x': -149.9234, 'y': 61.3234, 'spatialReferen...</td>\n",
       "    </tr>\n",
       "    <tr>\n",
       "      <th>1</th>\n",
       "      <td>2018-11-25T16:37:31.410Z</td>\n",
       "      <td>34.3042</td>\n",
       "      <td>45.7402</td>\n",
       "      <td>10.00</td>\n",
       "      <td>6.30</td>\n",
       "      <td>mww</td>\n",
       "      <td>us1000hwdw</td>\n",
       "      <td>2018-11-29T21:57:52.931Z</td>\n",
       "      <td>20km SSW of Sarpol-e Zahab, Iran</td>\n",
       "      <td>earthquake</td>\n",
       "      <td>5.90</td>\n",
       "      <td>1.80</td>\n",
       "      <td>0.073</td>\n",
       "      <td>18.0</td>\n",
       "      <td>reviewed</td>\n",
       "      <td>us</td>\n",
       "      <td>us</td>\n",
       "      <td>{'x': 45.7402, 'y': 34.3042, 'spatialReference...</td>\n",
       "    </tr>\n",
       "    <tr>\n",
       "      <th>2</th>\n",
       "      <td>2018-11-21T18:21:43.908Z</td>\n",
       "      <td>59.9732</td>\n",
       "      <td>-153.3083</td>\n",
       "      <td>145.50</td>\n",
       "      <td>5.70</td>\n",
       "      <td>ml</td>\n",
       "      <td>ak20386247</td>\n",
       "      <td>2018-11-30T21:41:28.378Z</td>\n",
       "      <td>65km SSW of Redoubt Volcano, Alaska</td>\n",
       "      <td>earthquake</td>\n",
       "      <td>NaN</td>\n",
       "      <td>0.10</td>\n",
       "      <td>NaN</td>\n",
       "      <td>NaN</td>\n",
       "      <td>reviewed</td>\n",
       "      <td>ak</td>\n",
       "      <td>ak</td>\n",
       "      <td>{'x': -153.3083, 'y': 59.9732, 'spatialReferen...</td>\n",
       "    </tr>\n",
       "    <tr>\n",
       "      <th>3</th>\n",
       "      <td>2018-11-19T20:18:42.510Z</td>\n",
       "      <td>32.2065</td>\n",
       "      <td>-115.2535</td>\n",
       "      <td>10.95</td>\n",
       "      <td>4.82</td>\n",
       "      <td>mw</td>\n",
       "      <td>ci38138175</td>\n",
       "      <td>2018-11-25T14:40:31.040Z</td>\n",
       "      <td>8km WSW of Alberto Oviedo Mota, B.C., MX</td>\n",
       "      <td>earthquake</td>\n",
       "      <td>0.79</td>\n",
       "      <td>31.61</td>\n",
       "      <td>NaN</td>\n",
       "      <td>6.0</td>\n",
       "      <td>reviewed</td>\n",
       "      <td>ci</td>\n",
       "      <td>ci</td>\n",
       "      <td>{'x': -115.2535, 'y': 32.2065, 'spatialReferen...</td>\n",
       "    </tr>\n",
       "    <tr>\n",
       "      <th>4</th>\n",
       "      <td>2018-11-08T21:07:01.460Z</td>\n",
       "      <td>-34.3508</td>\n",
       "      <td>116.8388</td>\n",
       "      <td>10.00</td>\n",
       "      <td>5.20</td>\n",
       "      <td>mww</td>\n",
       "      <td>us1000hpej</td>\n",
       "      <td>2018-11-24T06:39:45.251Z</td>\n",
       "      <td>64km ESE of Manjimup, Australia</td>\n",
       "      <td>earthquake</td>\n",
       "      <td>8.70</td>\n",
       "      <td>1.80</td>\n",
       "      <td>0.089</td>\n",
       "      <td>12.0</td>\n",
       "      <td>reviewed</td>\n",
       "      <td>us</td>\n",
       "      <td>us</td>\n",
       "      <td>{'x': 116.8388, 'y': -34.3508, 'spatialReferen...</td>\n",
       "    </tr>\n",
       "  </tbody>\n",
       "</table>\n",
       "</div>"
      ],
      "text/plain": [
       "                       time  latitude  longitude   depth   mag magType  \\\n",
       "0  2018-11-30T17:29:29.206Z   61.3234  -149.9234   44.10  7.00     mww   \n",
       "1  2018-11-25T16:37:31.410Z   34.3042    45.7402   10.00  6.30     mww   \n",
       "2  2018-11-21T18:21:43.908Z   59.9732  -153.3083  145.50  5.70      ml   \n",
       "3  2018-11-19T20:18:42.510Z   32.2065  -115.2535   10.95  4.82      mw   \n",
       "4  2018-11-08T21:07:01.460Z  -34.3508   116.8388   10.00  5.20     mww   \n",
       "\n",
       "           id                   updated  \\\n",
       "0  ak20419010  2018-12-02T01:18:05.952Z   \n",
       "1  us1000hwdw  2018-11-29T21:57:52.931Z   \n",
       "2  ak20386247  2018-11-30T21:41:28.378Z   \n",
       "3  ci38138175  2018-11-25T14:40:31.040Z   \n",
       "4  us1000hpej  2018-11-24T06:39:45.251Z   \n",
       "\n",
       "                                      place        type  horizontalError  \\\n",
       "0               12km N of Anchorage, Alaska  earthquake              NaN   \n",
       "1          20km SSW of Sarpol-e Zahab, Iran  earthquake             5.90   \n",
       "2       65km SSW of Redoubt Volcano, Alaska  earthquake              NaN   \n",
       "3  8km WSW of Alberto Oviedo Mota, B.C., MX  earthquake             0.79   \n",
       "4           64km ESE of Manjimup, Australia  earthquake             8.70   \n",
       "\n",
       "   depthError  magError  magNst    status locationSource magSource  \\\n",
       "0        0.30       NaN     NaN  reviewed             ak        ak   \n",
       "1        1.80     0.073    18.0  reviewed             us        us   \n",
       "2        0.10       NaN     NaN  reviewed             ak        ak   \n",
       "3       31.61       NaN     6.0  reviewed             ci        ci   \n",
       "4        1.80     0.089    12.0  reviewed             us        us   \n",
       "\n",
       "                                               SHAPE  \n",
       "0  {'x': -149.9234, 'y': 61.3234, 'spatialReferen...  \n",
       "1  {'x': 45.7402, 'y': 34.3042, 'spatialReference...  \n",
       "2  {'x': -153.3083, 'y': 59.9732, 'spatialReferen...  \n",
       "3  {'x': -115.2535, 'y': 32.2065, 'spatialReferen...  \n",
       "4  {'x': 116.8388, 'y': -34.3508, 'spatialReferen...  "
      ]
     },
     "execution_count": 90,
     "metadata": {},
     "output_type": "execute_result"
    }
   ],
   "source": [
    "sdf.head()"
   ]
  },
  {
   "cell_type": "code",
   "execution_count": 91,
   "metadata": {},
   "outputs": [
    {
     "ename": "TypeError",
     "evalue": "object of type 'bool' has no len()",
     "output_type": "error",
     "traceback": [
      "\u001b[1;31m---------------------------------------------------------------------------\u001b[0m",
      "\u001b[1;31mTypeError\u001b[0m                                 Traceback (most recent call last)",
      "\u001b[1;32mC:\\Program Files\\ArcGIS\\Pro\\bin\\Python\\envs\\arcgispro-py3\\lib\\site-packages\\pandas\\core\\ops.py\u001b[0m in \u001b[0;36mf\u001b[1;34m(self, other)\u001b[0m\n\u001b[0;32m   1333\u001b[0m             res = self._combine_const(other, func,\n\u001b[0;32m   1334\u001b[0m                                       \u001b[0merrors\u001b[0m\u001b[1;33m=\u001b[0m\u001b[1;34m'ignore'\u001b[0m\u001b[1;33m,\u001b[0m\u001b[1;33m\u001b[0m\u001b[0m\n\u001b[1;32m-> 1335\u001b[1;33m                                       try_cast=False)\n\u001b[0m\u001b[0;32m   1336\u001b[0m             \u001b[1;32mreturn\u001b[0m \u001b[0mres\u001b[0m\u001b[1;33m.\u001b[0m\u001b[0mfillna\u001b[0m\u001b[1;33m(\u001b[0m\u001b[1;32mTrue\u001b[0m\u001b[1;33m)\u001b[0m\u001b[1;33m.\u001b[0m\u001b[0mastype\u001b[0m\u001b[1;33m(\u001b[0m\u001b[0mbool\u001b[0m\u001b[1;33m)\u001b[0m\u001b[1;33m\u001b[0m\u001b[0m\n\u001b[0;32m   1337\u001b[0m \u001b[1;33m\u001b[0m\u001b[0m\n",
      "\u001b[1;32mC:\\Program Files\\ArcGIS\\Pro\\bin\\Python\\envs\\arcgispro-py3\\lib\\site-packages\\pandas\\core\\frame.py\u001b[0m in \u001b[0;36m_combine_const\u001b[1;34m(self, other, func, errors, try_cast)\u001b[0m\n\u001b[0;32m   3986\u001b[0m                                    \u001b[0merrors\u001b[0m\u001b[1;33m=\u001b[0m\u001b[0merrors\u001b[0m\u001b[1;33m,\u001b[0m\u001b[1;33m\u001b[0m\u001b[0m\n\u001b[0;32m   3987\u001b[0m                                    try_cast=try_cast)\n\u001b[1;32m-> 3988\u001b[1;33m         \u001b[1;32mreturn\u001b[0m \u001b[0mself\u001b[0m\u001b[1;33m.\u001b[0m\u001b[0m_constructor\u001b[0m\u001b[1;33m(\u001b[0m\u001b[0mnew_data\u001b[0m\u001b[1;33m)\u001b[0m\u001b[1;33m\u001b[0m\u001b[0m\n\u001b[0m\u001b[0;32m   3989\u001b[0m \u001b[1;33m\u001b[0m\u001b[0m\n\u001b[0;32m   3990\u001b[0m     \u001b[1;32mdef\u001b[0m \u001b[0m_compare_frame_evaluate\u001b[0m\u001b[1;33m(\u001b[0m\u001b[0mself\u001b[0m\u001b[1;33m,\u001b[0m \u001b[0mother\u001b[0m\u001b[1;33m,\u001b[0m \u001b[0mfunc\u001b[0m\u001b[1;33m,\u001b[0m \u001b[0mstr_rep\u001b[0m\u001b[1;33m,\u001b[0m \u001b[0mtry_cast\u001b[0m\u001b[1;33m=\u001b[0m\u001b[1;32mTrue\u001b[0m\u001b[1;33m)\u001b[0m\u001b[1;33m:\u001b[0m\u001b[1;33m\u001b[0m\u001b[0m\n",
      "\u001b[1;32mC:\\Program Files\\ArcGIS\\Pro\\bin\\Python\\envs\\arcgispro-py3\\lib\\site-packages\\arcgis\\features\\_data\\geodataset\\geodataframe.py\u001b[0m in \u001b[0;36m__init__\u001b[1;34m(self, *args, **kwargs)\u001b[0m\n\u001b[0;32m    240\u001b[0m             \u001b[1;32mif\u001b[0m \u001b[0misinstance\u001b[0m\u001b[1;33m(\u001b[0m\u001b[0mself\u001b[0m\u001b[1;33m[\u001b[0m\u001b[1;34m'SHAPE'\u001b[0m\u001b[1;33m]\u001b[0m\u001b[1;33m,\u001b[0m \u001b[1;33m(\u001b[0m\u001b[0mGeoSeries\u001b[0m\u001b[1;33m,\u001b[0m \u001b[0mpd\u001b[0m\u001b[1;33m.\u001b[0m\u001b[0mSeries\u001b[0m\u001b[1;33m)\u001b[0m\u001b[1;33m)\u001b[0m\u001b[1;33m:\u001b[0m\u001b[1;33m\u001b[0m\u001b[0m\n\u001b[0;32m    241\u001b[0m                 \u001b[1;32mif\u001b[0m \u001b[0mall\u001b[0m\u001b[1;33m(\u001b[0m\u001b[0misinstance\u001b[0m\u001b[1;33m(\u001b[0m\u001b[0mx\u001b[0m\u001b[1;33m,\u001b[0m \u001b[0m_types\u001b[0m\u001b[1;33m.\u001b[0m\u001b[0mGeometry\u001b[0m\u001b[1;33m)\u001b[0m \u001b[1;32mfor\u001b[0m \u001b[0mx\u001b[0m \u001b[1;32min\u001b[0m \u001b[0mself\u001b[0m\u001b[1;33m[\u001b[0m\u001b[0mself\u001b[0m\u001b[1;33m.\u001b[0m\u001b[0m_geometry_column_name\u001b[0m\u001b[1;33m]\u001b[0m\u001b[1;33m)\u001b[0m \u001b[1;33m==\u001b[0m \u001b[1;32mFalse\u001b[0m\u001b[1;33m:\u001b[0m\u001b[1;33m\u001b[0m\u001b[0m\n\u001b[1;32m--> 242\u001b[1;33m                     \u001b[0mgeometry\u001b[0m \u001b[1;33m=\u001b[0m \u001b[1;33m[\u001b[0m\u001b[0m_types\u001b[0m\u001b[1;33m.\u001b[0m\u001b[0mGeometry\u001b[0m\u001b[1;33m(\u001b[0m\u001b[0mg\u001b[0m\u001b[1;33m)\u001b[0m \u001b[1;32mfor\u001b[0m \u001b[0mg\u001b[0m \u001b[1;32min\u001b[0m \u001b[0mself\u001b[0m\u001b[1;33m[\u001b[0m\u001b[1;34m'SHAPE'\u001b[0m\u001b[1;33m]\u001b[0m\u001b[1;33m.\u001b[0m\u001b[0mtolist\u001b[0m\u001b[1;33m(\u001b[0m\u001b[1;33m)\u001b[0m\u001b[1;33m]\u001b[0m\u001b[1;33m\u001b[0m\u001b[0m\n\u001b[0m\u001b[0;32m    243\u001b[0m                     \u001b[1;32mdel\u001b[0m \u001b[0mself\u001b[0m\u001b[1;33m[\u001b[0m\u001b[1;34m'SHAPE'\u001b[0m\u001b[1;33m]\u001b[0m\u001b[1;33m\u001b[0m\u001b[0m\n\u001b[0;32m    244\u001b[0m                     \u001b[0mself\u001b[0m\u001b[1;33m.\u001b[0m\u001b[0mset_geometry\u001b[0m\u001b[1;33m(\u001b[0m\u001b[0mgeometry\u001b[0m\u001b[1;33m,\u001b[0m \u001b[0minplace\u001b[0m\u001b[1;33m=\u001b[0m\u001b[1;32mTrue\u001b[0m\u001b[1;33m)\u001b[0m\u001b[1;33m\u001b[0m\u001b[0m\n",
      "\u001b[1;32mC:\\Program Files\\ArcGIS\\Pro\\bin\\Python\\envs\\arcgispro-py3\\lib\\site-packages\\arcgis\\features\\_data\\geodataset\\geodataframe.py\u001b[0m in \u001b[0;36m<listcomp>\u001b[1;34m(.0)\u001b[0m\n\u001b[0;32m    240\u001b[0m             \u001b[1;32mif\u001b[0m \u001b[0misinstance\u001b[0m\u001b[1;33m(\u001b[0m\u001b[0mself\u001b[0m\u001b[1;33m[\u001b[0m\u001b[1;34m'SHAPE'\u001b[0m\u001b[1;33m]\u001b[0m\u001b[1;33m,\u001b[0m \u001b[1;33m(\u001b[0m\u001b[0mGeoSeries\u001b[0m\u001b[1;33m,\u001b[0m \u001b[0mpd\u001b[0m\u001b[1;33m.\u001b[0m\u001b[0mSeries\u001b[0m\u001b[1;33m)\u001b[0m\u001b[1;33m)\u001b[0m\u001b[1;33m:\u001b[0m\u001b[1;33m\u001b[0m\u001b[0m\n\u001b[0;32m    241\u001b[0m                 \u001b[1;32mif\u001b[0m \u001b[0mall\u001b[0m\u001b[1;33m(\u001b[0m\u001b[0misinstance\u001b[0m\u001b[1;33m(\u001b[0m\u001b[0mx\u001b[0m\u001b[1;33m,\u001b[0m \u001b[0m_types\u001b[0m\u001b[1;33m.\u001b[0m\u001b[0mGeometry\u001b[0m\u001b[1;33m)\u001b[0m \u001b[1;32mfor\u001b[0m \u001b[0mx\u001b[0m \u001b[1;32min\u001b[0m \u001b[0mself\u001b[0m\u001b[1;33m[\u001b[0m\u001b[0mself\u001b[0m\u001b[1;33m.\u001b[0m\u001b[0m_geometry_column_name\u001b[0m\u001b[1;33m]\u001b[0m\u001b[1;33m)\u001b[0m \u001b[1;33m==\u001b[0m \u001b[1;32mFalse\u001b[0m\u001b[1;33m:\u001b[0m\u001b[1;33m\u001b[0m\u001b[0m\n\u001b[1;32m--> 242\u001b[1;33m                     \u001b[0mgeometry\u001b[0m \u001b[1;33m=\u001b[0m \u001b[1;33m[\u001b[0m\u001b[0m_types\u001b[0m\u001b[1;33m.\u001b[0m\u001b[0mGeometry\u001b[0m\u001b[1;33m(\u001b[0m\u001b[0mg\u001b[0m\u001b[1;33m)\u001b[0m \u001b[1;32mfor\u001b[0m \u001b[0mg\u001b[0m \u001b[1;32min\u001b[0m \u001b[0mself\u001b[0m\u001b[1;33m[\u001b[0m\u001b[1;34m'SHAPE'\u001b[0m\u001b[1;33m]\u001b[0m\u001b[1;33m.\u001b[0m\u001b[0mtolist\u001b[0m\u001b[1;33m(\u001b[0m\u001b[1;33m)\u001b[0m\u001b[1;33m]\u001b[0m\u001b[1;33m\u001b[0m\u001b[0m\n\u001b[0m\u001b[0;32m    243\u001b[0m                     \u001b[1;32mdel\u001b[0m \u001b[0mself\u001b[0m\u001b[1;33m[\u001b[0m\u001b[1;34m'SHAPE'\u001b[0m\u001b[1;33m]\u001b[0m\u001b[1;33m\u001b[0m\u001b[0m\n\u001b[0;32m    244\u001b[0m                     \u001b[0mself\u001b[0m\u001b[1;33m.\u001b[0m\u001b[0mset_geometry\u001b[0m\u001b[1;33m(\u001b[0m\u001b[0mgeometry\u001b[0m\u001b[1;33m,\u001b[0m \u001b[0minplace\u001b[0m\u001b[1;33m=\u001b[0m\u001b[1;32mTrue\u001b[0m\u001b[1;33m)\u001b[0m\u001b[1;33m\u001b[0m\u001b[0m\n",
      "\u001b[1;32mC:\\Program Files\\ArcGIS\\Pro\\bin\\Python\\envs\\arcgispro-py3\\lib\\site-packages\\arcgis\\geometry\\_types.py\u001b[0m in \u001b[0;36m__call__\u001b[1;34m(cls, iterable, **kwargs)\u001b[0m\n\u001b[0;32m    135\u001b[0m                 \u001b[0miterable\u001b[0m \u001b[1;33m=\u001b[0m \u001b[0miterable\u001b[0m\u001b[1;33m.\u001b[0m\u001b[0mJSON\u001b[0m\u001b[1;33m\u001b[0m\u001b[0m\n\u001b[0;32m    136\u001b[0m         \u001b[1;32mif\u001b[0m \u001b[0mcls\u001b[0m \u001b[1;32mis\u001b[0m \u001b[0mGeometry\u001b[0m\u001b[1;33m:\u001b[0m\u001b[1;33m\u001b[0m\u001b[0m\n\u001b[1;32m--> 137\u001b[1;33m             \u001b[1;32mif\u001b[0m \u001b[0mlen\u001b[0m\u001b[1;33m(\u001b[0m\u001b[0miterable\u001b[0m\u001b[1;33m)\u001b[0m \u001b[1;33m>\u001b[0m \u001b[1;36m0\u001b[0m\u001b[1;33m:\u001b[0m\u001b[1;33m\u001b[0m\u001b[0m\n\u001b[0m\u001b[0;32m    138\u001b[0m                 \u001b[1;32mif\u001b[0m \u001b[0misinstance\u001b[0m\u001b[1;33m(\u001b[0m\u001b[0miterable\u001b[0m\u001b[1;33m,\u001b[0m \u001b[0mdict\u001b[0m\u001b[1;33m)\u001b[0m\u001b[1;33m:\u001b[0m\u001b[1;33m\u001b[0m\u001b[0m\n\u001b[0;32m    139\u001b[0m                     \u001b[1;32mif\u001b[0m \u001b[1;34m'x'\u001b[0m \u001b[1;32min\u001b[0m \u001b[0miterable\u001b[0m \u001b[1;32mand\u001b[0m\u001b[0;31m \u001b[0m\u001b[0;31m\\\u001b[0m\u001b[1;33m\u001b[0m\u001b[0m\n",
      "\u001b[1;31mTypeError\u001b[0m: object of type 'bool' has no len()"
     ]
    },
    {
     "ename": "TypeError",
     "evalue": "object of type 'bool' has no len()",
     "output_type": "error",
     "traceback": [
      "\u001b[1;31m---------------------------------------------------------------------------\u001b[0m",
      "\u001b[1;31mTypeError\u001b[0m                                 Traceback (most recent call last)",
      "\u001b[1;32mC:\\Program Files\\ArcGIS\\Pro\\bin\\Python\\envs\\arcgispro-py3\\lib\\site-packages\\pandas\\core\\ops.py\u001b[0m in \u001b[0;36mf\u001b[1;34m(self, other)\u001b[0m\n\u001b[0;32m   1333\u001b[0m             res = self._combine_const(other, func,\n\u001b[0;32m   1334\u001b[0m                                       \u001b[0merrors\u001b[0m\u001b[1;33m=\u001b[0m\u001b[1;34m'ignore'\u001b[0m\u001b[1;33m,\u001b[0m\u001b[1;33m\u001b[0m\u001b[0m\n\u001b[1;32m-> 1335\u001b[1;33m                                       try_cast=False)\n\u001b[0m\u001b[0;32m   1336\u001b[0m             \u001b[1;32mreturn\u001b[0m \u001b[0mres\u001b[0m\u001b[1;33m.\u001b[0m\u001b[0mfillna\u001b[0m\u001b[1;33m(\u001b[0m\u001b[1;32mTrue\u001b[0m\u001b[1;33m)\u001b[0m\u001b[1;33m.\u001b[0m\u001b[0mastype\u001b[0m\u001b[1;33m(\u001b[0m\u001b[0mbool\u001b[0m\u001b[1;33m)\u001b[0m\u001b[1;33m\u001b[0m\u001b[0m\n\u001b[0;32m   1337\u001b[0m \u001b[1;33m\u001b[0m\u001b[0m\n",
      "\u001b[1;32mC:\\Program Files\\ArcGIS\\Pro\\bin\\Python\\envs\\arcgispro-py3\\lib\\site-packages\\pandas\\core\\frame.py\u001b[0m in \u001b[0;36m_combine_const\u001b[1;34m(self, other, func, errors, try_cast)\u001b[0m\n\u001b[0;32m   3986\u001b[0m                                    \u001b[0merrors\u001b[0m\u001b[1;33m=\u001b[0m\u001b[0merrors\u001b[0m\u001b[1;33m,\u001b[0m\u001b[1;33m\u001b[0m\u001b[0m\n\u001b[0;32m   3987\u001b[0m                                    try_cast=try_cast)\n\u001b[1;32m-> 3988\u001b[1;33m         \u001b[1;32mreturn\u001b[0m \u001b[0mself\u001b[0m\u001b[1;33m.\u001b[0m\u001b[0m_constructor\u001b[0m\u001b[1;33m(\u001b[0m\u001b[0mnew_data\u001b[0m\u001b[1;33m)\u001b[0m\u001b[1;33m\u001b[0m\u001b[0m\n\u001b[0m\u001b[0;32m   3989\u001b[0m \u001b[1;33m\u001b[0m\u001b[0m\n\u001b[0;32m   3990\u001b[0m     \u001b[1;32mdef\u001b[0m \u001b[0m_compare_frame_evaluate\u001b[0m\u001b[1;33m(\u001b[0m\u001b[0mself\u001b[0m\u001b[1;33m,\u001b[0m \u001b[0mother\u001b[0m\u001b[1;33m,\u001b[0m \u001b[0mfunc\u001b[0m\u001b[1;33m,\u001b[0m \u001b[0mstr_rep\u001b[0m\u001b[1;33m,\u001b[0m \u001b[0mtry_cast\u001b[0m\u001b[1;33m=\u001b[0m\u001b[1;32mTrue\u001b[0m\u001b[1;33m)\u001b[0m\u001b[1;33m:\u001b[0m\u001b[1;33m\u001b[0m\u001b[0m\n",
      "\u001b[1;32mC:\\Program Files\\ArcGIS\\Pro\\bin\\Python\\envs\\arcgispro-py3\\lib\\site-packages\\arcgis\\features\\_data\\geodataset\\geodataframe.py\u001b[0m in \u001b[0;36m__init__\u001b[1;34m(self, *args, **kwargs)\u001b[0m\n\u001b[0;32m    240\u001b[0m             \u001b[1;32mif\u001b[0m \u001b[0misinstance\u001b[0m\u001b[1;33m(\u001b[0m\u001b[0mself\u001b[0m\u001b[1;33m[\u001b[0m\u001b[1;34m'SHAPE'\u001b[0m\u001b[1;33m]\u001b[0m\u001b[1;33m,\u001b[0m \u001b[1;33m(\u001b[0m\u001b[0mGeoSeries\u001b[0m\u001b[1;33m,\u001b[0m \u001b[0mpd\u001b[0m\u001b[1;33m.\u001b[0m\u001b[0mSeries\u001b[0m\u001b[1;33m)\u001b[0m\u001b[1;33m)\u001b[0m\u001b[1;33m:\u001b[0m\u001b[1;33m\u001b[0m\u001b[0m\n\u001b[0;32m    241\u001b[0m                 \u001b[1;32mif\u001b[0m \u001b[0mall\u001b[0m\u001b[1;33m(\u001b[0m\u001b[0misinstance\u001b[0m\u001b[1;33m(\u001b[0m\u001b[0mx\u001b[0m\u001b[1;33m,\u001b[0m \u001b[0m_types\u001b[0m\u001b[1;33m.\u001b[0m\u001b[0mGeometry\u001b[0m\u001b[1;33m)\u001b[0m \u001b[1;32mfor\u001b[0m \u001b[0mx\u001b[0m \u001b[1;32min\u001b[0m \u001b[0mself\u001b[0m\u001b[1;33m[\u001b[0m\u001b[0mself\u001b[0m\u001b[1;33m.\u001b[0m\u001b[0m_geometry_column_name\u001b[0m\u001b[1;33m]\u001b[0m\u001b[1;33m)\u001b[0m \u001b[1;33m==\u001b[0m \u001b[1;32mFalse\u001b[0m\u001b[1;33m:\u001b[0m\u001b[1;33m\u001b[0m\u001b[0m\n\u001b[1;32m--> 242\u001b[1;33m                     \u001b[0mgeometry\u001b[0m \u001b[1;33m=\u001b[0m \u001b[1;33m[\u001b[0m\u001b[0m_types\u001b[0m\u001b[1;33m.\u001b[0m\u001b[0mGeometry\u001b[0m\u001b[1;33m(\u001b[0m\u001b[0mg\u001b[0m\u001b[1;33m)\u001b[0m \u001b[1;32mfor\u001b[0m \u001b[0mg\u001b[0m \u001b[1;32min\u001b[0m \u001b[0mself\u001b[0m\u001b[1;33m[\u001b[0m\u001b[1;34m'SHAPE'\u001b[0m\u001b[1;33m]\u001b[0m\u001b[1;33m.\u001b[0m\u001b[0mtolist\u001b[0m\u001b[1;33m(\u001b[0m\u001b[1;33m)\u001b[0m\u001b[1;33m]\u001b[0m\u001b[1;33m\u001b[0m\u001b[0m\n\u001b[0m\u001b[0;32m    243\u001b[0m                     \u001b[1;32mdel\u001b[0m \u001b[0mself\u001b[0m\u001b[1;33m[\u001b[0m\u001b[1;34m'SHAPE'\u001b[0m\u001b[1;33m]\u001b[0m\u001b[1;33m\u001b[0m\u001b[0m\n\u001b[0;32m    244\u001b[0m                     \u001b[0mself\u001b[0m\u001b[1;33m.\u001b[0m\u001b[0mset_geometry\u001b[0m\u001b[1;33m(\u001b[0m\u001b[0mgeometry\u001b[0m\u001b[1;33m,\u001b[0m \u001b[0minplace\u001b[0m\u001b[1;33m=\u001b[0m\u001b[1;32mTrue\u001b[0m\u001b[1;33m)\u001b[0m\u001b[1;33m\u001b[0m\u001b[0m\n",
      "\u001b[1;32mC:\\Program Files\\ArcGIS\\Pro\\bin\\Python\\envs\\arcgispro-py3\\lib\\site-packages\\arcgis\\features\\_data\\geodataset\\geodataframe.py\u001b[0m in \u001b[0;36m<listcomp>\u001b[1;34m(.0)\u001b[0m\n\u001b[0;32m    240\u001b[0m             \u001b[1;32mif\u001b[0m \u001b[0misinstance\u001b[0m\u001b[1;33m(\u001b[0m\u001b[0mself\u001b[0m\u001b[1;33m[\u001b[0m\u001b[1;34m'SHAPE'\u001b[0m\u001b[1;33m]\u001b[0m\u001b[1;33m,\u001b[0m \u001b[1;33m(\u001b[0m\u001b[0mGeoSeries\u001b[0m\u001b[1;33m,\u001b[0m \u001b[0mpd\u001b[0m\u001b[1;33m.\u001b[0m\u001b[0mSeries\u001b[0m\u001b[1;33m)\u001b[0m\u001b[1;33m)\u001b[0m\u001b[1;33m:\u001b[0m\u001b[1;33m\u001b[0m\u001b[0m\n\u001b[0;32m    241\u001b[0m                 \u001b[1;32mif\u001b[0m \u001b[0mall\u001b[0m\u001b[1;33m(\u001b[0m\u001b[0misinstance\u001b[0m\u001b[1;33m(\u001b[0m\u001b[0mx\u001b[0m\u001b[1;33m,\u001b[0m \u001b[0m_types\u001b[0m\u001b[1;33m.\u001b[0m\u001b[0mGeometry\u001b[0m\u001b[1;33m)\u001b[0m \u001b[1;32mfor\u001b[0m \u001b[0mx\u001b[0m \u001b[1;32min\u001b[0m \u001b[0mself\u001b[0m\u001b[1;33m[\u001b[0m\u001b[0mself\u001b[0m\u001b[1;33m.\u001b[0m\u001b[0m_geometry_column_name\u001b[0m\u001b[1;33m]\u001b[0m\u001b[1;33m)\u001b[0m \u001b[1;33m==\u001b[0m \u001b[1;32mFalse\u001b[0m\u001b[1;33m:\u001b[0m\u001b[1;33m\u001b[0m\u001b[0m\n\u001b[1;32m--> 242\u001b[1;33m                     \u001b[0mgeometry\u001b[0m \u001b[1;33m=\u001b[0m \u001b[1;33m[\u001b[0m\u001b[0m_types\u001b[0m\u001b[1;33m.\u001b[0m\u001b[0mGeometry\u001b[0m\u001b[1;33m(\u001b[0m\u001b[0mg\u001b[0m\u001b[1;33m)\u001b[0m \u001b[1;32mfor\u001b[0m \u001b[0mg\u001b[0m \u001b[1;32min\u001b[0m \u001b[0mself\u001b[0m\u001b[1;33m[\u001b[0m\u001b[1;34m'SHAPE'\u001b[0m\u001b[1;33m]\u001b[0m\u001b[1;33m.\u001b[0m\u001b[0mtolist\u001b[0m\u001b[1;33m(\u001b[0m\u001b[1;33m)\u001b[0m\u001b[1;33m]\u001b[0m\u001b[1;33m\u001b[0m\u001b[0m\n\u001b[0m\u001b[0;32m    243\u001b[0m                     \u001b[1;32mdel\u001b[0m \u001b[0mself\u001b[0m\u001b[1;33m[\u001b[0m\u001b[1;34m'SHAPE'\u001b[0m\u001b[1;33m]\u001b[0m\u001b[1;33m\u001b[0m\u001b[0m\n\u001b[0;32m    244\u001b[0m                     \u001b[0mself\u001b[0m\u001b[1;33m.\u001b[0m\u001b[0mset_geometry\u001b[0m\u001b[1;33m(\u001b[0m\u001b[0mgeometry\u001b[0m\u001b[1;33m,\u001b[0m \u001b[0minplace\u001b[0m\u001b[1;33m=\u001b[0m\u001b[1;32mTrue\u001b[0m\u001b[1;33m)\u001b[0m\u001b[1;33m\u001b[0m\u001b[0m\n",
      "\u001b[1;32mC:\\Program Files\\ArcGIS\\Pro\\bin\\Python\\envs\\arcgispro-py3\\lib\\site-packages\\arcgis\\geometry\\_types.py\u001b[0m in \u001b[0;36m__call__\u001b[1;34m(cls, iterable, **kwargs)\u001b[0m\n\u001b[0;32m    135\u001b[0m                 \u001b[0miterable\u001b[0m \u001b[1;33m=\u001b[0m \u001b[0miterable\u001b[0m\u001b[1;33m.\u001b[0m\u001b[0mJSON\u001b[0m\u001b[1;33m\u001b[0m\u001b[0m\n\u001b[0;32m    136\u001b[0m         \u001b[1;32mif\u001b[0m \u001b[0mcls\u001b[0m \u001b[1;32mis\u001b[0m \u001b[0mGeometry\u001b[0m\u001b[1;33m:\u001b[0m\u001b[1;33m\u001b[0m\u001b[0m\n\u001b[1;32m--> 137\u001b[1;33m             \u001b[1;32mif\u001b[0m \u001b[0mlen\u001b[0m\u001b[1;33m(\u001b[0m\u001b[0miterable\u001b[0m\u001b[1;33m)\u001b[0m \u001b[1;33m>\u001b[0m \u001b[1;36m0\u001b[0m\u001b[1;33m:\u001b[0m\u001b[1;33m\u001b[0m\u001b[0m\n\u001b[0m\u001b[0;32m    138\u001b[0m                 \u001b[1;32mif\u001b[0m \u001b[0misinstance\u001b[0m\u001b[1;33m(\u001b[0m\u001b[0miterable\u001b[0m\u001b[1;33m,\u001b[0m \u001b[0mdict\u001b[0m\u001b[1;33m)\u001b[0m\u001b[1;33m:\u001b[0m\u001b[1;33m\u001b[0m\u001b[0m\n\u001b[0;32m    139\u001b[0m                     \u001b[1;32mif\u001b[0m \u001b[1;34m'x'\u001b[0m \u001b[1;32min\u001b[0m \u001b[0miterable\u001b[0m \u001b[1;32mand\u001b[0m\u001b[0;31m \u001b[0m\u001b[0;31m\\\u001b[0m\u001b[1;33m\u001b[0m\u001b[0m\n",
      "\u001b[1;31mTypeError\u001b[0m: object of type 'bool' has no len()"
     ]
    },
    {
     "ename": "TypeError",
     "evalue": "object of type 'bool' has no len()",
     "output_type": "error",
     "traceback": [
      "\u001b[1;31m---------------------------------------------------------------------------\u001b[0m",
      "\u001b[1;31mTypeError\u001b[0m                                 Traceback (most recent call last)",
      "\u001b[1;32mC:\\Program Files\\ArcGIS\\Pro\\bin\\Python\\envs\\arcgispro-py3\\lib\\site-packages\\pandas\\core\\ops.py\u001b[0m in \u001b[0;36mf\u001b[1;34m(self, other)\u001b[0m\n\u001b[0;32m   1333\u001b[0m             res = self._combine_const(other, func,\n\u001b[0;32m   1334\u001b[0m                                       \u001b[0merrors\u001b[0m\u001b[1;33m=\u001b[0m\u001b[1;34m'ignore'\u001b[0m\u001b[1;33m,\u001b[0m\u001b[1;33m\u001b[0m\u001b[0m\n\u001b[1;32m-> 1335\u001b[1;33m                                       try_cast=False)\n\u001b[0m\u001b[0;32m   1336\u001b[0m             \u001b[1;32mreturn\u001b[0m \u001b[0mres\u001b[0m\u001b[1;33m.\u001b[0m\u001b[0mfillna\u001b[0m\u001b[1;33m(\u001b[0m\u001b[1;32mTrue\u001b[0m\u001b[1;33m)\u001b[0m\u001b[1;33m.\u001b[0m\u001b[0mastype\u001b[0m\u001b[1;33m(\u001b[0m\u001b[0mbool\u001b[0m\u001b[1;33m)\u001b[0m\u001b[1;33m\u001b[0m\u001b[0m\n\u001b[0;32m   1337\u001b[0m \u001b[1;33m\u001b[0m\u001b[0m\n",
      "\u001b[1;32mC:\\Program Files\\ArcGIS\\Pro\\bin\\Python\\envs\\arcgispro-py3\\lib\\site-packages\\pandas\\core\\frame.py\u001b[0m in \u001b[0;36m_combine_const\u001b[1;34m(self, other, func, errors, try_cast)\u001b[0m\n\u001b[0;32m   3986\u001b[0m                                    \u001b[0merrors\u001b[0m\u001b[1;33m=\u001b[0m\u001b[0merrors\u001b[0m\u001b[1;33m,\u001b[0m\u001b[1;33m\u001b[0m\u001b[0m\n\u001b[0;32m   3987\u001b[0m                                    try_cast=try_cast)\n\u001b[1;32m-> 3988\u001b[1;33m         \u001b[1;32mreturn\u001b[0m \u001b[0mself\u001b[0m\u001b[1;33m.\u001b[0m\u001b[0m_constructor\u001b[0m\u001b[1;33m(\u001b[0m\u001b[0mnew_data\u001b[0m\u001b[1;33m)\u001b[0m\u001b[1;33m\u001b[0m\u001b[0m\n\u001b[0m\u001b[0;32m   3989\u001b[0m \u001b[1;33m\u001b[0m\u001b[0m\n\u001b[0;32m   3990\u001b[0m     \u001b[1;32mdef\u001b[0m \u001b[0m_compare_frame_evaluate\u001b[0m\u001b[1;33m(\u001b[0m\u001b[0mself\u001b[0m\u001b[1;33m,\u001b[0m \u001b[0mother\u001b[0m\u001b[1;33m,\u001b[0m \u001b[0mfunc\u001b[0m\u001b[1;33m,\u001b[0m \u001b[0mstr_rep\u001b[0m\u001b[1;33m,\u001b[0m \u001b[0mtry_cast\u001b[0m\u001b[1;33m=\u001b[0m\u001b[1;32mTrue\u001b[0m\u001b[1;33m)\u001b[0m\u001b[1;33m:\u001b[0m\u001b[1;33m\u001b[0m\u001b[0m\n",
      "\u001b[1;32mC:\\Program Files\\ArcGIS\\Pro\\bin\\Python\\envs\\arcgispro-py3\\lib\\site-packages\\arcgis\\features\\_data\\geodataset\\geodataframe.py\u001b[0m in \u001b[0;36m__init__\u001b[1;34m(self, *args, **kwargs)\u001b[0m\n\u001b[0;32m    240\u001b[0m             \u001b[1;32mif\u001b[0m \u001b[0misinstance\u001b[0m\u001b[1;33m(\u001b[0m\u001b[0mself\u001b[0m\u001b[1;33m[\u001b[0m\u001b[1;34m'SHAPE'\u001b[0m\u001b[1;33m]\u001b[0m\u001b[1;33m,\u001b[0m \u001b[1;33m(\u001b[0m\u001b[0mGeoSeries\u001b[0m\u001b[1;33m,\u001b[0m \u001b[0mpd\u001b[0m\u001b[1;33m.\u001b[0m\u001b[0mSeries\u001b[0m\u001b[1;33m)\u001b[0m\u001b[1;33m)\u001b[0m\u001b[1;33m:\u001b[0m\u001b[1;33m\u001b[0m\u001b[0m\n\u001b[0;32m    241\u001b[0m                 \u001b[1;32mif\u001b[0m \u001b[0mall\u001b[0m\u001b[1;33m(\u001b[0m\u001b[0misinstance\u001b[0m\u001b[1;33m(\u001b[0m\u001b[0mx\u001b[0m\u001b[1;33m,\u001b[0m \u001b[0m_types\u001b[0m\u001b[1;33m.\u001b[0m\u001b[0mGeometry\u001b[0m\u001b[1;33m)\u001b[0m \u001b[1;32mfor\u001b[0m \u001b[0mx\u001b[0m \u001b[1;32min\u001b[0m \u001b[0mself\u001b[0m\u001b[1;33m[\u001b[0m\u001b[0mself\u001b[0m\u001b[1;33m.\u001b[0m\u001b[0m_geometry_column_name\u001b[0m\u001b[1;33m]\u001b[0m\u001b[1;33m)\u001b[0m \u001b[1;33m==\u001b[0m \u001b[1;32mFalse\u001b[0m\u001b[1;33m:\u001b[0m\u001b[1;33m\u001b[0m\u001b[0m\n\u001b[1;32m--> 242\u001b[1;33m                     \u001b[0mgeometry\u001b[0m \u001b[1;33m=\u001b[0m \u001b[1;33m[\u001b[0m\u001b[0m_types\u001b[0m\u001b[1;33m.\u001b[0m\u001b[0mGeometry\u001b[0m\u001b[1;33m(\u001b[0m\u001b[0mg\u001b[0m\u001b[1;33m)\u001b[0m \u001b[1;32mfor\u001b[0m \u001b[0mg\u001b[0m \u001b[1;32min\u001b[0m \u001b[0mself\u001b[0m\u001b[1;33m[\u001b[0m\u001b[1;34m'SHAPE'\u001b[0m\u001b[1;33m]\u001b[0m\u001b[1;33m.\u001b[0m\u001b[0mtolist\u001b[0m\u001b[1;33m(\u001b[0m\u001b[1;33m)\u001b[0m\u001b[1;33m]\u001b[0m\u001b[1;33m\u001b[0m\u001b[0m\n\u001b[0m\u001b[0;32m    243\u001b[0m                     \u001b[1;32mdel\u001b[0m \u001b[0mself\u001b[0m\u001b[1;33m[\u001b[0m\u001b[1;34m'SHAPE'\u001b[0m\u001b[1;33m]\u001b[0m\u001b[1;33m\u001b[0m\u001b[0m\n\u001b[0;32m    244\u001b[0m                     \u001b[0mself\u001b[0m\u001b[1;33m.\u001b[0m\u001b[0mset_geometry\u001b[0m\u001b[1;33m(\u001b[0m\u001b[0mgeometry\u001b[0m\u001b[1;33m,\u001b[0m \u001b[0minplace\u001b[0m\u001b[1;33m=\u001b[0m\u001b[1;32mTrue\u001b[0m\u001b[1;33m)\u001b[0m\u001b[1;33m\u001b[0m\u001b[0m\n",
      "\u001b[1;32mC:\\Program Files\\ArcGIS\\Pro\\bin\\Python\\envs\\arcgispro-py3\\lib\\site-packages\\arcgis\\features\\_data\\geodataset\\geodataframe.py\u001b[0m in \u001b[0;36m<listcomp>\u001b[1;34m(.0)\u001b[0m\n\u001b[0;32m    240\u001b[0m             \u001b[1;32mif\u001b[0m \u001b[0misinstance\u001b[0m\u001b[1;33m(\u001b[0m\u001b[0mself\u001b[0m\u001b[1;33m[\u001b[0m\u001b[1;34m'SHAPE'\u001b[0m\u001b[1;33m]\u001b[0m\u001b[1;33m,\u001b[0m \u001b[1;33m(\u001b[0m\u001b[0mGeoSeries\u001b[0m\u001b[1;33m,\u001b[0m \u001b[0mpd\u001b[0m\u001b[1;33m.\u001b[0m\u001b[0mSeries\u001b[0m\u001b[1;33m)\u001b[0m\u001b[1;33m)\u001b[0m\u001b[1;33m:\u001b[0m\u001b[1;33m\u001b[0m\u001b[0m\n\u001b[0;32m    241\u001b[0m                 \u001b[1;32mif\u001b[0m \u001b[0mall\u001b[0m\u001b[1;33m(\u001b[0m\u001b[0misinstance\u001b[0m\u001b[1;33m(\u001b[0m\u001b[0mx\u001b[0m\u001b[1;33m,\u001b[0m \u001b[0m_types\u001b[0m\u001b[1;33m.\u001b[0m\u001b[0mGeometry\u001b[0m\u001b[1;33m)\u001b[0m \u001b[1;32mfor\u001b[0m \u001b[0mx\u001b[0m \u001b[1;32min\u001b[0m \u001b[0mself\u001b[0m\u001b[1;33m[\u001b[0m\u001b[0mself\u001b[0m\u001b[1;33m.\u001b[0m\u001b[0m_geometry_column_name\u001b[0m\u001b[1;33m]\u001b[0m\u001b[1;33m)\u001b[0m \u001b[1;33m==\u001b[0m \u001b[1;32mFalse\u001b[0m\u001b[1;33m:\u001b[0m\u001b[1;33m\u001b[0m\u001b[0m\n\u001b[1;32m--> 242\u001b[1;33m                     \u001b[0mgeometry\u001b[0m \u001b[1;33m=\u001b[0m \u001b[1;33m[\u001b[0m\u001b[0m_types\u001b[0m\u001b[1;33m.\u001b[0m\u001b[0mGeometry\u001b[0m\u001b[1;33m(\u001b[0m\u001b[0mg\u001b[0m\u001b[1;33m)\u001b[0m \u001b[1;32mfor\u001b[0m \u001b[0mg\u001b[0m \u001b[1;32min\u001b[0m \u001b[0mself\u001b[0m\u001b[1;33m[\u001b[0m\u001b[1;34m'SHAPE'\u001b[0m\u001b[1;33m]\u001b[0m\u001b[1;33m.\u001b[0m\u001b[0mtolist\u001b[0m\u001b[1;33m(\u001b[0m\u001b[1;33m)\u001b[0m\u001b[1;33m]\u001b[0m\u001b[1;33m\u001b[0m\u001b[0m\n\u001b[0m\u001b[0;32m    243\u001b[0m                     \u001b[1;32mdel\u001b[0m \u001b[0mself\u001b[0m\u001b[1;33m[\u001b[0m\u001b[1;34m'SHAPE'\u001b[0m\u001b[1;33m]\u001b[0m\u001b[1;33m\u001b[0m\u001b[0m\n\u001b[0;32m    244\u001b[0m                     \u001b[0mself\u001b[0m\u001b[1;33m.\u001b[0m\u001b[0mset_geometry\u001b[0m\u001b[1;33m(\u001b[0m\u001b[0mgeometry\u001b[0m\u001b[1;33m,\u001b[0m \u001b[0minplace\u001b[0m\u001b[1;33m=\u001b[0m\u001b[1;32mTrue\u001b[0m\u001b[1;33m)\u001b[0m\u001b[1;33m\u001b[0m\u001b[0m\n",
      "\u001b[1;32mC:\\Program Files\\ArcGIS\\Pro\\bin\\Python\\envs\\arcgispro-py3\\lib\\site-packages\\arcgis\\geometry\\_types.py\u001b[0m in \u001b[0;36m__call__\u001b[1;34m(cls, iterable, **kwargs)\u001b[0m\n\u001b[0;32m    135\u001b[0m                 \u001b[0miterable\u001b[0m \u001b[1;33m=\u001b[0m \u001b[0miterable\u001b[0m\u001b[1;33m.\u001b[0m\u001b[0mJSON\u001b[0m\u001b[1;33m\u001b[0m\u001b[0m\n\u001b[0;32m    136\u001b[0m         \u001b[1;32mif\u001b[0m \u001b[0mcls\u001b[0m \u001b[1;32mis\u001b[0m \u001b[0mGeometry\u001b[0m\u001b[1;33m:\u001b[0m\u001b[1;33m\u001b[0m\u001b[0m\n\u001b[1;32m--> 137\u001b[1;33m             \u001b[1;32mif\u001b[0m \u001b[0mlen\u001b[0m\u001b[1;33m(\u001b[0m\u001b[0miterable\u001b[0m\u001b[1;33m)\u001b[0m \u001b[1;33m>\u001b[0m \u001b[1;36m0\u001b[0m\u001b[1;33m:\u001b[0m\u001b[1;33m\u001b[0m\u001b[0m\n\u001b[0m\u001b[0;32m    138\u001b[0m                 \u001b[1;32mif\u001b[0m \u001b[0misinstance\u001b[0m\u001b[1;33m(\u001b[0m\u001b[0miterable\u001b[0m\u001b[1;33m,\u001b[0m \u001b[0mdict\u001b[0m\u001b[1;33m)\u001b[0m\u001b[1;33m:\u001b[0m\u001b[1;33m\u001b[0m\u001b[0m\n\u001b[0;32m    139\u001b[0m                     \u001b[1;32mif\u001b[0m \u001b[1;34m'x'\u001b[0m \u001b[1;32min\u001b[0m \u001b[0miterable\u001b[0m \u001b[1;32mand\u001b[0m\u001b[0;31m \u001b[0m\u001b[0;31m\\\u001b[0m\u001b[1;33m\u001b[0m\u001b[0m\n",
      "\u001b[1;31mTypeError\u001b[0m: object of type 'bool' has no len()"
     ]
    }
   ],
   "source": [
    "earthquake = gis.content.import_data(sdf, title='November 2018 Earthquakes LL')"
   ]
  },
  {
   "cell_type": "code",
   "execution_count": 92,
   "metadata": {},
   "outputs": [
    {
     "data": {
      "text/html": [
       "<div class=\"item_container\" style=\"height: auto; overflow: hidden; border: 1px solid #cfcfcf; border-radius: 2px; background: #f6fafa; line-height: 1.21429em; padding: 10px;\">\n",
       "                    <div class=\"item_left\" style=\"width: 210px; float: left;\">\n",
       "                       <a href='http://SLUSTL.maps.arcgis.com/home/item.html?id=51c39736dcff4780bd21f78d542b123d' target='_blank'>\n",
       "                        <img src='http://static.arcgis.com/images/desktopapp.png' class=\"itemThumbnail\">\n",
       "                       </a>\n",
       "                    </div>\n",
       "\n",
       "                    <div class=\"item_right\"     style=\"float: none; width: auto; overflow: hidden;\">\n",
       "                        <a href='http://SLUSTL.maps.arcgis.com/home/item.html?id=51c39736dcff4780bd21f78d542b123d' target='_blank'><b>November 2018 Earthquakes LL</b>\n",
       "                        </a>\n",
       "                        <br/><img src='http://SLUSTL.maps.arcgis.com/home/js/jsapi/esri/css/images/item_type_icons/featureshosted16.png' style=\"vertical-align:middle;\">Feature Layer Collection by laurenlovato_slustl\n",
       "                        <br/>Last Modified: December 02, 2018\n",
       "                        <br/>0 comments, 0 views\n",
       "                    </div>\n",
       "                </div>\n",
       "                "
      ],
      "text/plain": [
       "<Item title:\"November 2018 Earthquakes LL\" type:Feature Layer Collection owner:laurenlovato_slustl>"
      ]
     },
     "execution_count": 92,
     "metadata": {},
     "output_type": "execute_result"
    }
   ],
   "source": [
    "earthquake"
   ]
  },
  {
   "cell_type": "code",
   "execution_count": 93,
   "metadata": {},
   "outputs": [],
   "source": [
    "earthquake_map.add_layer(earthquake)"
   ]
  },
  {
   "cell_type": "code",
   "execution_count": null,
   "metadata": {},
   "outputs": [],
   "source": []
  }
 ],
 "metadata": {
  "kernelspec": {
   "display_name": "Python 3",
   "language": "python",
   "name": "python3"
  },
  "language_info": {
   "codemirror_mode": {
    "name": "ipython",
    "version": 3
   },
   "file_extension": ".py",
   "mimetype": "text/x-python",
   "name": "python",
   "nbconvert_exporter": "python",
   "pygments_lexer": "ipython3",
   "version": "3.6.5"
  }
 },
 "nbformat": 4,
 "nbformat_minor": 2
}
