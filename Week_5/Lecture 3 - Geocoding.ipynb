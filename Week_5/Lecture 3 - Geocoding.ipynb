{
 "cells": [
  {
   "cell_type": "markdown",
   "metadata": {},
   "source": [
    "# Geocoding\n",
    "\n",
    "There are a few ways to do this..."
   ]
  },
  {
   "cell_type": "code",
   "execution_count": 1,
   "metadata": {},
   "outputs": [],
   "source": [
    "from arcgis.gis import GIS\n",
    "from arcgis.geocoding import Geocoder, get_geocoders\n",
    "\n",
    "gis = GIS(\"http://slustl.maps.arcgis.com/home\", \"gregbrunner_slugis\")"
   ]
  },
  {
   "cell_type": "markdown",
   "metadata": {},
   "source": [
    "## You have an address"
   ]
  },
  {
   "cell_type": "code",
   "execution_count": 2,
   "metadata": {},
   "outputs": [],
   "source": [
    "single_line_address = \"1316 Lexington Drive, Yardley, PA 19067\""
   ]
  },
  {
   "cell_type": "code",
   "execution_count": 3,
   "metadata": {},
   "outputs": [],
   "source": [
    "my_map = gis.map(\"Yardley, PA\")"
   ]
  },
  {
   "cell_type": "code",
   "execution_count": 4,
   "metadata": {},
   "outputs": [
    {
     "data": {
      "application/vnd.jupyter.widget-view+json": {
       "model_id": "43f7df0a0cda42eaa6b4f2ae5f3eb321",
       "version_major": 2,
       "version_minor": 0
      },
      "text/plain": [
       "MapView(basemaps=['dark-gray', 'dark-gray-vector', 'gray', 'gray-vector', 'hybrid', 'national-geographic', 'oc…"
      ]
     },
     "metadata": {},
     "output_type": "display_data"
    }
   ],
   "source": [
    "my_map"
   ]
  },
  {
   "cell_type": "code",
   "execution_count": 6,
   "metadata": {},
   "outputs": [],
   "source": [
    "from arcgis.geocoding import geocode"
   ]
  },
  {
   "cell_type": "code",
   "execution_count": 11,
   "metadata": {},
   "outputs": [],
   "source": [
    "home = geocode(single_line_address)[0]\n",
    "popup = { \n",
    "    \"title\" : \"Home\", \n",
    "    \"content\" : home['address']\n",
    "    }\n",
    "my_map.draw(home['location'], popup)"
   ]
  },
  {
   "cell_type": "markdown",
   "metadata": {},
   "source": [
    "## What does this home object look like?"
   ]
  },
  {
   "cell_type": "code",
   "execution_count": 15,
   "metadata": {},
   "outputs": [
    {
     "data": {
      "text/plain": [
       "{'address': '1330 Lexington Dr, Morrisville, Pennsylvania, 19067',\n",
       " 'location': {'x': -74.85528729578374, 'y': 40.2260025479317},\n",
       " 'score': 99.9,\n",
       " 'attributes': {'Loc_name': 'World',\n",
       "  'Status': 'M',\n",
       "  'Score': 99.9,\n",
       "  'Match_addr': '1330 Lexington Dr, Morrisville, Pennsylvania, 19067',\n",
       "  'LongLabel': '1330 Lexington Dr, Morrisville, PA, 19067, USA',\n",
       "  'ShortLabel': '1330 Lexington Dr',\n",
       "  'Addr_type': 'StreetAddress',\n",
       "  'Type': '',\n",
       "  'PlaceName': '',\n",
       "  'Place_addr': '1330 Lexington Dr, Morrisville, Pennsylvania, 19067',\n",
       "  'Phone': '',\n",
       "  'URL': '',\n",
       "  'Rank': 20,\n",
       "  'AddBldg': '',\n",
       "  'AddNum': '1330',\n",
       "  'AddNumFrom': '1326',\n",
       "  'AddNumTo': '1398',\n",
       "  'AddRange': '1326-1398',\n",
       "  'Side': 'R',\n",
       "  'StPreDir': '',\n",
       "  'StPreType': '',\n",
       "  'StName': 'Lexington',\n",
       "  'StType': 'Dr',\n",
       "  'StDir': '',\n",
       "  'BldgType': '',\n",
       "  'BldgName': '',\n",
       "  'LevelType': '',\n",
       "  'LevelName': '',\n",
       "  'UnitType': '',\n",
       "  'UnitName': '',\n",
       "  'SubAddr': '',\n",
       "  'StAddr': '1330 Lexington Dr',\n",
       "  'Block': '',\n",
       "  'Sector': '',\n",
       "  'Nbrhd': '',\n",
       "  'District': '',\n",
       "  'City': 'Morrisville',\n",
       "  'MetroArea': 'Philadelphia Metro Area',\n",
       "  'Subregion': 'Bucks County',\n",
       "  'Region': 'Pennsylvania',\n",
       "  'RegionAbbr': 'PA',\n",
       "  'Territory': '',\n",
       "  'Zone': '',\n",
       "  'Postal': '19067',\n",
       "  'PostalExt': '',\n",
       "  'Country': 'USA',\n",
       "  'LangCode': 'ENG',\n",
       "  'Distance': 0,\n",
       "  'X': -74.85528729578374,\n",
       "  'Y': 40.2260025479317,\n",
       "  'DisplayX': -74.85528729578374,\n",
       "  'DisplayY': 40.2260025479317,\n",
       "  'Xmin': -74.85628729578374,\n",
       "  'Xmax': -74.85428729578373,\n",
       "  'Ymin': 40.2250025479317,\n",
       "  'Ymax': 40.2270025479317,\n",
       "  'ExInfo': ''},\n",
       " 'extent': {'xmin': -74.85628729578374,\n",
       "  'ymin': 40.2250025479317,\n",
       "  'xmax': -74.85428729578373,\n",
       "  'ymax': 40.2270025479317}}"
      ]
     },
     "execution_count": 15,
     "metadata": {},
     "output_type": "execute_result"
    }
   ],
   "source": [
    "home"
   ]
  },
  {
   "cell_type": "markdown",
   "metadata": {},
   "source": [
    "## Have you ever seen this information before?"
   ]
  },
  {
   "cell_type": "markdown",
   "metadata": {},
   "source": [
    "## Let's geocode a few addresses"
   ]
  },
  {
   "cell_type": "code",
   "execution_count": 12,
   "metadata": {},
   "outputs": [],
   "source": [
    "addresses = [\"1284 Lexington Drive, Yardley, PA 19067\", \"1264 Lexington Drive, Yardley, PA 19067\", \"1330 Lexington Drive, Yardley, PA 19067\"]"
   ]
  },
  {
   "cell_type": "code",
   "execution_count": 14,
   "metadata": {},
   "outputs": [],
   "source": [
    "for address in addresses:\n",
    "    home = geocode(address)[0]\n",
    "    popup = { \n",
    "        \"title\" : \"Home\", \n",
    "        \"content\" : home['address']\n",
    "        }\n",
    "    my_map.draw(home['location'], popup)"
   ]
  },
  {
   "cell_type": "markdown",
   "metadata": {},
   "source": [
    "## What if I have addresses in a CSV File?\n",
    "\n",
    "If your addresses are in a CSV file, this becomes even easier!"
   ]
  },
  {
   "cell_type": "code",
   "execution_count": 16,
   "metadata": {},
   "outputs": [
    {
     "data": {
      "application/vnd.jupyter.widget-view+json": {
       "model_id": "71660a1589264b7d99e6dda00e6f9a53",
       "version_major": 2,
       "version_minor": 0
      },
      "text/plain": [
       "MapView(basemaps=['dark-gray', 'dark-gray-vector', 'gray', 'gray-vector', 'hybrid', 'national-geographic', 'oc…"
      ]
     },
     "metadata": {},
     "output_type": "display_data"
    }
   ],
   "source": [
    "new_map = gis.map(\"India\")\n",
    "new_map"
   ]
  },
  {
   "cell_type": "code",
   "execution_count": 17,
   "metadata": {},
   "outputs": [
    {
     "data": {
      "text/html": [
       "<div>\n",
       "<style scoped>\n",
       "    .dataframe tbody tr th:only-of-type {\n",
       "        vertical-align: middle;\n",
       "    }\n",
       "\n",
       "    .dataframe tbody tr th {\n",
       "        vertical-align: top;\n",
       "    }\n",
       "\n",
       "    .dataframe thead th {\n",
       "        text-align: right;\n",
       "    }\n",
       "</style>\n",
       "<table border=\"1\" class=\"dataframe\">\n",
       "  <thead>\n",
       "    <tr style=\"text-align: right;\">\n",
       "      <th></th>\n",
       "      <th>WEATHER STATION</th>\n",
       "      <th>LOCATION</th>\n",
       "      <th>RAINFALL</th>\n",
       "    </tr>\n",
       "  </thead>\n",
       "  <tbody>\n",
       "    <tr>\n",
       "      <th>0</th>\n",
       "      <td>TAMBARAM</td>\n",
       "      <td>TAMBARAM, TAMIL NADU</td>\n",
       "      <td>49</td>\n",
       "    </tr>\n",
       "    <tr>\n",
       "      <th>1</th>\n",
       "      <td>CHEMBARABAKKAM</td>\n",
       "      <td>CHEMBARABAKKAM, TAMIL NADU</td>\n",
       "      <td>47</td>\n",
       "    </tr>\n",
       "    <tr>\n",
       "      <th>2</th>\n",
       "      <td>MARAKKANAM</td>\n",
       "      <td>MARAKKANAM, TAMIL NADU</td>\n",
       "      <td>42</td>\n",
       "    </tr>\n",
       "    <tr>\n",
       "      <th>3</th>\n",
       "      <td>CHENGALPATTU</td>\n",
       "      <td>CHENGALPATTU, TAMIL NADU</td>\n",
       "      <td>39</td>\n",
       "    </tr>\n",
       "    <tr>\n",
       "      <th>4</th>\n",
       "      <td>PONNERI</td>\n",
       "      <td>PONNERI, TAMIL NADU</td>\n",
       "      <td>39</td>\n",
       "    </tr>\n",
       "  </tbody>\n",
       "</table>\n",
       "</div>"
      ],
      "text/plain": [
       "  WEATHER STATION                    LOCATION  RAINFALL\n",
       "0        TAMBARAM        TAMBARAM, TAMIL NADU        49\n",
       "1  CHEMBARABAKKAM  CHEMBARABAKKAM, TAMIL NADU        47\n",
       "2      MARAKKANAM      MARAKKANAM, TAMIL NADU        42\n",
       "3    CHENGALPATTU    CHENGALPATTU, TAMIL NADU        39\n",
       "4         PONNERI         PONNERI, TAMIL NADU        39"
      ]
     },
     "execution_count": 17,
     "metadata": {},
     "output_type": "execute_result"
    }
   ],
   "source": [
    "import pandas as pd\n",
    "df = pd.read_csv('chennai-rainfall.csv')\n",
    "df.head()"
   ]
  },
  {
   "cell_type": "code",
   "execution_count": 24,
   "metadata": {},
   "outputs": [],
   "source": [
    "# Create an arcgis.features.FeatureCollection object by importing the pandas dataframe with an address field\n",
    "rainfall = gis.content.import_data(df, {\"Address\" : \"LOCATION\"})"
   ]
  },
  {
   "cell_type": "code",
   "execution_count": 20,
   "metadata": {},
   "outputs": [],
   "source": [
    "# The FeatureCollection can be added to the map using add_layer() method, just like regular portal items\n",
    "new_map.add_layer(rainfall, { \"renderer\":\"ClassedSizeRenderer\", \"field_name\":\"RAINFALL\" })"
   ]
  },
  {
   "cell_type": "markdown",
   "metadata": {},
   "source": [
    "## Another way to do this...\n",
    "\n",
    "Create a feature service and plot"
   ]
  },
  {
   "cell_type": "code",
   "execution_count": 25,
   "metadata": {},
   "outputs": [],
   "source": [
    "csv_file = 'chennai-rainfall.csv'\n",
    "csv_item = gis.content.add({}, csv_file)"
   ]
  },
  {
   "cell_type": "code",
   "execution_count": 26,
   "metadata": {},
   "outputs": [],
   "source": [
    "csv_lyr = csv_item.publish(None, {\"Address\":\"LOCATION\"})"
   ]
  },
  {
   "cell_type": "code",
   "execution_count": 28,
   "metadata": {},
   "outputs": [
    {
     "data": {
      "text/html": [
       "<div class=\"item_container\" style=\"height: auto; overflow: hidden; border: 1px solid #cfcfcf; border-radius: 2px; background: #f6fafa; line-height: 1.21429em; padding: 10px;\">\n",
       "                    <div class=\"item_left\" style=\"width: 210px; float: left;\">\n",
       "                       <a href='http://SLUSTL.maps.arcgis.com/home/item.html?id=af87634e4a2a457cb2099dae0eaf9cb3' target='_blank'>\n",
       "                        <img src='http://static.arcgis.com/images/desktopapp.png' class=\"itemThumbnail\">\n",
       "                       </a>\n",
       "                    </div>\n",
       "\n",
       "                    <div class=\"item_right\"     style=\"float: none; width: auto; overflow: hidden;\">\n",
       "                        <a href='http://SLUSTL.maps.arcgis.com/home/item.html?id=af87634e4a2a457cb2099dae0eaf9cb3' target='_blank'><b>chennai-rainfall</b>\n",
       "                        </a>\n",
       "                        <br/><img src='http://SLUSTL.maps.arcgis.com/home/js/jsapi/esri/css/images/item_type_icons/featureshosted16.png' style=\"vertical-align:middle;\">Feature Layer Collection by gregbrunner_slugis\n",
       "                        <br/>Last Modified: August 10, 2018\n",
       "                        <br/>0 comments, 0 views\n",
       "                    </div>\n",
       "                </div>\n",
       "                "
      ],
      "text/plain": [
       "<Item title:\"chennai-rainfall\" type:Feature Layer Collection owner:gregbrunner_slugis>"
      ]
     },
     "execution_count": 28,
     "metadata": {},
     "output_type": "execute_result"
    }
   ],
   "source": [
    "csv_lyr"
   ]
  },
  {
   "cell_type": "code",
   "execution_count": 29,
   "metadata": {},
   "outputs": [
    {
     "data": {
      "application/vnd.jupyter.widget-view+json": {
       "model_id": "54d82d97f9104af085e993a215f7e180",
       "version_major": 2,
       "version_minor": 0
      },
      "text/plain": [
       "MapView(basemaps=['dark-gray', 'dark-gray-vector', 'gray', 'gray-vector', 'hybrid', 'national-geographic', 'oc…"
      ]
     },
     "metadata": {},
     "output_type": "display_data"
    }
   ],
   "source": [
    "map2 = gis.map(\"India\")\n",
    "map2"
   ]
  },
  {
   "cell_type": "code",
   "execution_count": 30,
   "metadata": {},
   "outputs": [],
   "source": [
    "map2.add_layer(csv_lyr,{ \"renderer\":\"ClassedSizeRenderer\", \"field_name\":\"RAINFALL\" })"
   ]
  },
  {
   "cell_type": "code",
   "execution_count": 31,
   "metadata": {},
   "outputs": [
    {
     "data": {
      "text/html": [
       "<div class=\"item_container\" style=\"height: auto; overflow: hidden; border: 1px solid #cfcfcf; border-radius: 2px; background: #f6fafa; line-height: 1.21429em; padding: 10px;\">\n",
       "                    <div class=\"item_left\" style=\"width: 210px; float: left;\">\n",
       "                       <a href='http://SLUSTL.maps.arcgis.com/home/item.html?id=803fc06f371f42829c9ed23ba249bd48' target='_blank'>\n",
       "                        <img src='http://static.arcgis.com/images/desktopapp.png' class=\"itemThumbnail\">\n",
       "                       </a>\n",
       "                    </div>\n",
       "\n",
       "                    <div class=\"item_right\"     style=\"float: none; width: auto; overflow: hidden;\">\n",
       "                        <a href='http://SLUSTL.maps.arcgis.com/home/item.html?id=803fc06f371f42829c9ed23ba249bd48' target='_blank'><b>Lecture 2 - Geocoding and Publish</b>\n",
       "                        </a>\n",
       "                        <br/>Jupyter notebook widget saved as a web map<img src='http://SLUSTL.maps.arcgis.com/home/js/jsapi/esri/css/images/item_type_icons/maps16.png' style=\"vertical-align:middle;\">Web Map by gregbrunner_slugis\n",
       "                        <br/>Last Modified: August 10, 2018\n",
       "                        <br/>0 comments, 0 views\n",
       "                    </div>\n",
       "                </div>\n",
       "                "
      ],
      "text/plain": [
       "<Item title:\"Lecture 2 - Geocoding and Publish\" type:Web Map owner:gregbrunner_slugis>"
      ]
     },
     "execution_count": 31,
     "metadata": {},
     "output_type": "execute_result"
    }
   ],
   "source": [
    "webmap_properties = {'title':'Lecture 2 - Geocoding and Publish',\n",
    "                    'snippet': 'Jupyter notebook widget saved as a web map',\n",
    "                    'tags':['automation', 'python']}\n",
    "\n",
    "webmap_item = map2.save(webmap_properties)#, thumbnail='./webmap_thumbnail.png', folder='webmaps')\n",
    "webmap_item"
   ]
  },
  {
   "cell_type": "code",
   "execution_count": null,
   "metadata": {},
   "outputs": [],
   "source": []
  }
 ],
 "metadata": {
  "kernelspec": {
   "display_name": "Python 3",
   "language": "python",
   "name": "python3"
  },
  "language_info": {
   "codemirror_mode": {
    "name": "ipython",
    "version": 3
   },
   "file_extension": ".py",
   "mimetype": "text/x-python",
   "name": "python",
   "nbconvert_exporter": "python",
   "pygments_lexer": "ipython3",
   "version": "3.6.5"
  }
 },
 "nbformat": 4,
 "nbformat_minor": 2
}
