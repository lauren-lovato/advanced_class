{
 "cells": [
  {
   "cell_type": "markdown",
   "metadata": {},
   "source": [
    "# Using the Map Widget"
   ]
  },
  {
   "cell_type": "code",
   "execution_count": 1,
   "metadata": {},
   "outputs": [],
   "source": [
    "import arcgis\n",
    "from  arcgis import GIS\n",
    "# Create a GIS object, as an anonymous user for this example\n",
    "gis = GIS()"
   ]
  },
  {
   "cell_type": "code",
   "execution_count": 2,
   "metadata": {},
   "outputs": [
    {
     "data": {
      "application/vnd.jupyter.widget-view+json": {
       "model_id": "2c843fc2fe314c91861669782f415c51",
       "version_major": 2,
       "version_minor": 0
      },
      "text/plain": [
       "MapView(basemaps=['dark-gray', 'dark-gray-vector', 'gray', 'gray-vector', 'hybrid', 'national-geographic', 'oc…"
      ]
     },
     "metadata": {},
     "output_type": "display_data"
    }
   ],
   "source": [
    "# Create a map widget\n",
    "map1 = gis.map('Texas') # Passing a place name to the constructor\n",
    "                        # will initialize the extent of the map.\n",
    "map1"
   ]
  },
  {
   "cell_type": "markdown",
   "metadata": {},
   "source": [
    "## We Can Zoom"
   ]
  },
  {
   "cell_type": "code",
   "execution_count": 3,
   "metadata": {},
   "outputs": [],
   "source": [
    "map1.zoom = 12"
   ]
  },
  {
   "cell_type": "markdown",
   "metadata": {},
   "source": [
    "## We can move"
   ]
  },
  {
   "cell_type": "code",
   "execution_count": 4,
   "metadata": {},
   "outputs": [],
   "source": [
    "map1.center = [38, -90]"
   ]
  },
  {
   "cell_type": "code",
   "execution_count": 5,
   "metadata": {},
   "outputs": [
    {
     "name": "stdout",
     "output_type": "stream",
     "text": [
      "{'address': 'Times Square', 'location': {'x': -73.98617999999993, 'y': 40.75648000000007}, 'score': 100, 'attributes': {'Loc_name': 'World', 'Status': 'T', 'Score': 100, 'Match_addr': 'Times Square', 'LongLabel': 'Times Square, Broadway, New York, NY, 10036, USA', 'ShortLabel': 'Times Square', 'Addr_type': 'POI', 'Type': 'Tourist Attraction', 'PlaceName': 'Times Square', 'Place_addr': 'Broadway, New York, 10036', 'Phone': '(212) 768-1560', 'URL': 'http://www.timessquarenyc.org/index.aspx', 'Rank': 2.5, 'AddBldg': '', 'AddNum': '', 'AddNumFrom': '', 'AddNumTo': '', 'AddRange': '', 'Side': '', 'StPreDir': '', 'StPreType': '', 'StName': 'Broadway', 'StType': '', 'StDir': '', 'BldgType': '', 'BldgName': '', 'LevelType': '', 'LevelName': '', 'UnitType': '', 'UnitName': '', 'SubAddr': '', 'StAddr': 'Broadway', 'Block': '', 'Sector': '', 'Nbrhd': 'Theater District-Times Square', 'District': '', 'City': 'New York', 'MetroArea': 'New York City Metro', 'Subregion': 'New York County', 'Region': 'New York', 'RegionAbbr': 'NY', 'Territory': '', 'Zone': 'Manhattan', 'Postal': '10036', 'PostalExt': '', 'Country': 'USA', 'LangCode': 'ENG', 'Distance': 0, 'X': -73.98617999999993, 'Y': 40.75648000000007, 'DisplayX': -73.98617999999993, 'DisplayY': 40.75648000000007, 'Xmin': -73.99117999999993, 'Xmax': -73.98117999999994, 'Ymin': 40.751480000000065, 'Ymax': 40.76148000000007, 'ExInfo': ''}, 'extent': {'xmin': -73.99117999999993, 'ymin': 40.751480000000065, 'xmax': -73.98117999999994, 'ymax': 40.76148000000007}}\n"
     ]
    }
   ],
   "source": [
    "location = arcgis.geocoding.geocode('Times Square, NY', max_locations=1)[0]\n",
    "print(location)\n",
    "map1.extent = location['extent']"
   ]
  },
  {
   "cell_type": "markdown",
   "metadata": {},
   "source": [
    "## We can Change the basemap"
   ]
  },
  {
   "cell_type": "code",
   "execution_count": 11,
   "metadata": {},
   "outputs": [
    {
     "data": {
      "text/plain": [
       "['dark-gray',\n",
       " 'dark-gray-vector',\n",
       " 'gray',\n",
       " 'gray-vector',\n",
       " 'hybrid',\n",
       " 'national-geographic',\n",
       " 'oceans',\n",
       " 'osm',\n",
       " 'satellite',\n",
       " 'streets',\n",
       " 'streets-navigation-vector',\n",
       " 'streets-night-vector',\n",
       " 'streets-relief-vector',\n",
       " 'streets-vector',\n",
       " 'terrain',\n",
       " 'topo',\n",
       " 'topo-vector']"
      ]
     },
     "execution_count": 11,
     "metadata": {},
     "output_type": "execute_result"
    }
   ],
   "source": [
    "map1.basemaps"
   ]
  },
  {
   "cell_type": "code",
   "execution_count": 6,
   "metadata": {},
   "outputs": [],
   "source": [
    "map1.basemap = 'osm'"
   ]
  },
  {
   "cell_type": "markdown",
   "metadata": {},
   "source": [
    "## Adding Layers\n",
    "\n",
    "For this, let's log into ArcGIS Online so that we can search for specific content"
   ]
  },
  {
   "cell_type": "code",
   "execution_count": 7,
   "metadata": {},
   "outputs": [
    {
     "name": "stdout",
     "output_type": "stream",
     "text": [
      "Enter password: ········\n"
     ]
    },
    {
     "data": {
      "application/vnd.jupyter.widget-view+json": {
       "model_id": "bfe0b1c74c4f411a9a163256d53922cf",
       "version_major": 2,
       "version_minor": 0
      },
      "text/plain": [
       "MapView(basemaps=['dark-gray', 'dark-gray-vector', 'gray', 'gray-vector', 'hybrid', 'national-geographic', 'oc…"
      ]
     },
     "metadata": {},
     "output_type": "display_data"
    }
   ],
   "source": [
    "# Log into to GIS as we will save the widget as a web map later\n",
    "gis = GIS(\"http://slustl.maps.arcgis.com/home\", \"laurenlovato_slustl\")\n",
    "usa_map = gis.map('Boston, MA', zoomlevel=10)  # you can specify the zoom level when creating a map\n",
    "usa_map"
   ]
  },
  {
   "cell_type": "code",
   "execution_count": 21,
   "metadata": {},
   "outputs": [],
   "source": [
    "demographic_layers = gis.content.search(\"USA Demographics\", outside_org=True, item_type=\"Feature Layer\")"
   ]
  },
  {
   "cell_type": "code",
   "execution_count": 22,
   "metadata": {},
   "outputs": [
    {
     "data": {
      "text/plain": [
       "[<Item title:\"USA Counties (Generalized)\" type:Feature Layer Collection owner:esri_dm>,\n",
       " <Item title:\"2018 USA Traffic Counts\" type:Feature Layer Collection owner:esri>,\n",
       " <Item title:\"USA Counties\" type:Feature Layer Collection owner:esri_dm>,\n",
       " <Item title:\"USA ZIP Codes (2014)\" type:Feature Layer Collection owner:esri_dm>,\n",
       " <Item title:\"USA Census Tracts\" type:Feature Layer Collection owner:sfoss_startups>,\n",
       " <Item title:\"Houston Income Demographics\" type:Feature Layer Collection owner:lisa_berry>,\n",
       " <Item title:\"Boston Income and Growth\" type:Feature Layer Collection owner:lisa_berry>,\n",
       " <Item title:\"USA States (Generalized)\" type:Feature Layer Collection owner:esri_dm>,\n",
       " <Item title:\"Detroit demographics ls\" type:Feature Layer Collection owner:schon010>,\n",
       " <Item title:\"Detroit Demographics ap\" type:Feature Layer Collection owner:pierc038>]"
      ]
     },
     "execution_count": 22,
     "metadata": {},
     "output_type": "execute_result"
    }
   ],
   "source": [
    "demographic_layers"
   ]
  },
  {
   "cell_type": "code",
   "execution_count": 23,
   "metadata": {},
   "outputs": [
    {
     "data": {
      "text/html": [
       "<div class=\"item_container\" style=\"height: auto; overflow: hidden; border: 1px solid #cfcfcf; border-radius: 2px; background: #f6fafa; line-height: 1.21429em; padding: 10px;\">\n",
       "                    <div class=\"item_left\" style=\"width: 210px; float: left;\">\n",
       "                       <a href='http://SLUSTL.maps.arcgis.com/home/item.html?id=b8c35f6b170340ca9f90c94724423851' target='_blank'>\n",
       "                        <img src='data:image/png;base64,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' width='200' height='133' class=\"itemThumbnail\">\n",
       "                       </a>\n",
       "                    </div>\n",
       "\n",
       "                    <div class=\"item_right\"     style=\"float: none; width: auto; overflow: hidden;\">\n",
       "                        <a href='http://SLUSTL.maps.arcgis.com/home/item.html?id=b8c35f6b170340ca9f90c94724423851' target='_blank'><b>Boston Income and Growth</b>\n",
       "                        </a>\n",
       "                        <br/>This layer shows a comparison of personal income growth and unemployment in Boston.<img src='http://SLUSTL.maps.arcgis.com/home/js/jsapi/esri/css/images/item_type_icons/featureshosted16.png' style=\"vertical-align:middle;\">Feature Layer Collection by lisa_berry\n",
       "                        <br/>Last Modified: November 17, 2015\n",
       "                        <br/>2 comments, 65,678 views\n",
       "                    </div>\n",
       "                </div>\n",
       "                "
      ],
      "text/plain": [
       "<Item title:\"Boston Income and Growth\" type:Feature Layer Collection owner:lisa_berry>"
      ]
     },
     "execution_count": 23,
     "metadata": {},
     "output_type": "execute_result"
    }
   ],
   "source": [
    "demographic_layers[6]"
   ]
  },
  {
   "cell_type": "code",
   "execution_count": 24,
   "metadata": {},
   "outputs": [],
   "source": [
    "usa_map.add_layer(demographic_layers[6])"
   ]
  },
  {
   "cell_type": "code",
   "execution_count": 12,
   "metadata": {},
   "outputs": [],
   "source": [
    "usa_map.basemap = 'dark-gray'"
   ]
  },
  {
   "cell_type": "markdown",
   "metadata": {},
   "source": [
    "## List the Layers"
   ]
  },
  {
   "cell_type": "code",
   "execution_count": 13,
   "metadata": {},
   "outputs": [
    {
     "data": {
      "text/plain": [
       "[<FeatureLayer url:\"http://services.arcgis.com/jIL9msH9OI208GCb/arcgis/rest/services/Boston Income and Growth/FeatureServer/0\">]"
      ]
     },
     "execution_count": 13,
     "metadata": {},
     "output_type": "execute_result"
    }
   ],
   "source": [
    "usa_map.layers"
   ]
  },
  {
   "cell_type": "markdown",
   "metadata": {},
   "source": [
    "## Remove the Layer"
   ]
  },
  {
   "cell_type": "code",
   "execution_count": 14,
   "metadata": {},
   "outputs": [
    {
     "data": {
      "text/plain": [
       "True"
      ]
     },
     "execution_count": 14,
     "metadata": {},
     "output_type": "execute_result"
    }
   ],
   "source": [
    "usa_map.remove_layers()"
   ]
  },
  {
   "cell_type": "markdown",
   "metadata": {},
   "source": [
    "## Add Layer Back with different Symbology"
   ]
  },
  {
   "cell_type": "markdown",
   "metadata": {},
   "source": [
    "### Lame Symbology"
   ]
  },
  {
   "cell_type": "code",
   "execution_count": 15,
   "metadata": {},
   "outputs": [],
   "source": [
    "simple_renderer = {\n",
    "  \"renderer\": {\n",
    "    \"type\": \"simple\",\n",
    "    \"symbol\": {\n",
    "      \"color\": [\n",
    "        0,\n",
    "        0,\n",
    "        128,\n",
    "        128\n",
    "      ],\n",
    "      \"size\": 15,\n",
    "      \"angle\": 0,\n",
    "      \"xoffset\": 0,\n",
    "      \"yoffset\": 0,\n",
    "      \"type\": \"esriSMS\",\n",
    "      \"style\": \"esriSMSCircle\",\n",
    "      \"outline\": {\n",
    "        \"color\": [\n",
    "          0,\n",
    "          0,\n",
    "          128,\n",
    "          255\n",
    "        ],\n",
    "        \"width\": 0.99975,\n",
    "        \"type\": \"esriSLS\",\n",
    "        \"style\": \"esriSLSSolid\"\n",
    "      }\n",
    "    }\n",
    "  }\n",
    "}"
   ]
  },
  {
   "cell_type": "code",
   "execution_count": 16,
   "metadata": {},
   "outputs": [],
   "source": [
    "usa_map.add_layer(demographic_layers[6], simple_renderer)"
   ]
  },
  {
   "cell_type": "markdown",
   "metadata": {},
   "source": [
    "This is kind of meaningless"
   ]
  },
  {
   "cell_type": "code",
   "execution_count": 18,
   "metadata": {},
   "outputs": [
    {
     "data": {
      "text/plain": [
       "True"
      ]
     },
     "execution_count": 18,
     "metadata": {},
     "output_type": "execute_result"
    }
   ],
   "source": [
    "usa_map.remove_layers()"
   ]
  },
  {
   "cell_type": "code",
   "execution_count": 19,
   "metadata": {},
   "outputs": [],
   "source": [
    "usa_map.add_layer(demographic_layers[6])#, {'renderer':'ClassedSizeRenderer','field_name':'POP2014'})"
   ]
  },
  {
   "cell_type": "markdown",
   "metadata": {},
   "source": [
    "## Finally, we can save it as a webmap"
   ]
  },
  {
   "cell_type": "code",
   "execution_count": 44,
   "metadata": {},
   "outputs": [
    {
     "data": {
      "text/html": [
       "<div class=\"item_container\" style=\"height: auto; overflow: hidden; border: 1px solid #cfcfcf; border-radius: 2px; background: #f6fafa; line-height: 1.21429em; padding: 10px;\">\n",
       "                    <div class=\"item_left\" style=\"width: 210px; float: left;\">\n",
       "                       <a href='http://SLUSTL.maps.arcgis.com/home/item.html?id=caa832412911468586312c8335e8d56c' target='_blank'>\n",
       "                        <img src='http://static.arcgis.com/images/desktopapp.png' class=\"itemThumbnail\">\n",
       "                       </a>\n",
       "                    </div>\n",
       "\n",
       "                    <div class=\"item_right\"     style=\"float: none; width: auto; overflow: hidden;\">\n",
       "                        <a href='http://SLUSTL.maps.arcgis.com/home/item.html?id=caa832412911468586312c8335e8d56c' target='_blank'><b>Lecture 1 - Demographic Webmap</b>\n",
       "                        </a>\n",
       "                        <br/>Jupyter notebook widget saved as a web map<img src='http://SLUSTL.maps.arcgis.com/home/js/jsapi/esri/css/images/item_type_icons/maps16.png' style=\"vertical-align:middle;\">Web Map by gregbrunner_slugis\n",
       "                        <br/>Last Modified: August 10, 2018\n",
       "                        <br/>0 comments, 0 views\n",
       "                    </div>\n",
       "                </div>\n",
       "                "
      ],
      "text/plain": [
       "<Item title:\"Lecture 1 - Demographic Webmap\" type:Web Map owner:gregbrunner_slugis>"
      ]
     },
     "execution_count": 44,
     "metadata": {},
     "output_type": "execute_result"
    }
   ],
   "source": [
    "webmap_properties = {'title':'Lecture 1 - Demographic Webmap',\n",
    "                    'snippet': 'Jupyter notebook widget saved as a web map',\n",
    "                    'tags':['automation', 'python']}\n",
    "\n",
    "webmap_item = usa_map.save(webmap_properties)#, thumbnail='./webmap_thumbnail.png', folder='webmaps')\n",
    "webmap_item"
   ]
  },
  {
   "cell_type": "markdown",
   "metadata": {},
   "source": [
    "## Now we have a webmap!"
   ]
  },
  {
   "cell_type": "code",
   "execution_count": null,
   "metadata": {},
   "outputs": [],
   "source": []
  }
 ],
 "metadata": {
  "kernelspec": {
   "display_name": "Python 3",
   "language": "python",
   "name": "python3"
  },
  "language_info": {
   "codemirror_mode": {
    "name": "ipython",
    "version": 3
   },
   "file_extension": ".py",
   "mimetype": "text/x-python",
   "name": "python",
   "nbconvert_exporter": "python",
   "pygments_lexer": "ipython3",
   "version": "3.6.5"
  }
 },
 "nbformat": 4,
 "nbformat_minor": 2
}
