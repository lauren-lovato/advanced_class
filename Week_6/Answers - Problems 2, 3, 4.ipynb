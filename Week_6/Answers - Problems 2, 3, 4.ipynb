{
 "cells": [
  {
   "cell_type": "markdown",
   "metadata": {},
   "source": [
    "# Problem 2, 3, and 4"
   ]
  },
  {
   "cell_type": "markdown",
   "metadata": {},
   "source": [
    "## Problem 2\n",
    "\n",
    "Using Python, create 3 groups in ArcGIS Online:\n",
    "- YOUR_FIRST_NAME_Webmaps\n",
    "- YOUR_FIRST_NAME_Feature_Services\n",
    "- YOUR_FIRST_NAME_All_Content"
   ]
  },
  {
   "cell_type": "code",
   "execution_count": 36,
   "metadata": {},
   "outputs": [],
   "source": [
    "from arcgis.gis import GIS\n",
    "#from arcgis.geocoding import Geocoder, get_geocoders\n",
    "\n",
    "gis = GIS(\"http://slustl.maps.arcgis.com/home\", \"gregbrunner_slugis\")"
   ]
  },
  {
   "cell_type": "code",
   "execution_count": 37,
   "metadata": {},
   "outputs": [],
   "source": [
    "group_names = [\"GREGORY_BRUNNERS_WEBMAPS\", \"GREGORY_BRUNNERS_FEATURE_SERVICES\", \"GREGORY_BRUNNERS_OTHER_CONTENT\"]\n",
    "tags =  ['Webmaps', 'feature services', 'webmaps, feature services, map services, imagery']\n",
    "descriptions=[\"Greg's webmaps\", \"Greg's Feature Services\", \"Random Content\"]\n",
    "snippet=None, \n",
    "access='public'"
   ]
  },
  {
   "cell_type": "code",
   "execution_count": 38,
   "metadata": {},
   "outputs": [
    {
     "name": "stdout",
     "output_type": "stream",
     "text": [
      "Creating GREGORY_BRUNNERS_WEBMAPS\n",
      "Creating GREGORY_BRUNNERS_FEATURE_SERVICES\n",
      "Creating GREGORY_BRUNNERS_OTHER_CONTENT\n"
     ]
    }
   ],
   "source": [
    "new_groups = []\n",
    "for idx,g in enumerate(group_names):\n",
    "    print(\"Creating \" + g)\n",
    "    new_groups.append(gis.groups.create(g, tags=tags[idx], description=descriptions[idx], snippet=snippet, access=access ))"
   ]
  },
  {
   "cell_type": "markdown",
   "metadata": {},
   "source": [
    "## Problem 3\n",
    "\n",
    "Assuming that I'm still logged in through the GIS object"
   ]
  },
  {
   "cell_type": "code",
   "execution_count": 1,
   "metadata": {},
   "outputs": [],
   "source": [
    "from arcgis.gis import GIS\n",
    "from arcgis.geocoding import Geocoder, get_geocoders\n",
    "\n",
    "gis = GIS(\"http://slustl.maps.arcgis.com/home\", \"gregbrunner_slugis\")"
   ]
  },
  {
   "cell_type": "code",
   "execution_count": 7,
   "metadata": {},
   "outputs": [],
   "source": [
    "group_list = gis.groups.search(\"*\")"
   ]
  },
  {
   "cell_type": "code",
   "execution_count": 8,
   "metadata": {},
   "outputs": [
    {
     "data": {
      "text/plain": [
       "[<Group title:\"Facilities Management\" owner:areeves8_SLUSTL>,\n",
       " <Group title:\"GREGORY_BRUNNERS_FEATURE_SERVICES\" owner:gregbrunner_slugis>,\n",
       " <Group title:\"GREGORY_BRUNNERS_OTHER_CONTENT\" owner:gregbrunner_slugis>,\n",
       " <Group title:\"GREGORY_BRUNNERS_WEBMAPS\" owner:gregbrunner_slugis>,\n",
       " <Group title:\"My BAO Group\" owner:jlovato12>,\n",
       " <Group title:\"My CA Group\" owner:jlovato12>,\n",
       " <Group title:\"My GeoPlanner Group\" owner:jlovato12>,\n",
       " <Group title:\"RECD\" owner:syedaval>,\n",
       " <Group title:\"SLUCOR\" owner:armbrees_SLUSTL>,\n",
       " <Group title:\"STL_Tapestry\" owner:dmhall_SLUSTL>]"
      ]
     },
     "execution_count": 8,
     "metadata": {},
     "output_type": "execute_result"
    }
   ],
   "source": [
    "group_list"
   ]
  },
  {
   "cell_type": "code",
   "execution_count": 9,
   "metadata": {},
   "outputs": [
    {
     "name": "stdout",
     "output_type": "stream",
     "text": [
      "904ca5fde50342d2a1b4ad8aee4022e8\n",
      "d9e34bf3d2524cdabaa1b97955e86683\n",
      "a400f707f8624470ad0dce2023b46513\n"
     ]
    }
   ],
   "source": [
    "print(group_list[1].id)\n",
    "print(group_list[2].id)\n",
    "print(group_list[3].id)"
   ]
  },
  {
   "cell_type": "code",
   "execution_count": 42,
   "metadata": {},
   "outputs": [
    {
     "name": "stdout",
     "output_type": "stream",
     "text": [
      "a400f707f8624470ad0dce2023b46513\n",
      "904ca5fde50342d2a1b4ad8aee4022e8\n",
      "d9e34bf3d2524cdabaa1b97955e86683\n"
     ]
    }
   ],
   "source": [
    "for n in new_groups:\n",
    "    print(n.id)"
   ]
  },
  {
   "cell_type": "code",
   "execution_count": 43,
   "metadata": {},
   "outputs": [
    {
     "name": "stdout",
     "output_type": "stream",
     "text": [
      "Other: STL_Crime\n",
      "Feature Serices: STL_Crime\n",
      "Other: my_acled_demo\n",
      "Feature Serices: my_acled_demo\n",
      "Webmaps: Acled map by Greg\n",
      "Webmaps: Gregs ACLED Webmap\n",
      "Webmaps: gregs flashy acled webmap\n",
      "Feature Serices: my_acled_demo_pred_surface_gjb\n",
      "Other: gregs flashy acled webapp\n",
      "Webmaps: second acled map gjb\n",
      "Other: ACLED\n",
      "Webmaps: STL Crime - Top 3\n",
      "Other: d32269aa31f846f98e5f5749f7301138\n",
      "Feature Serices: d32269aa31f846f98e5f5749f7301138\n",
      "Webmaps: California Traffic Volumes\n",
      "Webmaps: Finland Boundaries\n",
      "Other: 234b0b688b914e8ca929f363c0e4dd9e\n",
      "Feature Serices: 234b0b688b914e8ca929f363c0e4dd9e\n",
      "Other: CA county population\n",
      "Feature Serices: CA county population\n",
      "Other: CA county population\n",
      "Other: 8d3a872960f645c7ae01d1a751b0c1eb\n",
      "Feature Serices: 8d3a872960f645c7ae01d1a751b0c1eb\n",
      "Feature Serices: Buffer_of_significant_month\n",
      "Feature Serices: Enriched_Buffer_of_significant_month\n",
      "Webmaps: Global Earthquakes\n",
      "Other: OKC_Thunder_Offseason_Moves\n",
      "Feature Serices: OKC_Thunder_Offseason_Moves\n",
      "Webmaps: ACLED Simple Renderer\n",
      "Webmaps: ACLED Classed Size Breaks\n",
      "Other: Thunder_Traded_To\n",
      "Feature Serices: Thunder_Traded_To\n",
      "Other: Thunder_Traded_From\n",
      "Feature Serices: Thunder_Traded_From\n",
      "Webmaps: OKC Thunder 2017 Transactions\n",
      "Webmaps: Lecture 1 - Demographic Webmap\n",
      "Webmaps: Lecture 2 - Geocoding\n",
      "Other: chennai-rainfall\n",
      "Feature Serices: chennai-rainfall\n",
      "Webmaps: Lecture 2 - Geocoding and Publish\n"
     ]
    }
   ],
   "source": [
    "for item in gis.users.me.items():\n",
    "    if item.type == \"Feature Service\":\n",
    "        print(\"Feature Serices: \" + item.title)\n",
    "        item.share(groups= gis.groups.search(\"*\")[2].id)\n",
    "    elif item.type == \"Web Map\":\n",
    "        print(\"Webmaps: \" + item.title)\n",
    "        item.share(groups=gis.groups.search(\"*\")[3].id)\n",
    "    else:\n",
    "        print(\"Other: \" + item.title)\n",
    "        item.share(groups=gis.groups.search(\"*\")[1].id)\n",
    "        "
   ]
  },
  {
   "cell_type": "markdown",
   "metadata": {},
   "source": [
    "## Problem 4"
   ]
  },
  {
   "cell_type": "code",
   "execution_count": 10,
   "metadata": {},
   "outputs": [
    {
     "name": "stdout",
     "output_type": "stream",
     "text": [
      "abehera_SLUSTL\n",
      "ahmadaldalawi_slustl\n",
      "areeves8_SLUSTL\n",
      "armbrees_SLUSTL\n",
      "awulamu_SLUSTL\n",
      "breneman_SLUSTL\n",
      "bsiracuse\n",
      "buerckjp\n",
      "chris.prener_SLUSTL\n",
      "chuanfeng_slustl\n",
      "coffinsl\n",
      "corey.grejtakheaps\n",
      "crawfordtw_SLUSTL\n",
      "cuaycongy_SLUSTL\n",
      "david.ridge\n",
      "dmhall_SLUSTL\n",
      "emmaleeblackwood\n",
      "femmermd_SLUSTL\n",
      "gchadala\n",
      "gilberpg_slu\n",
      "gregbrunner_slugis\n",
      "hamilljc_SLUSTL\n",
      "haretr_SLUSTL\n",
      "ilopezba_SLUSTL\n",
      "jake.brinkman\n",
      "jbesser\n",
      "jesnstevens\n",
      "jlovato12\n",
      "jsandov3@slu.edu\n",
      "jtchin\n",
      "kevineblimit_slustl\n",
      "kostielneymi\n",
      "laurenlovato_slustl\n",
      "lbernett_SLUSTL\n",
      "Leard_SLUSTL\n",
      "lockmillerka\n",
      "loganwilliams_slustl\n",
      "matthewroark_slustl\n",
      "megan.greathousegause_SLUSTL\n",
      "mmuell37_SLUSTL\n",
      "mschootm\n",
      "opusmbephd\n",
      "red_catan\n",
      "reev6867_SLUSTL\n",
      "robertwurth_slustl\n",
      "shaughnessyar\n",
      "stephenSLU\n",
      "stluedu_SLUSTL\n",
      "SuePSC\n",
      "syedaval\n",
      "tongxu_SLUSTL\n",
      "txiao1_SLUSTL\n",
      "Tyritch\n",
      "wfmjr68\n",
      "yvonne.fisher_SLUSTL\n"
     ]
    }
   ],
   "source": [
    "import csv \n",
    "\n",
    "from arcgis.gis import GIS\n",
    "#from arcgis.geocoding import Geocoder, get_geocoders\n",
    "\n",
    "gis = GIS(\"http://slustl.maps.arcgis.com/home\", \"gregbrunner_slugis\", \"100%BlueGatorade\")\n",
    "\n",
    "with open('agol_users.csv', 'wt') as csvfile:\n",
    "    filewriter = csv.writer(csvfile, delimiter=',',lineterminator='\\n')\n",
    "    filewriter.writerow(['USer Name', 'Email', 'User Type', 'User Level'])\n",
    "    \n",
    "    for user in gis.users.search(\"*\"):\n",
    "        filewriter.writerow([str(user.username), str(user.email), str(user.userType), str(user.level)])\n",
    "        print(user.username)"
   ]
  },
  {
   "cell_type": "code",
   "execution_count": null,
   "metadata": {},
   "outputs": [],
   "source": []
  }
 ],
 "metadata": {
  "kernelspec": {
   "display_name": "Python 3",
   "language": "python",
   "name": "python3"
  },
  "language_info": {
   "codemirror_mode": {
    "name": "ipython",
    "version": 3
   },
   "file_extension": ".py",
   "mimetype": "text/x-python",
   "name": "python",
   "nbconvert_exporter": "python",
   "pygments_lexer": "ipython3",
   "version": "3.6.5"
  }
 },
 "nbformat": 4,
 "nbformat_minor": 2
}
