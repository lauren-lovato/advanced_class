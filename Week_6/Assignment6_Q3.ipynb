{
 "cells": [
  {
   "cell_type": "markdown",
   "metadata": {},
   "source": [
    "## Assignment 6, Question 3"
   ]
  },
  {
   "cell_type": "markdown",
   "metadata": {},
   "source": [
    "#### Using Python, share any webmaps you have in your ArcGIS Online account with YOUR_FIRST_NAME_Webmaps. Share any Feature Services you have with YOUR_FIRST_NAME_Feature_Services, and share all content you have with YOUR_FIRST_NAME_All_Content. Note that if you have no webmaps or feature services, publish a feature service and create a webmap beforehand."
   ]
  },
  {
   "cell_type": "code",
   "execution_count": 1,
   "metadata": {},
   "outputs": [
    {
     "name": "stdout",
     "output_type": "stream",
     "text": [
      "Enter password: ········\n"
     ]
    }
   ],
   "source": [
    "from arcgis.gis import GIS\n",
    "gis = GIS (\"http://slustl.maps.arcgis.com/home\", \"laurenlovato_slustl\")"
   ]
  },
  {
   "cell_type": "code",
   "execution_count": 2,
   "metadata": {},
   "outputs": [
    {
     "data": {
      "text/plain": [
       "[<Item title:\"my_acled_demo\" type:Service Definition owner:laurenlovato_slustl>,\n",
       " <Item title:\"LL_acled_demo\" type:Service Definition owner:laurenlovato_slustl>,\n",
       " <Item title:\"LL_acled_demo\" type:Feature Layer Collection owner:laurenlovato_slustl>,\n",
       " <Item title:\"ACLED_map_LL\" type:Web Map owner:laurenlovato_slustl>,\n",
       " <Item title:\"LL_acled_demo_pred_surface\" type:Feature Layer Collection owner:laurenlovato_slustl>,\n",
       " <Item title:\"ACLED_map_LL\" type:Web Mapping Application owner:laurenlovato_slustl>,\n",
       " <Item title:\"ACLED_map_LL_story\" type:Web Mapping Application owner:laurenlovato_slustl>,\n",
       " <Item title:\"St. Louis Flood Hazard\" type:Web Map owner:laurenlovato_slustl>,\n",
       " <Item title:\"St. Louis Area Riding Stables\" type:Web Map owner:laurenlovato_slustl>,\n",
       " <Item title:\"STL_metro_counties\" type:Shapefile owner:laurenlovato_slustl>,\n",
       " <Item title:\"STL_metro_counties\" type:Feature Layer Collection owner:laurenlovato_slustl>,\n",
       " <Item title:\"StLouis_area_Stables\" type:CSV owner:laurenlovato_slustl>,\n",
       " <Item title:\"StLouis_area_Stables\" type:Feature Layer Collection owner:laurenlovato_slustl>,\n",
       " <Item title:\"LL ACLED Simple Renderer\" type:Web Map owner:laurenlovato_slustl>,\n",
       " <Item title:\"chennai-rainfall\" type:CSV owner:laurenlovato_slustl>,\n",
       " <Item title:\"Mars_features_points\" type:CSV owner:laurenlovato_slustl>,\n",
       " <Item title:\"Mars_features_points\" type:Feature Layer Collection owner:laurenlovato_slustl>,\n",
       " <Item title:\"Mars_features_points\" type:Web Map owner:laurenlovato_slustl>,\n",
       " <Item title:\"Mars Features\" type:Web Map owner:laurenlovato_slustl>,\n",
       " <Item title:\"Thunder Acquisitions and Departures\" type:Web Map owner:laurenlovato_slustl>]"
      ]
     },
     "execution_count": 2,
     "metadata": {},
     "output_type": "execute_result"
    }
   ],
   "source": [
    "gis.users.me.items()"
   ]
  },
  {
   "cell_type": "code",
   "execution_count": null,
   "metadata": {},
   "outputs": [],
   "source": []
  }
 ],
 "metadata": {
  "kernelspec": {
   "display_name": "Python 3",
   "language": "python",
   "name": "python3"
  },
  "language_info": {
   "codemirror_mode": {
    "name": "ipython",
    "version": 3
   },
   "file_extension": ".py",
   "mimetype": "text/x-python",
   "name": "python",
   "nbconvert_exporter": "python",
   "pygments_lexer": "ipython3",
   "version": "3.6.5"
  }
 },
 "nbformat": 4,
 "nbformat_minor": 2
}
