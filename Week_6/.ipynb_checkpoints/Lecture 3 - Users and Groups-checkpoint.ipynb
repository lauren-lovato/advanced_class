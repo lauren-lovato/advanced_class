{
 "cells": [
  {
   "cell_type": "code",
   "execution_count": 1,
   "metadata": {},
   "outputs": [
    {
     "name": "stdout",
     "output_type": "stream",
     "text": [
      "Enter password: ········\n"
     ]
    }
   ],
   "source": [
    "from arcgis.gis import GIS\n",
    "gis = GIS(\"https://slustl.maps.arcgis.com/home\", \"laurenlovato_slustl\")"
   ]
  },
  {
   "cell_type": "code",
   "execution_count": 3,
   "metadata": {},
   "outputs": [],
   "source": [
    "from arcgis.gis import *"
   ]
  },
  {
   "cell_type": "code",
   "execution_count": 4,
   "metadata": {},
   "outputs": [
    {
     "data": {
      "text/plain": [
       "[<User username:gregbrunner_slugis>]"
      ]
     },
     "execution_count": 4,
     "metadata": {},
     "output_type": "execute_result"
    }
   ],
   "source": [
    "gis.users.search(\"Gregory\")"
   ]
  },
  {
   "cell_type": "code",
   "execution_count": 6,
   "metadata": {},
   "outputs": [
    {
     "data": {
      "text/plain": [
       "[<User username:abehera_SLUSTL>,\n",
       " <User username:abrok_SLU>,\n",
       " <User username:abudureheman.taiwaikuli_SLUSTL>,\n",
       " <User username:adrianjc>,\n",
       " <User username:ahmadaldalawi_slustl>,\n",
       " <User username:alexandra.johnson_SLUSTL>,\n",
       " <User username:areeves8_SLUSTL>,\n",
       " <User username:armbrees_SLUSTL>,\n",
       " <User username:baerah>,\n",
       " <User username:beitschermr>,\n",
       " <User username:blissmc>,\n",
       " <User username:breneman_SLUSTL>,\n",
       " <User username:brinkleykj5>,\n",
       " <User username:bsiracuse>,\n",
       " <User username:buerckjp>,\n",
       " <User username:chris.prener_SLUSTL>,\n",
       " <User username:chuanfeng_slustl>,\n",
       " <User username:coffinsl>,\n",
       " <User username:corey.grejtakheaps>,\n",
       " <User username:cotag_SLU>,\n",
       " <User username:crawfordtw_SLUSTL>,\n",
       " <User username:cuaycongy_SLUSTL>,\n",
       " <User username:david.ridge>,\n",
       " <User username:delpt_SLU>,\n",
       " <User username:dianatid>,\n",
       " <User username:dmhall_SLUSTL>,\n",
       " <User username:edmundsonns>,\n",
       " <User username:emmaleeblackwood>,\n",
       " <User username:femmermd_SLUSTL>,\n",
       " <User username:flanaganm>,\n",
       " <User username:fogelns>,\n",
       " <User username:fredrickha>,\n",
       " <User username:gchadala>,\n",
       " <User username:gilberpg_slu>,\n",
       " <User username:gregbrunner_slugis>,\n",
       " <User username:hamilljc_SLUSTL>,\n",
       " <User username:haretr_SLUSTL>,\n",
       " <User username:heinemannpd>,\n",
       " <User username:hermannscl>,\n",
       " <User username:huttiet>,\n",
       " <User username:ilopezba_SLUSTL>,\n",
       " <User username:jake.brinkman>,\n",
       " <User username:jbesser>,\n",
       " <User username:jesnstevens>,\n",
       " <User username:jlovato12>,\n",
       " <User username:jsandov3@slu.edu>,\n",
       " <User username:jtchin>,\n",
       " <User username:kevineblimit_slustl>,\n",
       " <User username:kirlinb>,\n",
       " <User username:kostielneymi>,\n",
       " <User username:laurenlovato_slustl>,\n",
       " <User username:lbernett_SLUSTL>,\n",
       " <User username:Leard_SLUSTL>,\n",
       " <User username:lockmillerka>,\n",
       " <User username:loganwilliams_slustl>,\n",
       " <User username:loniewskimg>,\n",
       " <User username:madisonbrown3>,\n",
       " <User username:mainhartmr>,\n",
       " <User username:matthewroark_slustl>,\n",
       " <User username:maxwellac>,\n",
       " <User username:mcnelson0>,\n",
       " <User username:megan.greathousegause_SLUSTL>,\n",
       " <User username:mmuell37_SLUSTL>,\n",
       " <User username:mschootm>,\n",
       " <User username:nandismith>,\n",
       " <User username:opusmbephd>,\n",
       " <User username:ottena>,\n",
       " <User username:pagliaro_slu>,\n",
       " <User username:red_catan>,\n",
       " <User username:reev6867_SLUSTL>,\n",
       " <User username:robertwurth_slustl>,\n",
       " <User username:roderzm>,\n",
       " <User username:sakowskimk>,\n",
       " <User username:schwarzkopfrl7>,\n",
       " <User username:shaughnessyar>,\n",
       " <User username:sspiegel_slu>,\n",
       " <User username:stephenSLU>,\n",
       " <User username:stluedu_SLUSTL>,\n",
       " <User username:SuePSC>,\n",
       " <User username:tara.mott_SLUSTL>,\n",
       " <User username:tongxu_SLUSTL>,\n",
       " <User username:txiao1_SLUSTL>,\n",
       " <User username:Tyritch>,\n",
       " <User username:wfmjr68>,\n",
       " <User username:yasen_SLUSTL>,\n",
       " <User username:yasena7>,\n",
       " <User username:yvonne.fisher_SLUSTL>]"
      ]
     },
     "execution_count": 6,
     "metadata": {},
     "output_type": "execute_result"
    }
   ],
   "source": [
    "gis.users.search(\"*\")"
   ]
  },
  {
   "cell_type": "code",
   "execution_count": 7,
   "metadata": {},
   "outputs": [],
   "source": [
    "lauren = gis.users.search(\"Lauren\")[0]"
   ]
  },
  {
   "cell_type": "code",
   "execution_count": 8,
   "metadata": {},
   "outputs": [
    {
     "data": {
      "text/html": [
       "<div class=\"9item_container\" style=\"height: auto; overflow: hidden; border: 1px solid #cfcfcf; border-radius: 2px; background: #f6fafa; line-height: 1.21429em; padding: 10px;\">\n",
       "                    <div class=\"item_left\" style=\"width: 210px; float: left;\">\n",
       "                       <a href='https://SLUSTL.maps.arcgis.com/home/user.html?user=laurenlovato_slustl' target='_blank'>\n",
       "                        <img src='https://SLUSTL.maps.arcgis.com/home/js/arcgisonline/css/images/no-user-thumb.jpg' class=\"itemThumbnail\">\n",
       "                       </a>\n",
       "                    </div>\n",
       "\n",
       "                    <div class=\"item_right\" style=\"float: none; width: auto; overflow: hidden;\">\n",
       "                        <a href='https://SLUSTL.maps.arcgis.com/home/user.html?user=laurenlovato_slustl' target='_blank'><b>Lauren Lovato</b>\n",
       "                        </a>\n",
       "                        <br/><br/><b>Bio</b>: None\n",
       "                        <br/><b>First Name</b>: Lauren\n",
       "                        <br/><b>Last Name</b>: Lovato\n",
       "                        <br/><b>Username</b>: laurenlovato_slustl\n",
       "                        <br/><b>Joined</b>: March 07, 2018\n",
       "\n",
       "                    </div>\n",
       "                </div>\n",
       "                "
      ],
      "text/plain": [
       "<User username:laurenlovato_slustl>"
      ]
     },
     "execution_count": 8,
     "metadata": {},
     "output_type": "execute_result"
    }
   ],
   "source": [
    "lauren"
   ]
  },
  {
   "cell_type": "code",
   "execution_count": 14,
   "metadata": {},
   "outputs": [
    {
     "data": {
      "text/plain": [
       "True"
      ]
     },
     "execution_count": 14,
     "metadata": {},
     "output_type": "execute_result"
    }
   ],
   "source": [
    "lauren.update(thumbnail=\"horse.jpeg\")"
   ]
  },
  {
   "cell_type": "code",
   "execution_count": 15,
   "metadata": {},
   "outputs": [
    {
     "data": {
      "text/html": [
       "<div class=\"9item_container\" style=\"height: auto; overflow: hidden; border: 1px solid #cfcfcf; border-radius: 2px; background: #f6fafa; line-height: 1.21429em; padding: 10px;\">\n",
       "                    <div class=\"item_left\" style=\"width: 210px; float: left;\">\n",
       "                       <a href='https://SLUSTL.maps.arcgis.com/home/user.html?user=laurenlovato_slustl' target='_blank'>\n",
       "                        <img src='data:image/png;base64,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' width='200' height='133' class=\"itemThumbnail\">\n",
       "                       </a>\n",
       "                    </div>\n",
       "\n",
       "                    <div class=\"item_right\" style=\"float: none; width: auto; overflow: hidden;\">\n",
       "                        <a href='https://SLUSTL.maps.arcgis.com/home/user.html?user=laurenlovato_slustl' target='_blank'><b>Lauren Lovato</b>\n",
       "                        </a>\n",
       "                        <br/><br/><b>Bio</b>: None\n",
       "                        <br/><b>First Name</b>: Lauren\n",
       "                        <br/><b>Last Name</b>: Lovato\n",
       "                        <br/><b>Username</b>: laurenlovato_slustl\n",
       "                        <br/><b>Joined</b>: March 07, 2018\n",
       "\n",
       "                    </div>\n",
       "                </div>\n",
       "                "
      ],
      "text/plain": [
       "<User username:laurenlovato_slustl>"
      ]
     },
     "execution_count": 15,
     "metadata": {},
     "output_type": "execute_result"
    }
   ],
   "source": [
    "lauren"
   ]
  },
  {
   "cell_type": "code",
   "execution_count": null,
   "metadata": {},
   "outputs": [],
   "source": []
  }
 ],
 "metadata": {
  "kernelspec": {
   "display_name": "Python 3",
   "language": "python",
   "name": "python3"
  },
  "language_info": {
   "codemirror_mode": {
    "name": "ipython",
    "version": 3
   },
   "file_extension": ".py",
   "mimetype": "text/x-python",
   "name": "python",
   "nbconvert_exporter": "python",
   "pygments_lexer": "ipython3",
   "version": "3.6.5"
  }
 },
 "nbformat": 4,
 "nbformat_minor": 2
}
