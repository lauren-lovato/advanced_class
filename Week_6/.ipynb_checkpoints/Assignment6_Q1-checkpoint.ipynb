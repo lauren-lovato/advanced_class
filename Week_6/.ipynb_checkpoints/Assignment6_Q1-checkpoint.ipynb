{
 "cells": [
  {
   "cell_type": "markdown",
   "metadata": {},
   "source": [
    "## Assignment 6, Question 1"
   ]
  },
  {
   "cell_type": "markdown",
   "metadata": {},
   "source": [
    "#### Create a notebook that geocodes the attached CSVs (Thunder_Departed.csv and Thunder_Acquisitions.csv) of addresses and adds each to the same map opject with a differernt symbology (see [this tutorial](https://developers.arcgis.com/python/sample-notebooks/publishing-sd-shapefiles-and-csv/#Publish-a-CSV-file-and-move-it-into-a-folder if you need help)). Save this as a webmap following from this example (https://developers.arcgis.com/python/guide/working-with-web-maps-and-web-scenes/#Saving-or-Updating-a-web-map). Be sure to go to ArcGIS online and check that the Webmap is there! Hint: You can change the symbology by changing the renderer. For example, if you change the color values inthis renderer, the points will change color accordingly."
   ]
  },
  {
   "cell_type": "code",
   "execution_count": 1,
   "metadata": {},
   "outputs": [
    {
     "name": "stdout",
     "output_type": "stream",
     "text": [
      "Enter password: ········\n"
     ]
    }
   ],
   "source": [
    "from IPython.display import display\n",
    "from arcgis.gis import GIS\n",
    "import os\n",
    "gis = GIS (\"http://slustl.maps.arcgis.com/home\", \"laurenlovato_slustl\")"
   ]
  },
  {
   "cell_type": "code",
   "execution_count": 6,
   "metadata": {},
   "outputs": [],
   "source": [
    "csv_file1 = 'Thunder_Departures.csv'\n",
    "csv_file2 = 'Thunder_Acquisitions.csv'"
   ]
  },
  {
   "cell_type": "code",
   "execution_count": 7,
   "metadata": {},
   "outputs": [],
   "source": [
    "csv_item1 = gis.content.add({}, csv_file1)"
   ]
  },
  {
   "cell_type": "code",
   "execution_count": 8,
   "metadata": {},
   "outputs": [],
   "source": [
    "csv_item2 = gis.content.add({}, csv_file2)"
   ]
  },
  {
   "cell_type": "code",
   "execution_count": 9,
   "metadata": {},
   "outputs": [
    {
     "data": {
      "text/html": [
       "<div class=\"item_container\" style=\"height: auto; overflow: hidden; border: 1px solid #cfcfcf; border-radius: 2px; background: #f6fafa; line-height: 1.21429em; padding: 10px;\">\n",
       "                    <div class=\"item_left\" style=\"width: 210px; float: left;\">\n",
       "                       <a href='http://SLUSTL.maps.arcgis.com/home/item.html?id=937f27aa15464e8b955bdee56cf27026' target='_blank'>\n",
       "                        <img src='http://static.arcgis.com/images/desktopapp.png' class=\"itemThumbnail\">\n",
       "                       </a>\n",
       "                    </div>\n",
       "\n",
       "                    <div class=\"item_right\"     style=\"float: none; width: auto; overflow: hidden;\">\n",
       "                        <a href='http://SLUSTL.maps.arcgis.com/home/item.html?id=937f27aa15464e8b955bdee56cf27026' target='_blank'><b>Thunder_Departures</b>\n",
       "                        </a>\n",
       "                        <br/><img src='http://SLUSTL.maps.arcgis.com/home/js/jsapi/esri/css/images/item_type_icons/layers16.png' style=\"vertical-align:middle;\">CSV by laurenlovato_slustl\n",
       "                        <br/>Last Modified: October 16, 2018\n",
       "                        <br/>0 comments, 0 views\n",
       "                    </div>\n",
       "                </div>\n",
       "                "
      ],
      "text/plain": [
       "<Item title:\"Thunder_Departures\" type:CSV owner:laurenlovato_slustl>"
      ]
     },
     "metadata": {},
     "output_type": "display_data"
    },
    {
     "data": {
      "text/html": [
       "<div class=\"item_container\" style=\"height: auto; overflow: hidden; border: 1px solid #cfcfcf; border-radius: 2px; background: #f6fafa; line-height: 1.21429em; padding: 10px;\">\n",
       "                    <div class=\"item_left\" style=\"width: 210px; float: left;\">\n",
       "                       <a href='http://SLUSTL.maps.arcgis.com/home/item.html?id=fa64e937725e4e4c9a835f259ab4041f' target='_blank'>\n",
       "                        <img src='http://static.arcgis.com/images/desktopapp.png' class=\"itemThumbnail\">\n",
       "                       </a>\n",
       "                    </div>\n",
       "\n",
       "                    <div class=\"item_right\"     style=\"float: none; width: auto; overflow: hidden;\">\n",
       "                        <a href='http://SLUSTL.maps.arcgis.com/home/item.html?id=fa64e937725e4e4c9a835f259ab4041f' target='_blank'><b>Thunder_Acquisitions</b>\n",
       "                        </a>\n",
       "                        <br/><img src='http://SLUSTL.maps.arcgis.com/home/js/jsapi/esri/css/images/item_type_icons/layers16.png' style=\"vertical-align:middle;\">CSV by laurenlovato_slustl\n",
       "                        <br/>Last Modified: October 16, 2018\n",
       "                        <br/>0 comments, 0 views\n",
       "                    </div>\n",
       "                </div>\n",
       "                "
      ],
      "text/plain": [
       "<Item title:\"Thunder_Acquisitions\" type:CSV owner:laurenlovato_slustl>"
      ]
     },
     "metadata": {},
     "output_type": "display_data"
    }
   ],
   "source": [
    "display(csv_item1, csv_item2)"
   ]
  },
  {
   "cell_type": "code",
   "execution_count": 10,
   "metadata": {},
   "outputs": [
    {
     "data": {
      "text/html": [
       "<div class=\"item_container\" style=\"height: auto; overflow: hidden; border: 1px solid #cfcfcf; border-radius: 2px; background: #f6fafa; line-height: 1.21429em; padding: 10px;\">\n",
       "                    <div class=\"item_left\" style=\"width: 210px; float: left;\">\n",
       "                       <a href='http://SLUSTL.maps.arcgis.com/home/item.html?id=a1e59df595064468bafa6690e49f34bd' target='_blank'>\n",
       "                        <img src='http://static.arcgis.com/images/desktopapp.png' class=\"itemThumbnail\">\n",
       "                       </a>\n",
       "                    </div>\n",
       "\n",
       "                    <div class=\"item_right\"     style=\"float: none; width: auto; overflow: hidden;\">\n",
       "                        <a href='http://SLUSTL.maps.arcgis.com/home/item.html?id=a1e59df595064468bafa6690e49f34bd' target='_blank'><b>Thunder_Departures</b>\n",
       "                        </a>\n",
       "                        <br/><img src='http://SLUSTL.maps.arcgis.com/home/js/jsapi/esri/css/images/item_type_icons/featureshosted16.png' style=\"vertical-align:middle;\">Feature Layer Collection by laurenlovato_slustl\n",
       "                        <br/>Last Modified: October 16, 2018\n",
       "                        <br/>0 comments, 0 views\n",
       "                    </div>\n",
       "                </div>\n",
       "                "
      ],
      "text/plain": [
       "<Item title:\"Thunder_Departures\" type:Feature Layer Collection owner:laurenlovato_slustl>"
      ]
     },
     "metadata": {},
     "output_type": "display_data"
    }
   ],
   "source": [
    "csv_layer1=csv_item1.publish(None, {\"Address\":\"ToLocation\"})\n",
    "display(csv_layer1)"
   ]
  },
  {
   "cell_type": "code",
   "execution_count": 12,
   "metadata": {},
   "outputs": [
    {
     "data": {
      "text/html": [
       "<div class=\"item_container\" style=\"height: auto; overflow: hidden; border: 1px solid #cfcfcf; border-radius: 2px; background: #f6fafa; line-height: 1.21429em; padding: 10px;\">\n",
       "                    <div class=\"item_left\" style=\"width: 210px; float: left;\">\n",
       "                       <a href='http://SLUSTL.maps.arcgis.com/home/item.html?id=1277774e6fd840a9bc469e1fdafde82b' target='_blank'>\n",
       "                        <img src='http://static.arcgis.com/images/desktopapp.png' class=\"itemThumbnail\">\n",
       "                       </a>\n",
       "                    </div>\n",
       "\n",
       "                    <div class=\"item_right\"     style=\"float: none; width: auto; overflow: hidden;\">\n",
       "                        <a href='http://SLUSTL.maps.arcgis.com/home/item.html?id=1277774e6fd840a9bc469e1fdafde82b' target='_blank'><b>Thunder_Acquisitions</b>\n",
       "                        </a>\n",
       "                        <br/><img src='http://SLUSTL.maps.arcgis.com/home/js/jsapi/esri/css/images/item_type_icons/featureshosted16.png' style=\"vertical-align:middle;\">Feature Layer Collection by laurenlovato_slustl\n",
       "                        <br/>Last Modified: October 16, 2018\n",
       "                        <br/>0 comments, 0 views\n",
       "                    </div>\n",
       "                </div>\n",
       "                "
      ],
      "text/plain": [
       "<Item title:\"Thunder_Acquisitions\" type:Feature Layer Collection owner:laurenlovato_slustl>"
      ]
     },
     "metadata": {},
     "output_type": "display_data"
    }
   ],
   "source": [
    "csv_layer2=csv_item2.publish(None, {\"Address\":\"FromLocation\"})\n",
    "display(csv_layer2)"
   ]
  },
  {
   "cell_type": "code",
   "execution_count": 13,
   "metadata": {},
   "outputs": [
    {
     "name": "stdout",
     "output_type": "stream",
     "text": [
      "{'username': 'laurenlovato_slustl', 'id': '7ba82822a38646e8b1460b4898422d59', 'title': 'Thunder Data'}\n"
     ]
    }
   ],
   "source": [
    "new_folder_details = gis.content.create_folder(\"Thunder Data\")\n",
    "print(new_folder_details)"
   ]
  },
  {
   "cell_type": "code",
   "execution_count": 14,
   "metadata": {},
   "outputs": [
    {
     "data": {
      "text/plain": [
       "{'success': True,\n",
       " 'itemId': '1277774e6fd840a9bc469e1fdafde82b',\n",
       " 'owner': 'laurenlovato_slustl',\n",
       " 'folder': '7ba82822a38646e8b1460b4898422d59'}"
      ]
     },
     "execution_count": 14,
     "metadata": {},
     "output_type": "execute_result"
    }
   ],
   "source": [
    "csv_item1.move(new_folder_details)\n",
    "csv_item2.move(new_folder_details)\n",
    "csv_layer1.move(new_folder_details)\n",
    "csv_layer2.move(new_folder_details)"
   ]
  },
  {
   "cell_type": "code",
   "execution_count": 15,
   "metadata": {},
   "outputs": [
    {
     "name": "stdout",
     "output_type": "stream",
     "text": [
      "7ba82822a38646e8b1460b4898422d59\n",
      "7ba82822a38646e8b1460b4898422d59\n"
     ]
    }
   ],
   "source": [
    "print(csv_layer1.ownerFolder)\n",
    "print(csv_layer2.ownerFolder)"
   ]
  },
  {
   "cell_type": "markdown",
   "metadata": {},
   "source": [
    "CSV items/layers are created"
   ]
  },
  {
   "cell_type": "markdown",
   "metadata": {},
   "source": [
    "#### Create the WebMap"
   ]
  },
  {
   "cell_type": "code",
   "execution_count": 63,
   "metadata": {},
   "outputs": [],
   "source": [
    "from arcgis.mapping import WebMap\n",
    "empty_webmap = WebMap()"
   ]
  },
  {
   "cell_type": "code",
   "execution_count": 64,
   "metadata": {},
   "outputs": [
    {
     "data": {
      "text/plain": [
       "[]"
      ]
     },
     "execution_count": 64,
     "metadata": {},
     "output_type": "execute_result"
    }
   ],
   "source": [
    "empty_webmap.layers"
   ]
  },
  {
   "cell_type": "code",
   "execution_count": 65,
   "metadata": {},
   "outputs": [],
   "source": [
    "thunder_data = gis.content.get('1277774e6fd840a9bc469e1fdafde82b')"
   ]
  },
  {
   "cell_type": "code",
   "execution_count": 66,
   "metadata": {},
   "outputs": [
    {
     "data": {
      "text/plain": [
       "True"
      ]
     },
     "execution_count": 66,
     "metadata": {},
     "output_type": "execute_result"
    }
   ],
   "source": [
    "simple_renderer = {\n",
    "  \"renderer\": {\n",
    "    \"type\": \"simple\",\n",
    "    \"symbol\": {\n",
    "      \"color\": [0, 0, 128, 128],\n",
    "      \"size\": 15,\n",
    "      \"angle\": 0,\n",
    "      \"xoffset\": 0,\n",
    "      \"yoffset\": 0,\n",
    "      \"type\": \"esriSMS\",\n",
    "      \"style\": \"esriSMSCircle\",\n",
    "      \"outline\": {\n",
    "        \"color\": [0, 0, 128, 255],\n",
    "        \"width\": 0.99975,\n",
    "        \"type\": \"esriSLS\",\n",
    "        \"style\": \"esriSLSSolid\"\n",
    "      }\n",
    "    }\n",
    "  }\n",
    "}\n",
    "\n",
    "empty_webmap.add_layer(csv_layer1, simple_renderer)"
   ]
  },
  {
   "cell_type": "code",
   "execution_count": 67,
   "metadata": {},
   "outputs": [
    {
     "data": {
      "text/plain": [
       "True"
      ]
     },
     "execution_count": 67,
     "metadata": {},
     "output_type": "execute_result"
    }
   ],
   "source": [
    "simple_renderer2 = {\n",
    "  \"renderer\": {\n",
    "    \"type\": \"simple\",\n",
    "    \"symbol\": {\n",
    "      \"color\": [255, 0, 0, 128],\n",
    "      \"size\": 15,\n",
    "      \"angle\": 0,\n",
    "      \"xoffset\": 0,\n",
    "      \"yoffset\": 0,\n",
    "      \"type\": \"esriSMS\",\n",
    "      \"style\": \"esriSMSCircle\",\n",
    "      \"outline\": {\n",
    "        \"color\":[255, 0, 0, 255],\n",
    "        \"width\": 0.99975,\n",
    "        \"type\": \"esriSLS\",\n",
    "        \"style\": \"esriSLSSolid\"\n",
    "      }\n",
    "    }\n",
    "  }\n",
    "}\n",
    "\n",
    "empty_webmap.add_layer(csv_layer2, simple_renderer2)"
   ]
  },
  {
   "cell_type": "code",
   "execution_count": 68,
   "metadata": {},
   "outputs": [],
   "source": [
    "webmap_item_properties = {'title':'Thunder Acquisitions and Departures',\n",
    "                         'snippet':'Map of NBA team Oklahoma City Thunder player acquisitions and departures',\n",
    "                         'tags':['NBA', 'basketball']}"
   ]
  },
  {
   "cell_type": "code",
   "execution_count": 69,
   "metadata": {},
   "outputs": [
    {
     "data": {
      "text/html": [
       "<div class=\"item_container\" style=\"height: auto; overflow: hidden; border: 1px solid #cfcfcf; border-radius: 2px; background: #f6fafa; line-height: 1.21429em; padding: 10px;\">\n",
       "                    <div class=\"item_left\" style=\"width: 210px; float: left;\">\n",
       "                       <a href='http://SLUSTL.maps.arcgis.com/home/item.html?id=d403afcb81484139b5a23d4923ead9ad' target='_blank'>\n",
       "                        <img src='http://static.arcgis.com/images/desktopapp.png' class=\"itemThumbnail\">\n",
       "                       </a>\n",
       "                    </div>\n",
       "\n",
       "                    <div class=\"item_right\"     style=\"float: none; width: auto; overflow: hidden;\">\n",
       "                        <a href='http://SLUSTL.maps.arcgis.com/home/item.html?id=d403afcb81484139b5a23d4923ead9ad' target='_blank'><b>Thunder Acquisitions and Departures</b>\n",
       "                        </a>\n",
       "                        <br/>Map of NBA team Oklahoma City Thunder player acquisitions and departures<img src='http://SLUSTL.maps.arcgis.com/home/js/jsapi/esri/css/images/item_type_icons/maps16.png' style=\"vertical-align:middle;\">Web Map by laurenlovato_slustl\n",
       "                        <br/>Last Modified: October 16, 2018\n",
       "                        <br/>0 comments, 0 views\n",
       "                    </div>\n",
       "                </div>\n",
       "                "
      ],
      "text/plain": [
       "<Item title:\"Thunder Acquisitions and Departures\" type:Web Map owner:laurenlovato_slustl>"
      ]
     },
     "execution_count": 69,
     "metadata": {},
     "output_type": "execute_result"
    }
   ],
   "source": [
    "empty_webmap.save(webmap_item_properties)"
   ]
  },
  {
   "cell_type": "code",
   "execution_count": 70,
   "metadata": {},
   "outputs": [
    {
     "name": "stdout",
     "output_type": "stream",
     "text": [
      "Thunder_Departures\n",
      "Thunder_Acquisitions\n"
     ]
    }
   ],
   "source": [
    "for layer in empty_webmap.layers:\n",
    "    print (layer.title)"
   ]
  },
  {
   "cell_type": "code",
   "execution_count": null,
   "metadata": {},
   "outputs": [],
   "source": []
  }
 ],
 "metadata": {
  "kernelspec": {
   "display_name": "Python 3",
   "language": "python",
   "name": "python3"
  },
  "language_info": {
   "codemirror_mode": {
    "name": "ipython",
    "version": 3
   },
   "file_extension": ".py",
   "mimetype": "text/x-python",
   "name": "python",
   "nbconvert_exporter": "python",
   "pygments_lexer": "ipython3",
   "version": "3.6.5"
  }
 },
 "nbformat": 4,
 "nbformat_minor": 2
}
