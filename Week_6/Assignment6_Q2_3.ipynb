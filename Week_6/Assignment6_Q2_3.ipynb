{
 "cells": [
  {
   "cell_type": "markdown",
   "metadata": {},
   "source": [
    "## Assignment 6, Question 2 and 3"
   ]
  },
  {
   "cell_type": "markdown",
   "metadata": {},
   "source": [
    "### Q2: Using Python, create 3 groups in ArcGIS Online:\n",
    "YOUR_FIRST_NAME_Webmaps, \n",
    "YOUR_FIRST_NAME_Feature_Services, \n",
    "YOUR_FIRST_NAME_All_Content"
   ]
  },
  {
   "cell_type": "code",
   "execution_count": 1,
   "metadata": {},
   "outputs": [],
   "source": [
    "from arcgis.gis import GIS"
   ]
  },
  {
   "cell_type": "code",
   "execution_count": 3,
   "metadata": {},
   "outputs": [
    {
     "name": "stdout",
     "output_type": "stream",
     "text": [
      "Enter password: ········\n"
     ]
    }
   ],
   "source": [
    "gis = GIS (\"http://slustl.maps.arcgis.com/home\", \"laurenlovato_slustl\")"
   ]
  },
  {
   "cell_type": "code",
   "execution_count": 4,
   "metadata": {},
   "outputs": [],
   "source": [
    "Lauren_Webmaps = gis.groups.create(title=\"Lauren_Webmaps\", \n",
    "                                   tags = \"webmap\", \n",
    "                                   description = \"Group to share Webmaps for GIS 5091\", \n",
    "                                   access = 'org')"
   ]
  },
  {
   "cell_type": "code",
   "execution_count": 5,
   "metadata": {},
   "outputs": [
    {
     "data": {
      "text/html": [
       "<div class=\"9item_container\" style=\"height: auto; overflow: hidden; border: 1px solid #cfcfcf; border-radius: 2px; background: #f6fafa; line-height: 1.21429em; padding: 10px;\">\n",
       "                    <div class=\"item_left\" style=\"width: 210px; float: left;\">\n",
       "                       <a href='http://SLUSTL.maps.arcgis.com/home/group.html?id=e58a80e47ead4ee9bbb2a168b0085573' target='_blank'>\n",
       "                        <img src='http://SLUSTL.maps.arcgis.com/home/images/group-no-image.png' class=\"itemThumbnail\">\n",
       "                       </a>\n",
       "                    </div>\n",
       "\n",
       "                    <div class=\"item_right\" style=\"float: none; width: auto; overflow: hidden;\">\n",
       "                        <a href='http://SLUSTL.maps.arcgis.com/home/group.html?id=e58a80e47ead4ee9bbb2a168b0085573' target='_blank'><b>Lauren_Webmaps</b>\n",
       "                        </a>\n",
       "                        <br/>\n",
       "                        <br/><b>Summary</b>: None\n",
       "                        <br/><b>Description</b>: Group to share Webmaps for GIS 5091\n",
       "                        <br/><b>Owner</b>: laurenlovato_slustl\n",
       "                        <br/><b>Created</b>: October 16, 2018\n",
       "\n",
       "                    </div>\n",
       "                </div>\n",
       "                "
      ],
      "text/plain": [
       "<Group title:\"Lauren_Webmaps\" owner:laurenlovato_slustl>"
      ]
     },
     "execution_count": 5,
     "metadata": {},
     "output_type": "execute_result"
    }
   ],
   "source": [
    "Lauren_Webmaps"
   ]
  },
  {
   "cell_type": "code",
   "execution_count": 6,
   "metadata": {},
   "outputs": [],
   "source": [
    "Lauren_Feature_Services = gis.groups.create(title=\"Lauren_Feature_Services\", \n",
    "                                   tags = \"feature service\", \n",
    "                                   description = \"Group to share feature services for GIS 5091\", \n",
    "                                   access = 'org')"
   ]
  },
  {
   "cell_type": "code",
   "execution_count": 10,
   "metadata": {},
   "outputs": [
    {
     "data": {
      "text/html": [
       "<div class=\"9item_container\" style=\"height: auto; overflow: hidden; border: 1px solid #cfcfcf; border-radius: 2px; background: #f6fafa; line-height: 1.21429em; padding: 10px;\">\n",
       "                    <div class=\"item_left\" style=\"width: 210px; float: left;\">\n",
       "                       <a href='http://SLUSTL.maps.arcgis.com/home/group.html?id=adcb280aa9714bc28711e77305e09761' target='_blank'>\n",
       "                        <img src='http://SLUSTL.maps.arcgis.com/home/images/group-no-image.png' class=\"itemThumbnail\">\n",
       "                       </a>\n",
       "                    </div>\n",
       "\n",
       "                    <div class=\"item_right\" style=\"float: none; width: auto; overflow: hidden;\">\n",
       "                        <a href='http://SLUSTL.maps.arcgis.com/home/group.html?id=adcb280aa9714bc28711e77305e09761' target='_blank'><b>Lauren_Feature_Services</b>\n",
       "                        </a>\n",
       "                        <br/>\n",
       "                        <br/><b>Summary</b>: None\n",
       "                        <br/><b>Description</b>: Group to share feature services for GIS 5091\n",
       "                        <br/><b>Owner</b>: laurenlovato_slustl\n",
       "                        <br/><b>Created</b>: October 16, 2018\n",
       "\n",
       "                    </div>\n",
       "                </div>\n",
       "                "
      ],
      "text/plain": [
       "<Group title:\"Lauren_Feature_Services\" owner:laurenlovato_slustl>"
      ]
     },
     "execution_count": 10,
     "metadata": {},
     "output_type": "execute_result"
    }
   ],
   "source": [
    "Lauren_Feature_Services"
   ]
  },
  {
   "cell_type": "code",
   "execution_count": 8,
   "metadata": {},
   "outputs": [],
   "source": [
    "Lauren_All_Content = gis.groups.create(title=\"Lauren_All_Content\", \n",
    "                                   tags = \"feature service\", \n",
    "                                   description = \"Group to share content for GIS 5091\", \n",
    "                                   access = 'org')"
   ]
  },
  {
   "cell_type": "code",
   "execution_count": 9,
   "metadata": {},
   "outputs": [
    {
     "data": {
      "text/html": [
       "<div class=\"9item_container\" style=\"height: auto; overflow: hidden; border: 1px solid #cfcfcf; border-radius: 2px; background: #f6fafa; line-height: 1.21429em; padding: 10px;\">\n",
       "                    <div class=\"item_left\" style=\"width: 210px; float: left;\">\n",
       "                       <a href='http://SLUSTL.maps.arcgis.com/home/group.html?id=ccf36e36d6d64c6d89d37bc508be8e17' target='_blank'>\n",
       "                        <img src='http://SLUSTL.maps.arcgis.com/home/images/group-no-image.png' class=\"itemThumbnail\">\n",
       "                       </a>\n",
       "                    </div>\n",
       "\n",
       "                    <div class=\"item_right\" style=\"float: none; width: auto; overflow: hidden;\">\n",
       "                        <a href='http://SLUSTL.maps.arcgis.com/home/group.html?id=ccf36e36d6d64c6d89d37bc508be8e17' target='_blank'><b>Lauren_All_Content</b>\n",
       "                        </a>\n",
       "                        <br/>\n",
       "                        <br/><b>Summary</b>: None\n",
       "                        <br/><b>Description</b>: Group to share content for GIS 5091\n",
       "                        <br/><b>Owner</b>: laurenlovato_slustl\n",
       "                        <br/><b>Created</b>: October 16, 2018\n",
       "\n",
       "                    </div>\n",
       "                </div>\n",
       "                "
      ],
      "text/plain": [
       "<Group title:\"Lauren_All_Content\" owner:laurenlovato_slustl>"
      ]
     },
     "execution_count": 9,
     "metadata": {},
     "output_type": "execute_result"
    }
   ],
   "source": [
    "Lauren_All_Content"
   ]
  },
  {
   "cell_type": "markdown",
   "metadata": {},
   "source": [
    "### Q3\n",
    "#### Using Python, share any webmaps you have in your ArcGIS Online account with YOUR_FIRST_NAME_Webmaps. Share any Feature Services you have with YOUR_FIRST_NAME_Feature_Services,and share all content you have with YOUR_FIRST_NAME_All_Content. Note that if you have no webmaps or feature services, publish a feature service and create a webmap beforehand."
   ]
  },
  {
   "cell_type": "code",
   "execution_count": 17,
   "metadata": {},
   "outputs": [
    {
     "data": {
      "text/plain": [
       "[<Item title:\"my_acled_demo\" type:Service Definition owner:laurenlovato_slustl>,\n",
       " <Item title:\"LL_acled_demo\" type:Service Definition owner:laurenlovato_slustl>,\n",
       " <Item title:\"LL_acled_demo\" type:Feature Layer Collection owner:laurenlovato_slustl>,\n",
       " <Item title:\"ACLED_map_LL\" type:Web Map owner:laurenlovato_slustl>,\n",
       " <Item title:\"LL_acled_demo_pred_surface\" type:Feature Layer Collection owner:laurenlovato_slustl>,\n",
       " <Item title:\"ACLED_map_LL\" type:Web Mapping Application owner:laurenlovato_slustl>,\n",
       " <Item title:\"ACLED_map_LL_story\" type:Web Mapping Application owner:laurenlovato_slustl>,\n",
       " <Item title:\"St. Louis Flood Hazard\" type:Web Map owner:laurenlovato_slustl>,\n",
       " <Item title:\"St. Louis Area Riding Stables\" type:Web Map owner:laurenlovato_slustl>,\n",
       " <Item title:\"STL_metro_counties\" type:Shapefile owner:laurenlovato_slustl>,\n",
       " <Item title:\"STL_metro_counties\" type:Feature Layer Collection owner:laurenlovato_slustl>,\n",
       " <Item title:\"StLouis_area_Stables\" type:CSV owner:laurenlovato_slustl>,\n",
       " <Item title:\"StLouis_area_Stables\" type:Feature Layer Collection owner:laurenlovato_slustl>,\n",
       " <Item title:\"LL ACLED Simple Renderer\" type:Web Map owner:laurenlovato_slustl>,\n",
       " <Item title:\"chennai-rainfall\" type:CSV owner:laurenlovato_slustl>,\n",
       " <Item title:\"Mars_features_points\" type:CSV owner:laurenlovato_slustl>,\n",
       " <Item title:\"Mars_features_points\" type:Feature Layer Collection owner:laurenlovato_slustl>,\n",
       " <Item title:\"Mars_features_points\" type:Web Map owner:laurenlovato_slustl>,\n",
       " <Item title:\"Mars Features\" type:Web Map owner:laurenlovato_slustl>,\n",
       " <Item title:\"Thunder Acquisitions and Departures\" type:Web Map owner:laurenlovato_slustl>]"
      ]
     },
     "execution_count": 17,
     "metadata": {},
     "output_type": "execute_result"
    }
   ],
   "source": [
    "gis.users.me.items()"
   ]
  },
  {
   "cell_type": "code",
   "execution_count": 20,
   "metadata": {},
   "outputs": [
    {
     "data": {
      "text/plain": [
       "{'notSharedWith': [], 'itemId': 'd403afcb81484139b5a23d4923ead9ad'}"
      ]
     },
     "execution_count": 20,
     "metadata": {},
     "output_type": "execute_result"
    }
   ],
   "source": [
    "webmap = gis.content.get('d403afcb81484139b5a23d4923ead9ad')\n",
    "webmap.share(groups=Lauren_Webmaps.id)"
   ]
  },
  {
   "cell_type": "code",
   "execution_count": 22,
   "metadata": {},
   "outputs": [
    {
     "data": {
      "text/plain": [
       "{'notSharedWith': [], 'itemId': '335d6ee68cb849579770fa128295b5a1'}"
      ]
     },
     "execution_count": 22,
     "metadata": {},
     "output_type": "execute_result"
    }
   ],
   "source": [
    "feature_service = gis.content.get(\"335d6ee68cb849579770fa128295b5a1\")\n",
    "feature_service.share(groups=Lauren_Feature_Services.id)"
   ]
  },
  {
   "cell_type": "code",
   "execution_count": 23,
   "metadata": {},
   "outputs": [
    {
     "data": {
      "text/plain": [
       "{'notSharedWith': [], 'itemId': '335d6ee68cb849579770fa128295b5a1'}"
      ]
     },
     "execution_count": 23,
     "metadata": {},
     "output_type": "execute_result"
    }
   ],
   "source": [
    "webmap.share(groups=Lauren_All_Content.id)\n",
    "feature_service.share(groups=Lauren_All_Content.id)"
   ]
  },
  {
   "cell_type": "code",
   "execution_count": null,
   "metadata": {},
   "outputs": [],
   "source": []
  }
 ],
 "metadata": {
  "kernelspec": {
   "display_name": "Python 3",
   "language": "python",
   "name": "python3"
  },
  "language_info": {
   "codemirror_mode": {
    "name": "ipython",
    "version": 3
   },
   "file_extension": ".py",
   "mimetype": "text/x-python",
   "name": "python",
   "nbconvert_exporter": "python",
   "pygments_lexer": "ipython3",
   "version": "3.6.5"
  }
 },
 "nbformat": 4,
 "nbformat_minor": 2
}
