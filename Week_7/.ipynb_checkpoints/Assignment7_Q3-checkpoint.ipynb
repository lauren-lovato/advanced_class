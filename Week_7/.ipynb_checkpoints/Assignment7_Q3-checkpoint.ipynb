{
 "cells": [
  {
   "cell_type": "markdown",
   "metadata": {},
   "source": [
    "# Week 7, Assignment 7, Question 3"
   ]
  },
  {
   "cell_type": "markdown",
   "metadata": {},
   "source": [
    "### Publish the following:\n",
    "* The zipped geodatabase containing the St. Louis crime data (STL_Crime.gdb.zip).\n",
    "* The zipped shapefiles of St. Louis Neighborhoods (nbrhds_wards.zip). After publishing them, make sure they exist in ArcGIS Online. You can give your features unique names when you publish them by filling in the json in the gis.content.addmethod as follows:    \n",
    " gis.content.add({\"title\":\"stl_wards_by_greg\"}, wards)\n",
    "### Note that you can add other properties like a description, snippets, and tags"
   ]
  },
  {
   "cell_type": "code",
   "execution_count": 1,
   "metadata": {},
   "outputs": [
    {
     "name": "stdout",
     "output_type": "stream",
     "text": [
      "Enter password: ········\n"
     ]
    }
   ],
   "source": [
    "from arcgis.gis import GIS\n",
    "gis = GIS(\"http://slustl.maps.arcgis.com/home\", \"laurenlovato_slustl\")"
   ]
  },
  {
   "cell_type": "code",
   "execution_count": 12,
   "metadata": {},
   "outputs": [],
   "source": [
    "import os\n",
    "old_crime = \"STL_Crime_gjb.gdb.zip\"\n",
    "new_crime = \"STL_Crime_LL.gdb.zip\"\n",
    "os.rename(old_crime, new_crime)\n",
    "\n",
    "old_nbrhds=\"nbrhds_wards_gjb.zip\"\n",
    "new_nbrhds = \"nbrhds_wards_LL.zip\"\n",
    "os.rename(old_nbrhds, new_nbrhds)"
   ]
  },
  {
   "cell_type": "code",
   "execution_count": 15,
   "metadata": {},
   "outputs": [],
   "source": [
    "thumbnail_path = \"st-louis-crime-tape-web-generic.jpg\"\n",
    "crime = gis.content.add({\"title\":\"St. Louis Crime LL\", \"tags\":\"St. Louis, crime\",\n",
    "                      \"description\": \"Crime data of St. Louis, MO\"},new_crime, thumbnail = thumbnail_path)"
   ]
  },
  {
   "cell_type": "code",
   "execution_count": 16,
   "metadata": {},
   "outputs": [
    {
     "data": {
      "text/html": [
       "<div class=\"item_container\" style=\"height: auto; overflow: hidden; border: 1px solid #cfcfcf; border-radius: 2px; background: #f6fafa; line-height: 1.21429em; padding: 10px;\">\n",
       "                    <div class=\"item_left\" style=\"width: 210px; float: left;\">\n",
       "                       <a href='http://SLUSTL.maps.arcgis.com/home/item.html?id=ab401cc3bed64aa8863bcf2a1be909f8' target='_blank'>\n",
       "                        <img src='data:image/png;base64,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' width='200' height='133' class=\"itemThumbnail\">\n",
       "                       </a>\n",
       "                    </div>\n",
       "\n",
       "                    <div class=\"item_right\"     style=\"float: none; width: auto; overflow: hidden;\">\n",
       "                        <a href='http://SLUSTL.maps.arcgis.com/home/item.html?id=ab401cc3bed64aa8863bcf2a1be909f8' target='_blank'><b>St. Louis Crime LL</b>\n",
       "                        </a>\n",
       "                        <br/><img src='http://SLUSTL.maps.arcgis.com/home/js/jsapi/esri/css/images/item_type_icons/featureshosted16.png' style=\"vertical-align:middle;\">Feature Layer Collection by laurenlovato_slustl\n",
       "                        <br/>Last Modified: October 21, 2018\n",
       "                        <br/>0 comments, 0 views\n",
       "                    </div>\n",
       "                </div>\n",
       "                "
      ],
      "text/plain": [
       "<Item title:\"St. Louis Crime LL\" type:Feature Layer Collection owner:laurenlovato_slustl>"
      ]
     },
     "execution_count": 16,
     "metadata": {},
     "output_type": "execute_result"
    }
   ],
   "source": [
    "published_crime = crime.publish()\n",
    "published_crime"
   ]
  },
  {
   "cell_type": "code",
   "execution_count": 17,
   "metadata": {},
   "outputs": [],
   "source": [
    "thumbnail_jpg = \"STL_neighborhoods.jpg\"\n",
    "neighborhoods_shp = gis.content.add({\"title\":\"St. Louis Neighborhoods LL\",\"tags\":\"St. Louis. neighborhoods\",\n",
    "                                    \"description\": \"Neighborhoods of St. Louis, MO\" }, new_nbrhds, thumbnail = thumbnail_jpg)"
   ]
  },
  {
   "cell_type": "code",
   "execution_count": 18,
   "metadata": {},
   "outputs": [
    {
     "data": {
      "text/html": [
       "<div class=\"item_container\" style=\"height: auto; overflow: hidden; border: 1px solid #cfcfcf; border-radius: 2px; background: #f6fafa; line-height: 1.21429em; padding: 10px;\">\n",
       "                    <div class=\"item_left\" style=\"width: 210px; float: left;\">\n",
       "                       <a href='http://SLUSTL.maps.arcgis.com/home/item.html?id=9f395929292a4bf9ae35dd12619fbe43' target='_blank'>\n",
       "                        <img src='data:image/png;base64,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' width='200' height='133' class=\"itemThumbnail\">\n",
       "                       </a>\n",
       "                    </div>\n",
       "\n",
       "                    <div class=\"item_right\"     style=\"float: none; width: auto; overflow: hidden;\">\n",
       "                        <a href='http://SLUSTL.maps.arcgis.com/home/item.html?id=9f395929292a4bf9ae35dd12619fbe43' target='_blank'><b>St. Louis Neighborhoods LL</b>\n",
       "                        </a>\n",
       "                        <br/><img src='http://SLUSTL.maps.arcgis.com/home/js/jsapi/esri/css/images/item_type_icons/featureshosted16.png' style=\"vertical-align:middle;\">Feature Layer Collection by laurenlovato_slustl\n",
       "                        <br/>Last Modified: October 21, 2018\n",
       "                        <br/>0 comments, 0 views\n",
       "                    </div>\n",
       "                </div>\n",
       "                "
      ],
      "text/plain": [
       "<Item title:\"St. Louis Neighborhoods LL\" type:Feature Layer Collection owner:laurenlovato_slustl>"
      ]
     },
     "execution_count": 18,
     "metadata": {},
     "output_type": "execute_result"
    }
   ],
   "source": [
    "published_neighborhoods = neighborhoods_shp.publish()\n",
    "published_neighborhoods"
   ]
  },
  {
   "cell_type": "code",
   "execution_count": null,
   "metadata": {},
   "outputs": [],
   "source": []
  }
 ],
 "metadata": {
  "kernelspec": {
   "display_name": "Python 3",
   "language": "python",
   "name": "python3"
  },
  "language_info": {
   "codemirror_mode": {
    "name": "ipython",
    "version": 3
   },
   "file_extension": ".py",
   "mimetype": "text/x-python",
   "name": "python",
   "nbconvert_exporter": "python",
   "pygments_lexer": "ipython3",
   "version": "3.6.5"
  }
 },
 "nbformat": 4,
 "nbformat_minor": 2
}
