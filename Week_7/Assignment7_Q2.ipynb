{
 "cells": [
  {
   "cell_type": "markdown",
   "metadata": {},
   "source": [
    "# Week 7, Assignment 7, Question 2"
   ]
  },
  {
   "cell_type": "markdown",
   "metadata": {},
   "source": [
    "### The UNHCR Data API provides robust statistics on immigration accross the world. Using the data API, publish 5 new items in ArcIGS Online of the location and number of assylum seekers from each location seeking assylum in England (GBR), France (FRA), Australia (AUS), Germany (DEU), and the USA (USA). Please see the UNHCR Sample Notebook to help get you started. The code pattern that I think you should establish should look something like the following: \n",
    "#### for c in country_list: \n",
    "    print('looking at ' + c)\n",
    "    df = pd.read_json(...)\n",
    "    resettlment_stats = gis.content.import_data(df, {\"Address\" : \"country_of_origin_en\"})\n",
    "    item_properties = {...\n",
    "    }\n",
    "    item = gis.content.add(item_properties)\n",
    "### Some helpful details can be found in the HTML table to pandas dataframe to portal item tutoria. Please verify that these were published by going into ArcGIS Online after you think it has been successful."
   ]
  },
  {
   "cell_type": "code",
   "execution_count": 87,
   "metadata": {},
   "outputs": [
    {
     "name": "stdout",
     "output_type": "stream",
     "text": [
      "Enter password: ········\n"
     ]
    }
   ],
   "source": [
    "from arcgis.gis import GIS\n",
    "from IPython.display import display\n",
    "gis = GIS(\"http://slustl.maps.arcgis.com/home\", \"laurenlovato_slustl\")"
   ]
  },
  {
   "cell_type": "code",
   "execution_count": 88,
   "metadata": {},
   "outputs": [],
   "source": [
    "import pandas as pd\n",
    "import requests\n",
    "import json"
   ]
  },
  {
   "cell_type": "markdown",
   "metadata": {},
   "source": [
    "#### Used 2017 resettlement data to get the number of people that sought asylum from each country"
   ]
  },
  {
   "cell_type": "code",
   "execution_count": 89,
   "metadata": {},
   "outputs": [],
   "source": [
    "GBR_url = 'http://popdata.unhcr.org/api/stats/resettlement.json?year=2017&country_of_asylum=GBR'\n",
    "FRA_url = 'http://popdata.unhcr.org/api/stats/resettlement.json?year=2017&country_of_asylum=FRA'\n",
    "AUS_url = 'http://popdata.unhcr.org/api/stats/resettlement.json?year=2017&country_of_asylum=AUS'\n",
    "DEU_url = 'http://popdata.unhcr.org/api/stats/resettlement.json?year=2017&country_of_asylum=DEU'\n",
    "USA_url = 'http://popdata.unhcr.org/api/stats/resettlement.json?year=2017&country_of_asylum=USA'"
   ]
  },
  {
   "cell_type": "code",
   "execution_count": 90,
   "metadata": {},
   "outputs": [],
   "source": [
    "country_list =[GBR_url, FRA_url, AUS_url, DEU_url, USA_url]\n",
    "titles = [\"Great Britain 2017 Asylum Seekers\", \"France 2017 Asylum Seekers\", \"Austrialia 2017 Asylum Seekers\", \n",
    "          \"Germany 2017 Asylum Seekers\", \"United States 2017 Asylum Seekers\"]\n",
    "tags = ['refugees, UNHRC, Great Britain', 'refugees, UNHRC, France', 'refugees, UNHRC, Australia', \n",
    "         'refugees, UNHRC, Germany', 'refugees, UNHRC, United States']"
   ]
  },
  {
   "cell_type": "code",
   "execution_count": 98,
   "metadata": {},
   "outputs": [
    {
     "name": "stdout",
     "output_type": "stream",
     "text": [
      "Looking at http://popdata.unhcr.org/api/stats/resettlement.json?year=2017&country_of_asylum=GBR\n",
      "Looking at http://popdata.unhcr.org/api/stats/resettlement.json?year=2017&country_of_asylum=FRA\n",
      "Looking at http://popdata.unhcr.org/api/stats/resettlement.json?year=2017&country_of_asylum=AUS\n",
      "Looking at http://popdata.unhcr.org/api/stats/resettlement.json?year=2017&country_of_asylum=DEU\n",
      "Looking at http://popdata.unhcr.org/api/stats/resettlement.json?year=2017&country_of_asylum=USA\n"
     ]
    }
   ],
   "source": [
    "for idx,c in enumerate (country_list):\n",
    "    print (\"Looking at \" + c)\n",
    "    df = pd.read_json(c)\n",
    "    resettlement_stats = gis.content.import_data(df, {\"Address\" : \"country_of_origin_en\"})\n",
    "    item_properties = {\"title\": titles[idx], \"tags\": tags[idx], \"text\": json.dumps({\"featureCollection\": {\"layers\": [dict(resettlement_stats.layer)]}}),\n",
    "    \"type\": \"Feature Collection\"}\n",
    "    item = gis.content.add(item_properties)"
   ]
  },
  {
   "cell_type": "code",
   "execution_count": 100,
   "metadata": {},
   "outputs": [
    {
     "data": {
      "text/plain": [
       "[<Item title:\"Great Britain 2017 Asylum Seekers\" type:Feature Collection owner:laurenlovato_slustl>,\n",
       " <Item title:\"UNCR Countries of Asylum\" type:Feature Collection owner:lbernett_SLUSTL>,\n",
       " <Item title:\"Austrialia 2017 Asylum Seekers\" type:Feature Collection owner:laurenlovato_slustl>,\n",
       " <Item title:\"United States 2017 Asylum Seekers\" type:Feature Collection owner:laurenlovato_slustl>,\n",
       " <Item title:\"UNCR Countries of Asylum\" type:Feature Collection owner:lbernett_SLUSTL>,\n",
       " <Item title:\"UNCR Countries of Asylum\" type:Feature Collection owner:lbernett_SLUSTL>,\n",
       " <Item title:\"UNCR Countries of Asylum\" type:Feature Collection owner:lbernett_SLUSTL>,\n",
       " <Item title:\"Germany 2017 Asylum Seekers\" type:Feature Collection owner:laurenlovato_slustl>,\n",
       " <Item title:\"UNCR Countries of Asylum\" type:Feature Collection owner:lbernett_SLUSTL>,\n",
       " <Item title:\"UNCR Countries of Asylum\" type:Feature Collection owner:lbernett_SLUSTL>]"
      ]
     },
     "execution_count": 100,
     "metadata": {},
     "output_type": "execute_result"
    }
   ],
   "source": [
    "search_result = gis.content.search(\"Asylum\")\n",
    "search_result"
   ]
  },
  {
   "cell_type": "code",
   "execution_count": null,
   "metadata": {},
   "outputs": [],
   "source": []
  }
 ],
 "metadata": {
  "kernelspec": {
   "display_name": "Python 3",
   "language": "python",
   "name": "python3"
  },
  "language_info": {
   "codemirror_mode": {
    "name": "ipython",
    "version": 3
   },
   "file_extension": ".py",
   "mimetype": "text/x-python",
   "name": "python",
   "nbconvert_exporter": "python",
   "pygments_lexer": "ipython3",
   "version": "3.6.5"
  }
 },
 "nbformat": 4,
 "nbformat_minor": 2
}
