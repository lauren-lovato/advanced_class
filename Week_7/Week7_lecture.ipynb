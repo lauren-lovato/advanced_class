{
 "cells": [
  {
   "cell_type": "markdown",
   "metadata": {},
   "source": [
    "# Week 7 Lecture"
   ]
  },
  {
   "cell_type": "code",
   "execution_count": 1,
   "metadata": {},
   "outputs": [
    {
     "name": "stdout",
     "output_type": "stream",
     "text": [
      "Enter password: ········\n"
     ]
    }
   ],
   "source": [
    "from arcgis.gis import GIS\n",
    "#from arcgis.geocoding import Geocoder, get_geocoders\n",
    "\n",
    "gis = GIS(\"http://slustl.maps.arcgis.com/home\", \"laurenlovato_slustl\")"
   ]
  },
  {
   "cell_type": "code",
   "execution_count": 8,
   "metadata": {},
   "outputs": [],
   "source": [
    "import os\n",
    "\n",
    "data_oldname = \"stl_boundary_gjb_v2.zip\"\n",
    "data = \"stl_boundary_gjb_LL.zip\"\n",
    "\n",
    "os.rename(data_oldname, data)"
   ]
  },
  {
   "cell_type": "code",
   "execution_count": 9,
   "metadata": {},
   "outputs": [],
   "source": [
    "stl = gis.content.add({\"title\": \"St. Louis Boundary LL\", \"tags\":\"St. Louis\"}, data)"
   ]
  },
  {
   "cell_type": "code",
   "execution_count": 10,
   "metadata": {},
   "outputs": [],
   "source": [
    "published_stl = stl.publish()"
   ]
  },
  {
   "cell_type": "code",
   "execution_count": 11,
   "metadata": {},
   "outputs": [
    {
     "data": {
      "text/html": [
       "<div class=\"item_container\" style=\"height: auto; overflow: hidden; border: 1px solid #cfcfcf; border-radius: 2px; background: #f6fafa; line-height: 1.21429em; padding: 10px;\">\n",
       "                    <div class=\"item_left\" style=\"width: 210px; float: left;\">\n",
       "                       <a href='http://SLUSTL.maps.arcgis.com/home/item.html?id=a414b3b387d141bc8b315d43a54d6248' target='_blank'>\n",
       "                        <img src='http://static.arcgis.com/images/desktopapp.png' class=\"itemThumbnail\">\n",
       "                       </a>\n",
       "                    </div>\n",
       "\n",
       "                    <div class=\"item_right\"     style=\"float: none; width: auto; overflow: hidden;\">\n",
       "                        <a href='http://SLUSTL.maps.arcgis.com/home/item.html?id=a414b3b387d141bc8b315d43a54d6248' target='_blank'><b>St. Louis Boundary LL</b>\n",
       "                        </a>\n",
       "                        <br/><img src='http://SLUSTL.maps.arcgis.com/home/js/jsapi/esri/css/images/item_type_icons/featureshosted16.png' style=\"vertical-align:middle;\">Feature Layer Collection by laurenlovato_slustl\n",
       "                        <br/>Last Modified: October 17, 2018\n",
       "                        <br/>0 comments, 0 views\n",
       "                    </div>\n",
       "                </div>\n",
       "                "
      ],
      "text/plain": [
       "<Item title:\"St. Louis Boundary LL\" type:Feature Layer Collection owner:laurenlovato_slustl>"
      ]
     },
     "execution_count": 11,
     "metadata": {},
     "output_type": "execute_result"
    }
   ],
   "source": [
    "published_stl"
   ]
  },
  {
   "cell_type": "code",
   "execution_count": 12,
   "metadata": {},
   "outputs": [
    {
     "data": {
      "application/vnd.jupyter.widget-view+json": {
       "model_id": "88bc5982ee8547cdbc26d32d792f6fb8",
       "version_major": 2,
       "version_minor": 0
      },
      "text/plain": [
       "MapView(basemaps=['dark-gray', 'dark-gray-vector', 'gray', 'gray-vector', 'hybrid', 'national-geographic', 'oc…"
      ]
     },
     "metadata": {},
     "output_type": "display_data"
    }
   ],
   "source": [
    "stl_map = gis.map(\"St. Louis, MO\")\n",
    "stl_map"
   ]
  },
  {
   "cell_type": "code",
   "execution_count": 13,
   "metadata": {},
   "outputs": [],
   "source": [
    "stl_map.add_layer(published_stl)"
   ]
  },
  {
   "cell_type": "code",
   "execution_count": 14,
   "metadata": {},
   "outputs": [],
   "source": [
    "import os\n",
    "\n",
    "streets_oldname = 'streets_gjb.zip'\n",
    "streets = 'streets_LL.zip'\n",
    "os.rename(streets_oldname, streets)"
   ]
  },
  {
   "cell_type": "code",
   "execution_count": 15,
   "metadata": {},
   "outputs": [],
   "source": [
    "streets_shp = gis.content.add({\"title\":\"St. Louis Streets LL\",\"tags\":\"St. Louis\"}, streets)\n",
    "published_streets  = streets_shp.publish()"
   ]
  },
  {
   "cell_type": "code",
   "execution_count": 16,
   "metadata": {},
   "outputs": [
    {
     "data": {
      "text/html": [
       "<div class=\"item_container\" style=\"height: auto; overflow: hidden; border: 1px solid #cfcfcf; border-radius: 2px; background: #f6fafa; line-height: 1.21429em; padding: 10px;\">\n",
       "                    <div class=\"item_left\" style=\"width: 210px; float: left;\">\n",
       "                       <a href='http://SLUSTL.maps.arcgis.com/home/item.html?id=6799e54bd1524e208cb632065346a017' target='_blank'>\n",
       "                        <img src='http://static.arcgis.com/images/desktopapp.png' class=\"itemThumbnail\">\n",
       "                       </a>\n",
       "                    </div>\n",
       "\n",
       "                    <div class=\"item_right\"     style=\"float: none; width: auto; overflow: hidden;\">\n",
       "                        <a href='http://SLUSTL.maps.arcgis.com/home/item.html?id=6799e54bd1524e208cb632065346a017' target='_blank'><b>St. Louis Streets LL</b>\n",
       "                        </a>\n",
       "                        <br/><img src='http://SLUSTL.maps.arcgis.com/home/js/jsapi/esri/css/images/item_type_icons/featureshosted16.png' style=\"vertical-align:middle;\">Feature Layer Collection by laurenlovato_slustl\n",
       "                        <br/>Last Modified: October 17, 2018\n",
       "                        <br/>0 comments, 0 views\n",
       "                    </div>\n",
       "                </div>\n",
       "                "
      ],
      "text/plain": [
       "<Item title:\"St. Louis Streets LL\" type:Feature Layer Collection owner:laurenlovato_slustl>"
      ]
     },
     "execution_count": 16,
     "metadata": {},
     "output_type": "execute_result"
    }
   ],
   "source": [
    "published_streets"
   ]
  },
  {
   "cell_type": "code",
   "execution_count": 17,
   "metadata": {},
   "outputs": [
    {
     "data": {
      "text/plain": [
       "2"
      ]
     },
     "execution_count": 17,
     "metadata": {},
     "output_type": "execute_result"
    }
   ],
   "source": [
    "len(published_streets.layers)"
   ]
  },
  {
   "cell_type": "code",
   "execution_count": 18,
   "metadata": {},
   "outputs": [],
   "source": [
    "stl_map.add_layer(published_streets.layers[1])"
   ]
  },
  {
   "cell_type": "code",
   "execution_count": 19,
   "metadata": {},
   "outputs": [],
   "source": [
    "stl_map.add_layer(published_streets.layers[0])"
   ]
  },
  {
   "cell_type": "code",
   "execution_count": 20,
   "metadata": {},
   "outputs": [
    {
     "data": {
      "text/plain": [
       "'https://services2.arcgis.com/bB9Y1bGKerz1PTl5/arcgis/rest/services/stl_boundary_gjb_LL/FeatureServer/0'"
      ]
     },
     "execution_count": 20,
     "metadata": {},
     "output_type": "execute_result"
    }
   ],
   "source": [
    "published_stl.layers[0].url"
   ]
  },
  {
   "cell_type": "code",
   "execution_count": 21,
   "metadata": {},
   "outputs": [],
   "source": [
    "from arcgis.features import FeatureLayer"
   ]
  },
  {
   "cell_type": "code",
   "execution_count": 22,
   "metadata": {},
   "outputs": [],
   "source": [
    "fl = FeatureLayer(published_stl.layers[0].url, gis=gis)"
   ]
  },
  {
   "cell_type": "code",
   "execution_count": 23,
   "metadata": {},
   "outputs": [],
   "source": [
    "fl_query_layer = fl.query()"
   ]
  },
  {
   "cell_type": "code",
   "execution_count": 24,
   "metadata": {},
   "outputs": [],
   "source": [
    "sdf = fl_query_layer.df"
   ]
  },
  {
   "cell_type": "code",
   "execution_count": 25,
   "metadata": {},
   "outputs": [
    {
     "data": {
      "text/html": [
       "<div>\n",
       "<style scoped>\n",
       "    .dataframe tbody tr th:only-of-type {\n",
       "        vertical-align: middle;\n",
       "    }\n",
       "\n",
       "    .dataframe tbody tr th {\n",
       "        vertical-align: top;\n",
       "    }\n",
       "\n",
       "    .dataframe thead th {\n",
       "        text-align: right;\n",
       "    }\n",
       "</style>\n",
       "<table border=\"1\" class=\"dataframe\">\n",
       "  <thead>\n",
       "    <tr style=\"text-align: right;\">\n",
       "      <th></th>\n",
       "      <th>AREA_SQMI</th>\n",
       "      <th>FID</th>\n",
       "      <th>LAYER</th>\n",
       "      <th>SHAPE_area</th>\n",
       "      <th>SHAPE_len</th>\n",
       "      <th>Shape__Area</th>\n",
       "      <th>Shape__Length</th>\n",
       "      <th>SHAPE</th>\n",
       "    </tr>\n",
       "  </thead>\n",
       "  <tbody>\n",
       "    <tr>\n",
       "      <th>0</th>\n",
       "      <td>62.11</td>\n",
       "      <td>1</td>\n",
       "      <td>--CITY_LIMIT_BOUND_2002--</td>\n",
       "      <td>1.845208e+09</td>\n",
       "      <td>218275.771282</td>\n",
       "      <td>2.813991e+08</td>\n",
       "      <td>85331.87892</td>\n",
       "      <td>{'rings': [[[-10046629.2584244, 4656365.994315...</td>\n",
       "    </tr>\n",
       "  </tbody>\n",
       "</table>\n",
       "</div>"
      ],
      "text/plain": [
       "   AREA_SQMI  FID                      LAYER    SHAPE_area      SHAPE_len  \\\n",
       "0      62.11    1  --CITY_LIMIT_BOUND_2002--  1.845208e+09  218275.771282   \n",
       "\n",
       "    Shape__Area  Shape__Length  \\\n",
       "0  2.813991e+08    85331.87892   \n",
       "\n",
       "                                               SHAPE  \n",
       "0  {'rings': [[[-10046629.2584244, 4656365.994315...  "
      ]
     },
     "execution_count": 25,
     "metadata": {},
     "output_type": "execute_result"
    }
   ],
   "source": [
    "sdf.head()"
   ]
  },
  {
   "cell_type": "code",
   "execution_count": 28,
   "metadata": {},
   "outputs": [],
   "source": [
    "fl = FeatureLayer(published_streets.layers[1].url, gis=gis)"
   ]
  },
  {
   "cell_type": "code",
   "execution_count": 29,
   "metadata": {},
   "outputs": [],
   "source": [
    "fl_query_layer = fl.query()"
   ]
  },
  {
   "cell_type": "code",
   "execution_count": 30,
   "metadata": {},
   "outputs": [],
   "source": [
    "sdf = fl_query_layer.df"
   ]
  },
  {
   "cell_type": "code",
   "execution_count": 31,
   "metadata": {},
   "outputs": [
    {
     "data": {
      "text/html": [
       "<div>\n",
       "<style scoped>\n",
       "    .dataframe tbody tr th:only-of-type {\n",
       "        vertical-align: middle;\n",
       "    }\n",
       "\n",
       "    .dataframe tbody tr th {\n",
       "        vertical-align: top;\n",
       "    }\n",
       "\n",
       "    .dataframe thead th {\n",
       "        text-align: right;\n",
       "    }\n",
       "</style>\n",
       "<table border=\"1\" class=\"dataframe\">\n",
       "  <thead>\n",
       "    <tr style=\"text-align: right;\">\n",
       "      <th></th>\n",
       "      <th>ANGLE</th>\n",
       "      <th>CLASS</th>\n",
       "      <th>DISPLAY</th>\n",
       "      <th>EDITOR</th>\n",
       "      <th>FID</th>\n",
       "      <th>FROMLEFT</th>\n",
       "      <th>FROMRIGHT</th>\n",
       "      <th>HANDLE</th>\n",
       "      <th>NHD_NAME</th>\n",
       "      <th>NHD_NUM</th>\n",
       "      <th>...</th>\n",
       "      <th>STREETTYPE</th>\n",
       "      <th>SUFDIR</th>\n",
       "      <th>Shape__Length</th>\n",
       "      <th>TOLEFT</th>\n",
       "      <th>TORIGHT</th>\n",
       "      <th>UPDATED</th>\n",
       "      <th>WARD</th>\n",
       "      <th>ZCTA</th>\n",
       "      <th>ZIP_CODE</th>\n",
       "      <th>SHAPE</th>\n",
       "    </tr>\n",
       "  </thead>\n",
       "  <tbody>\n",
       "    <tr>\n",
       "      <th>0</th>\n",
       "      <td>0</td>\n",
       "      <td>A41</td>\n",
       "      <td>Y</td>\n",
       "      <td></td>\n",
       "      <td>1</td>\n",
       "      <td>-1</td>\n",
       "      <td>4000</td>\n",
       "      <td>1001204000</td>\n",
       "      <td>Penrose</td>\n",
       "      <td>69</td>\n",
       "      <td>...</td>\n",
       "      <td>BLVD</td>\n",
       "      <td></td>\n",
       "      <td>120.202951</td>\n",
       "      <td>-1</td>\n",
       "      <td>4030</td>\n",
       "      <td>NaN</td>\n",
       "      <td>1</td>\n",
       "      <td>63115</td>\n",
       "      <td>63115</td>\n",
       "      <td>{'paths': [[[-10046575.312456, 4675769.2060746...</td>\n",
       "    </tr>\n",
       "    <tr>\n",
       "      <th>1</th>\n",
       "      <td>0</td>\n",
       "      <td>A41</td>\n",
       "      <td>Y</td>\n",
       "      <td></td>\n",
       "      <td>2</td>\n",
       "      <td>-1</td>\n",
       "      <td>4100</td>\n",
       "      <td>1001204100</td>\n",
       "      <td>Penrose</td>\n",
       "      <td>69</td>\n",
       "      <td>...</td>\n",
       "      <td>BLVD</td>\n",
       "      <td></td>\n",
       "      <td>185.570672</td>\n",
       "      <td>-1</td>\n",
       "      <td>4140</td>\n",
       "      <td>NaN</td>\n",
       "      <td>1</td>\n",
       "      <td>63115</td>\n",
       "      <td>63115</td>\n",
       "      <td>{'paths': [[[-10046518.5975952, 4675875.188025...</td>\n",
       "    </tr>\n",
       "    <tr>\n",
       "      <th>2</th>\n",
       "      <td>0</td>\n",
       "      <td>A41</td>\n",
       "      <td>Y</td>\n",
       "      <td></td>\n",
       "      <td>3</td>\n",
       "      <td>4101</td>\n",
       "      <td>-2</td>\n",
       "      <td>1001204101</td>\n",
       "      <td>Mark Twain I-70 Industrial</td>\n",
       "      <td>70</td>\n",
       "      <td>...</td>\n",
       "      <td>BLVD</td>\n",
       "      <td></td>\n",
       "      <td>186.015803</td>\n",
       "      <td>4155</td>\n",
       "      <td>-2</td>\n",
       "      <td>NaN</td>\n",
       "      <td>22</td>\n",
       "      <td>63115</td>\n",
       "      <td>63115</td>\n",
       "      <td>{'paths': [[[-10046549.9565572, 4675892.387723...</td>\n",
       "    </tr>\n",
       "    <tr>\n",
       "      <th>3</th>\n",
       "      <td>0</td>\n",
       "      <td>A41</td>\n",
       "      <td>Y</td>\n",
       "      <td></td>\n",
       "      <td>4</td>\n",
       "      <td>4157</td>\n",
       "      <td>-2</td>\n",
       "      <td>1001204157</td>\n",
       "      <td>Mark Twain I-70 Industrial</td>\n",
       "      <td>70</td>\n",
       "      <td>...</td>\n",
       "      <td>BLVD</td>\n",
       "      <td></td>\n",
       "      <td>173.087131</td>\n",
       "      <td>4199</td>\n",
       "      <td>-2</td>\n",
       "      <td>NaN</td>\n",
       "      <td>22</td>\n",
       "      <td>63115</td>\n",
       "      <td>63115</td>\n",
       "      <td>{'paths': [[[-10046461.7640806, 4676056.167960...</td>\n",
       "    </tr>\n",
       "    <tr>\n",
       "      <th>4</th>\n",
       "      <td>0</td>\n",
       "      <td>A41</td>\n",
       "      <td>Y</td>\n",
       "      <td></td>\n",
       "      <td>5</td>\n",
       "      <td>-1</td>\n",
       "      <td>4160</td>\n",
       "      <td>1001204160</td>\n",
       "      <td>Penrose</td>\n",
       "      <td>69</td>\n",
       "      <td>...</td>\n",
       "      <td>BLVD</td>\n",
       "      <td></td>\n",
       "      <td>172.899547</td>\n",
       "      <td>-1</td>\n",
       "      <td>4166</td>\n",
       "      <td>NaN</td>\n",
       "      <td>1</td>\n",
       "      <td>63115</td>\n",
       "      <td>63115</td>\n",
       "      <td>{'paths': [[[-10046429.6487509, 4676038.051702...</td>\n",
       "    </tr>\n",
       "  </tbody>\n",
       "</table>\n",
       "<p>5 rows × 24 columns</p>\n",
       "</div>"
      ],
      "text/plain": [
       "   ANGLE CLASS DISPLAY EDITOR  FID  FROMLEFT  FROMRIGHT      HANDLE  \\\n",
       "0      0   A41       Y           1        -1       4000  1001204000   \n",
       "1      0   A41       Y           2        -1       4100  1001204100   \n",
       "2      0   A41       Y           3      4101         -2  1001204101   \n",
       "3      0   A41       Y           4      4157         -2  1001204157   \n",
       "4      0   A41       Y           5        -1       4160  1001204160   \n",
       "\n",
       "                     NHD_NAME  NHD_NUM  \\\n",
       "0                     Penrose       69   \n",
       "1                     Penrose       69   \n",
       "2  Mark Twain I-70 Industrial       70   \n",
       "3  Mark Twain I-70 Industrial       70   \n",
       "4                     Penrose       69   \n",
       "\n",
       "                         ...                         STREETTYPE SUFDIR  \\\n",
       "0                        ...                               BLVD          \n",
       "1                        ...                               BLVD          \n",
       "2                        ...                               BLVD          \n",
       "3                        ...                               BLVD          \n",
       "4                        ...                               BLVD          \n",
       "\n",
       "  Shape__Length TOLEFT TORIGHT UPDATED  WARD   ZCTA  ZIP_CODE  \\\n",
       "0    120.202951     -1    4030     NaN     1  63115     63115   \n",
       "1    185.570672     -1    4140     NaN     1  63115     63115   \n",
       "2    186.015803   4155      -2     NaN    22  63115     63115   \n",
       "3    173.087131   4199      -2     NaN    22  63115     63115   \n",
       "4    172.899547     -1    4166     NaN     1  63115     63115   \n",
       "\n",
       "                                               SHAPE  \n",
       "0  {'paths': [[[-10046575.312456, 4675769.2060746...  \n",
       "1  {'paths': [[[-10046518.5975952, 4675875.188025...  \n",
       "2  {'paths': [[[-10046549.9565572, 4675892.387723...  \n",
       "3  {'paths': [[[-10046461.7640806, 4676056.167960...  \n",
       "4  {'paths': [[[-10046429.6487509, 4676038.051702...  \n",
       "\n",
       "[5 rows x 24 columns]"
      ]
     },
     "execution_count": 31,
     "metadata": {},
     "output_type": "execute_result"
    }
   ],
   "source": [
    "sdf.head()"
   ]
  },
  {
   "cell_type": "code",
   "execution_count": 32,
   "metadata": {},
   "outputs": [
    {
     "data": {
      "text/plain": [
       "25995"
      ]
     },
     "execution_count": 32,
     "metadata": {},
     "output_type": "execute_result"
    }
   ],
   "source": [
    "len(sdf)"
   ]
  },
  {
   "cell_type": "code",
   "execution_count": 33,
   "metadata": {},
   "outputs": [
    {
     "data": {
      "text/plain": [
       "8929"
      ]
     },
     "execution_count": 33,
     "metadata": {},
     "output_type": "execute_result"
    }
   ],
   "source": [
    "len(sdf[sdf['STREETTYPE']=='ST'])"
   ]
  },
  {
   "cell_type": "code",
   "execution_count": null,
   "metadata": {},
   "outputs": [],
   "source": []
  }
 ],
 "metadata": {
  "kernelspec": {
   "display_name": "Python 3",
   "language": "python",
   "name": "python3"
  },
  "language_info": {
   "codemirror_mode": {
    "name": "ipython",
    "version": 3
   },
   "file_extension": ".py",
   "mimetype": "text/x-python",
   "name": "python",
   "nbconvert_exporter": "python",
   "pygments_lexer": "ipython3",
   "version": "3.6.5"
  }
 },
 "nbformat": 4,
 "nbformat_minor": 2
}
