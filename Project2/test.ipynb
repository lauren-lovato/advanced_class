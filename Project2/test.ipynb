{
 "cells": [
  {
   "cell_type": "code",
   "execution_count": 27,
   "metadata": {},
   "outputs": [
    {
     "name": "stdout",
     "output_type": "stream",
     "text": [
      "Enter password: ········\n"
     ]
    }
   ],
   "source": [
    "from arcgis.gis import GIS\n",
    "import pandas as pd\n",
    "import os\n",
    "gis = GIS (\"http://slustl.maps.arcgis.com/home\", \"laurenlovato_slustl\")"
   ]
  },
  {
   "cell_type": "code",
   "execution_count": 28,
   "metadata": {},
   "outputs": [],
   "source": [
    "FSI_2006 = 'fsi-2006.xlsx'\n",
    "FSI_2007 = 'fsi-2007.xlsx'\n",
    "FSI_2008 = 'fsi-2008.xlsx'\n",
    "FSI_2009 = 'fsi-2009.xlsx'\n",
    "FSI_2010 = 'fsi-2010.xlsx'\n",
    "FSI_2011 = 'fsi-2011.xlsx'\n",
    "FSI_2012 = 'fsi-2012.xlsx'\n",
    "FSI_2013 = 'fsi-2013.xlsx'\n",
    "FSI_2014 = 'fsi-2014.xlsx'\n",
    "FSI_2015 = 'fsi-2015.xlsx'\n",
    "FSI_2016 = 'fsi-2016.xlsx'\n",
    "FSI_2017 = 'fsi-2017.xlsx'\n",
    "FSI_2018 = 'fsi-2018.xlsx'"
   ]
  },
  {
   "cell_type": "code",
   "execution_count": 29,
   "metadata": {},
   "outputs": [],
   "source": [
    "FSI_xcllist = [FSI_2006, FSI_2007, FSI_2008, FSI_2009, FSI_2010, FSI_2011, \n",
    "               FSI_2012, FSI_2013, FSI_2014, FSI_2015, FSI_2016, FSI_2017, FSI_2018]"
   ]
  },
  {
   "cell_type": "code",
   "execution_count": 30,
   "metadata": {},
   "outputs": [],
   "source": [
    "for xcl in FSI_xcllist:\n",
    "    data_xls = pd.read_excel(xcl, index_col=None)\n",
    "    data_xls.to_csv(xcl[0:8]+\".csv\", encoding='utf-8')\n",
    "    os.remove(xcl)"
   ]
  },
  {
   "cell_type": "code",
   "execution_count": 10,
   "metadata": {},
   "outputs": [],
   "source": [
    "FSI_2006 = 'fsi-2006.xlsx'"
   ]
  },
  {
   "cell_type": "code",
   "execution_count": 11,
   "metadata": {},
   "outputs": [
    {
     "data": {
      "text/plain": [
       "'fsi-2006.xlsx'"
      ]
     },
     "execution_count": 11,
     "metadata": {},
     "output_type": "execute_result"
    }
   ],
   "source": [
    "FSI_2006"
   ]
  },
  {
   "cell_type": "code",
   "execution_count": 22,
   "metadata": {},
   "outputs": [
    {
     "data": {
      "text/plain": [
       "'fsi-2006'"
      ]
     },
     "execution_count": 22,
     "metadata": {},
     "output_type": "execute_result"
    }
   ],
   "source": [
    "FSI_2006[0:8]"
   ]
  },
  {
   "cell_type": "code",
   "execution_count": 25,
   "metadata": {},
   "outputs": [
    {
     "name": "stdout",
     "output_type": "stream",
     "text": [
      "['fsi-2006.xlsx', 'fsi-2007.xlsx', 'fsi-2008.xlsx', 'fsi-2009.xlsx', 'fsi-2010.xlsx', 'fsi-2011.xlsx', 'fsi-2012.xlsx', 'fsi-2013.xlsx', 'fsi-2014.xlsx', 'fsi-2015.xlsx', 'fsi-2016.xlsx', 'fsi-2017.xlsx', 'fsi-2018.xlsx']\n"
     ]
    }
   ],
   "source": [
    "print (FSI_xcllist)"
   ]
  },
  {
   "cell_type": "code",
   "execution_count": 34,
   "metadata": {},
   "outputs": [
    {
     "data": {
      "text/plain": [
       "'2006'"
      ]
     },
     "execution_count": 34,
     "metadata": {},
     "output_type": "execute_result"
    }
   ],
   "source": [
    "FSI_2006[4:8]"
   ]
  },
  {
   "cell_type": "code",
   "execution_count": 37,
   "metadata": {},
   "outputs": [
    {
     "ename": "NameError",
     "evalue": "name 'find_csv_filenames' is not defined",
     "output_type": "error",
     "traceback": [
      "\u001b[1;31m---------------------------------------------------------------------------\u001b[0m",
      "\u001b[1;31mNameError\u001b[0m                                 Traceback (most recent call last)",
      "\u001b[1;32m<ipython-input-37-17eeecab23da>\u001b[0m in \u001b[0;36m<module>\u001b[1;34m()\u001b[0m\n\u001b[1;32m----> 1\u001b[1;33m \u001b[0mfilenames\u001b[0m \u001b[1;33m=\u001b[0m \u001b[0mfind_csv_filenames\u001b[0m\u001b[1;33m(\u001b[0m\u001b[1;34mr'C:\\Users\\Lauren\\Documents\\GitHub\\advanced_class\\Project2'\u001b[0m\u001b[1;33m)\u001b[0m\u001b[1;33m\u001b[0m\u001b[0m\n\u001b[0m\u001b[0;32m      2\u001b[0m \u001b[1;32mfor\u001b[0m \u001b[0mname\u001b[0m \u001b[1;32min\u001b[0m \u001b[0mfilenames\u001b[0m\u001b[1;33m:\u001b[0m\u001b[1;33m\u001b[0m\u001b[0m\n\u001b[0;32m      3\u001b[0m   \u001b[0mprint\u001b[0m \u001b[1;33m(\u001b[0m\u001b[0mname\u001b[0m\u001b[1;33m)\u001b[0m\u001b[1;33m\u001b[0m\u001b[0m\n",
      "\u001b[1;31mNameError\u001b[0m: name 'find_csv_filenames' is not defined"
     ]
    }
   ],
   "source": [
    "filenames = find_csv_filenames(r'C:\\Users\\Lauren\\Documents\\GitHub\\advanced_class\\Project2')\n",
    "for name in filenames:\n",
    "  print (name)"
   ]
  },
  {
   "cell_type": "code",
   "execution_count": 38,
   "metadata": {},
   "outputs": [],
   "source": [
    "import glob"
   ]
  },
  {
   "cell_type": "code",
   "execution_count": 39,
   "metadata": {},
   "outputs": [
    {
     "name": "stdout",
     "output_type": "stream",
     "text": [
      "['fsi-2006.csv', 'fsi-2007.csv', 'fsi-2008.csv', 'fsi-2009.csv', 'fsi-2010.csv', 'fsi-2011.csv', 'fsi-2012.csv', 'fsi-2013.csv', 'fsi-2014.csv', 'fsi-2015.csv', 'fsi-2016.csv', 'fsi-2017.csv', 'fsi-2018.csv']\n"
     ]
    }
   ],
   "source": [
    "print(glob.glob('fsi*.csv'))"
   ]
  },
  {
   "cell_type": "code",
   "execution_count": 40,
   "metadata": {},
   "outputs": [
    {
     "name": "stdout",
     "output_type": "stream",
     "text": [
      "['fsi-2006.csv', 'fsi-2007.csv', 'fsi-2008.csv', 'fsi-2009.csv', 'fsi-2010.csv', 'fsi-2011.csv', 'fsi-2012.csv', 'fsi-2013.csv', 'fsi-2014.csv', 'fsi-2015.csv', 'fsi-2016.csv', 'fsi-2017.csv', 'fsi-2018.csv']\n"
     ]
    }
   ],
   "source": [
    "csv_list = print(glob.glob('fsi*.csv'))"
   ]
  },
  {
   "cell_type": "code",
   "execution_count": 41,
   "metadata": {},
   "outputs": [],
   "source": [
    "csv_list = (glob.glob('fsi*.csv'))"
   ]
  },
  {
   "cell_type": "code",
   "execution_count": 43,
   "metadata": {},
   "outputs": [
    {
     "name": "stdout",
     "output_type": "stream",
     "text": [
      "['fsi-2006.csv', 'fsi-2007.csv', 'fsi-2008.csv', 'fsi-2009.csv', 'fsi-2010.csv', 'fsi-2011.csv', 'fsi-2012.csv', 'fsi-2013.csv', 'fsi-2014.csv', 'fsi-2015.csv', 'fsi-2016.csv', 'fsi-2017.csv', 'fsi-2018.csv']\n"
     ]
    }
   ],
   "source": [
    "print (csv_list)"
   ]
  },
  {
   "cell_type": "code",
   "execution_count": 44,
   "metadata": {},
   "outputs": [],
   "source": [
    "search_result = gis.content.search(\"title:Fragil States Index\", \"owner:laurenlovato_slustl\")"
   ]
  },
  {
   "cell_type": "code",
   "execution_count": 45,
   "metadata": {},
   "outputs": [
    {
     "data": {
      "text/plain": [
       "[]"
      ]
     },
     "execution_count": 45,
     "metadata": {},
     "output_type": "execute_result"
    }
   ],
   "source": [
    "search_result"
   ]
  },
  {
   "cell_type": "code",
   "execution_count": 46,
   "metadata": {},
   "outputs": [
    {
     "data": {
      "text/plain": [
       "[]"
      ]
     },
     "execution_count": 46,
     "metadata": {},
     "output_type": "execute_result"
    }
   ],
   "source": [
    "search_result = gis.content.search(\"title:Fragile States Index\", \"owner:laurenlovato_slustl\")\n",
    "search_result"
   ]
  },
  {
   "cell_type": "code",
   "execution_count": 56,
   "metadata": {},
   "outputs": [
    {
     "data": {
      "text/plain": [
       "[]"
      ]
     },
     "execution_count": 56,
     "metadata": {},
     "output_type": "execute_result"
    }
   ],
   "source": [
    "search_result = gis.content.search(\"title:Fragile*\", \"owner: laurenlovato_slustl\", max_items=50)\n",
    "search_result"
   ]
  },
  {
   "cell_type": "code",
   "execution_count": 65,
   "metadata": {},
   "outputs": [
    {
     "data": {
      "text/plain": [
       "[<Item title:\"Fragile States Index 2011 LL\" type:Feature Layer Collection owner:laurenlovato_slustl>,\n",
       " <Item title:\"Fragile States Index 2018 LL\" type:Feature Layer Collection owner:laurenlovato_slustl>,\n",
       " <Item title:\"Fragile States Index 2006 LL\" type:Feature Layer Collection owner:laurenlovato_slustl>,\n",
       " <Item title:\"Fragile States Index 2007 LL\" type:Feature Layer Collection owner:laurenlovato_slustl>,\n",
       " <Item title:\"Fragile States Index 2017 LL\" type:Feature Layer Collection owner:laurenlovato_slustl>,\n",
       " <Item title:\"Fragile States Index 2009 LL\" type:Feature Layer Collection owner:laurenlovato_slustl>,\n",
       " <Item title:\"Fragile States Index 2014 LL\" type:Feature Layer Collection owner:laurenlovato_slustl>,\n",
       " <Item title:\"Fragile States Index 2016 LL\" type:Feature Layer Collection owner:laurenlovato_slustl>,\n",
       " <Item title:\"Fragile States Index 2010 LL\" type:Feature Layer Collection owner:laurenlovato_slustl>,\n",
       " <Item title:\"Fragile States Index 2008 LL\" type:Feature Layer Collection owner:laurenlovato_slustl>]"
      ]
     },
     "execution_count": 65,
     "metadata": {},
     "output_type": "execute_result"
    }
   ],
   "source": [
    "search_result = gis.content.search(\"title:Fragile\", item_type=\"Feature Layer\")\n",
    "search_result"
   ]
  },
  {
   "cell_type": "code",
   "execution_count": 71,
   "metadata": {},
   "outputs": [
    {
     "data": {
      "text/plain": [
       "[<Item title:\"LL_acled_demo_pred_surface\" type:Feature Layer Collection owner:laurenlovato_slustl>,\n",
       " <Item title:\"St. Louis Streets LL\" type:Feature Layer Collection owner:laurenlovato_slustl>,\n",
       " <Item title:\"Fragile States Index 2011 LL\" type:Feature Layer Collection owner:laurenlovato_slustl>,\n",
       " <Item title:\"Fragile States Index 2018 LL\" type:Feature Layer Collection owner:laurenlovato_slustl>,\n",
       " <Item title:\"LL_acled_demo\" type:Feature Layer Collection owner:laurenlovato_slustl>,\n",
       " <Item title:\"Thunder_Departures\" type:Feature Layer Collection owner:laurenlovato_slustl>,\n",
       " <Item title:\"StLouis_area_Stables\" type:Feature Layer Collection owner:laurenlovato_slustl>,\n",
       " <Item title:\"Density_crime_STL\" type:Feature Layer Collection owner:laurenlovato_slustl>,\n",
       " <Item title:\"Thunder_Acquisitions\" type:Feature Layer Collection owner:laurenlovato_slustl>,\n",
       " <Item title:\"Mars_features_points\" type:Feature Layer Collection owner:laurenlovato_slustl>]"
      ]
     },
     "execution_count": 71,
     "metadata": {},
     "output_type": "execute_result"
    }
   ],
   "source": [
    "search_my_contents = gis.content.search(query=\"owner:laurenlovato_slustl\", item_type=\"Feature Layer\")\n",
    "search_my_contents"
   ]
  },
  {
   "cell_type": "code",
   "execution_count": 80,
   "metadata": {},
   "outputs": [
    {
     "data": {
      "text/plain": [
       "[<Item title:\"LL_acled_demo_pred_surface\" type:Feature Layer Collection owner:laurenlovato_slustl>,\n",
       " <Item title:\"St. Louis Streets LL\" type:Feature Layer Collection owner:laurenlovato_slustl>,\n",
       " <Item title:\"Fragile States Index 2011 LL\" type:Feature Layer Collection owner:laurenlovato_slustl>,\n",
       " <Item title:\"Fragile States Index 2018 LL\" type:Feature Layer Collection owner:laurenlovato_slustl>,\n",
       " <Item title:\"LL_acled_demo\" type:Feature Layer Collection owner:laurenlovato_slustl>,\n",
       " <Item title:\"Thunder_Departures\" type:Feature Layer Collection owner:laurenlovato_slustl>,\n",
       " <Item title:\"StLouis_area_Stables\" type:Feature Layer Collection owner:laurenlovato_slustl>,\n",
       " <Item title:\"Density_crime_STL\" type:Feature Layer Collection owner:laurenlovato_slustl>,\n",
       " <Item title:\"Thunder_Acquisitions\" type:Feature Layer Collection owner:laurenlovato_slustl>,\n",
       " <Item title:\"Mars_features_points\" type:Feature Layer Collection owner:laurenlovato_slustl>,\n",
       " <Item title:\"St. Louis Boundary LL\" type:Feature Layer Collection owner:laurenlovato_slustl>,\n",
       " <Item title:\"Hot_Spots_Crime\" type:Feature Layer Collection owner:laurenlovato_slustl>,\n",
       " <Item title:\"Fragile States Index 2006 LL\" type:Feature Layer Collection owner:laurenlovato_slustl>,\n",
       " <Item title:\"Fragile States Index 2017 LL\" type:Feature Layer Collection owner:laurenlovato_slustl>,\n",
       " <Item title:\"Fragile States Index 2007 LL\" type:Feature Layer Collection owner:laurenlovato_slustl>,\n",
       " <Item title:\"Fragile States Index 2009 LL\" type:Feature Layer Collection owner:laurenlovato_slustl>,\n",
       " <Item title:\"St. Louis Neighborhoods LL\" type:Feature Layer Collection owner:laurenlovato_slustl>,\n",
       " <Item title:\"Hot_Spots_St__Louis_Crime2\" type:Feature Layer Collection owner:laurenlovato_slustl>,\n",
       " <Item title:\"Fragile States Index 2014 LL\" type:Feature Layer Collection owner:laurenlovato_slustl>,\n",
       " <Item title:\"Fragile States Index 2016 LL\" type:Feature Layer Collection owner:laurenlovato_slustl>,\n",
       " <Item title:\"stl_crime_by_ward_ll\" type:Feature Layer Collection owner:laurenlovato_slustl>,\n",
       " <Item title:\"Hotspot_crime_STL\" type:Feature Layer Collection owner:laurenlovato_slustl>,\n",
       " <Item title:\"Fragile States Index 2010 LL\" type:Feature Layer Collection owner:laurenlovato_slustl>,\n",
       " <Item title:\"Fragile States Index 2013 LL\" type:Feature Layer Collection owner:laurenlovato_slustl>,\n",
       " <Item title:\"Fragile States Index 2008 LL\" type:Feature Layer Collection owner:laurenlovato_slustl>,\n",
       " <Item title:\"STL_metro_counties\" type:Feature Layer Collection owner:laurenlovato_slustl>,\n",
       " <Item title:\"St__Louis_Crime_LL_Density2\" type:Feature Layer Collection owner:laurenlovato_slustl>,\n",
       " <Item title:\"Fragile States Index 2015 LL\" type:Feature Layer Collection owner:laurenlovato_slustl>,\n",
       " <Item title:\"National Rainfall Data LL\" type:Feature Layer Collection owner:laurenlovato_slustl>,\n",
       " <Item title:\"UNHCR Resettlements in United States - LL\" type:Feature Layer Collection owner:laurenlovato_slustl>,\n",
       " <Item title:\"Fragile States Index 2012 LL\" type:Feature Layer Collection owner:laurenlovato_slustl>,\n",
       " <Item title:\"St. Louis Crime LL\" type:Feature Layer Collection owner:laurenlovato_slustl>]"
      ]
     },
     "execution_count": 80,
     "metadata": {},
     "output_type": "execute_result"
    }
   ],
   "source": [
    "search_my_contents = gis.content.search(query=\"owner:laurenlovato_slustl\", item_type=\"Feature Layer\", max_items=50)\n",
    "search_my_contents"
   ]
  },
  {
   "cell_type": "code",
   "execution_count": 82,
   "metadata": {},
   "outputs": [
    {
     "data": {
      "text/plain": [
       "[<Item title:\"Fragile States Index 2011 LL\" type:Feature Layer Collection owner:laurenlovato_slustl>,\n",
       " <Item title:\"Fragile States Index 2018 LL\" type:Feature Layer Collection owner:laurenlovato_slustl>,\n",
       " <Item title:\"Fragile States Index 2007 LL\" type:Feature Layer Collection owner:laurenlovato_slustl>,\n",
       " <Item title:\"Fragile States Index 2009 LL\" type:Feature Layer Collection owner:laurenlovato_slustl>,\n",
       " <Item title:\"Fragile States Index 2006 LL\" type:Feature Layer Collection owner:laurenlovato_slustl>,\n",
       " <Item title:\"Fragile States Index 2017 LL\" type:Feature Layer Collection owner:laurenlovato_slustl>,\n",
       " <Item title:\"Fragile States Index 2014 LL\" type:Feature Layer Collection owner:laurenlovato_slustl>,\n",
       " <Item title:\"Fragile States Index 2016 LL\" type:Feature Layer Collection owner:laurenlovato_slustl>,\n",
       " <Item title:\"Fragile States Index 2010 LL\" type:Feature Layer Collection owner:laurenlovato_slustl>,\n",
       " <Item title:\"Fragile States Index 2013 LL\" type:Feature Layer Collection owner:laurenlovato_slustl>,\n",
       " <Item title:\"Fragile States Index 2008 LL\" type:Feature Layer Collection owner:laurenlovato_slustl>,\n",
       " <Item title:\"Fragile States Index 2015 LL\" type:Feature Layer Collection owner:laurenlovato_slustl>,\n",
       " <Item title:\"Fragile States Index 2012 LL\" type:Feature Layer Collection owner:laurenlovato_slustl>]"
      ]
     },
     "execution_count": 82,
     "metadata": {},
     "output_type": "execute_result"
    }
   ],
   "source": [
    "search_result = gis.content.search(\"title:Fragile LL\", item_type=\"Feature Layer\", max_items=13)\n",
    "search_result"
   ]
  },
  {
   "cell_type": "code",
   "execution_count": 84,
   "metadata": {},
   "outputs": [
    {
     "data": {
      "text/html": [
       "<div class=\"item_container\" style=\"height: auto; overflow: hidden; border: 1px solid #cfcfcf; border-radius: 2px; background: #f6fafa; line-height: 1.21429em; padding: 10px;\">\n",
       "                    <div class=\"item_left\" style=\"width: 210px; float: left;\">\n",
       "                       <a href='http://SLUSTL.maps.arcgis.com/home/item.html?id=ee079d95d525476b835794563833f00c' target='_blank'>\n",
       "                        <img src='http://static.arcgis.com/images/desktopapp.png' class=\"itemThumbnail\">\n",
       "                       </a>\n",
       "                    </div>\n",
       "\n",
       "                    <div class=\"item_right\"     style=\"float: none; width: auto; overflow: hidden;\">\n",
       "                        <a href='http://SLUSTL.maps.arcgis.com/home/item.html?id=ee079d95d525476b835794563833f00c' target='_blank'><b>Fragile States Index 2011 LL</b>\n",
       "                        </a>\n",
       "                        <br/><img src='http://SLUSTL.maps.arcgis.com/home/js/jsapi/esri/css/images/item_type_icons/featureshosted16.png' style=\"vertical-align:middle;\">Feature Layer Collection by laurenlovato_slustl\n",
       "                        <br/>Last Modified: October 28, 2018\n",
       "                        <br/>0 comments, 0 views\n",
       "                    </div>\n",
       "                </div>\n",
       "                "
      ],
      "text/plain": [
       "<Item title:\"Fragile States Index 2011 LL\" type:Feature Layer Collection owner:laurenlovato_slustl>"
      ]
     },
     "execution_count": 84,
     "metadata": {},
     "output_type": "execute_result"
    }
   ],
   "source": [
    "search_result[0]"
   ]
  },
  {
   "cell_type": "code",
   "execution_count": 87,
   "metadata": {},
   "outputs": [
    {
     "data": {
      "application/vnd.jupyter.widget-view+json": {
       "model_id": "5f768e12894e42388bd7b23d7d546059",
       "version_major": 2,
       "version_minor": 0
      },
      "text/plain": [
       "MapView(basemaps=['dark-gray', 'dark-gray-vector', 'gray', 'gray-vector', 'hybrid', 'national-geographic', 'oc…"
      ]
     },
     "metadata": {},
     "output_type": "display_data"
    }
   ],
   "source": [
    "map_layer = gis.map()\n",
    "map_layer"
   ]
  },
  {
   "cell_type": "code",
   "execution_count": 99,
   "metadata": {},
   "outputs": [],
   "source": [
    "classed_size_renderer = {\"color\":\"Blue\", \"renderer\": \"ClassedSizeRenderer\", \"field_name\":\"Total\"}"
   ]
  },
  {
   "cell_type": "code",
   "execution_count": 100,
   "metadata": {},
   "outputs": [],
   "source": [
    "map_layer.add_layer(search_result[0], classed_size_renderer)"
   ]
  },
  {
   "cell_type": "code",
   "execution_count": 1,
   "metadata": {},
   "outputs": [
    {
     "name": "stdout",
     "output_type": "stream",
     "text": [
      "Enter password: ········\n"
     ]
    }
   ],
   "source": [
    "from arcgis.gis import GIS\n",
    "import pandas as pd\n",
    "import os\n",
    "gis = GIS (\"http://slustl.maps.arcgis.com/home\", \"laurenlovato_slustl\")"
   ]
  },
  {
   "cell_type": "code",
   "execution_count": 2,
   "metadata": {},
   "outputs": [
    {
     "data": {
      "text/plain": [
       "[<Item title:\"Fragile States Index 2011 LL\" type:Feature Layer Collection owner:laurenlovato_slustl>,\n",
       " <Item title:\"Fragile States Index 2018 LL\" type:Feature Layer Collection owner:laurenlovato_slustl>,\n",
       " <Item title:\"Fragile States Index 2007 LL\" type:Feature Layer Collection owner:laurenlovato_slustl>,\n",
       " <Item title:\"Fragile States Index 2009 LL\" type:Feature Layer Collection owner:laurenlovato_slustl>,\n",
       " <Item title:\"Fragile States Index 2006 LL\" type:Feature Layer Collection owner:laurenlovato_slustl>,\n",
       " <Item title:\"Fragile States Index 2017 LL\" type:Feature Layer Collection owner:laurenlovato_slustl>,\n",
       " <Item title:\"Fragile States Index 2014 LL\" type:Feature Layer Collection owner:laurenlovato_slustl>,\n",
       " <Item title:\"Fragile States Index 2016 LL\" type:Feature Layer Collection owner:laurenlovato_slustl>,\n",
       " <Item title:\"Fragile States Index 2008 LL\" type:Feature Layer Collection owner:laurenlovato_slustl>,\n",
       " <Item title:\"Fragile States Index 2010 LL\" type:Feature Layer Collection owner:laurenlovato_slustl>,\n",
       " <Item title:\"Fragile States Index 2013 LL\" type:Feature Layer Collection owner:laurenlovato_slustl>,\n",
       " <Item title:\"Fragile States Index 2015 LL\" type:Feature Layer Collection owner:laurenlovato_slustl>,\n",
       " <Item title:\"Fragile States Index 2012 LL\" type:Feature Layer Collection owner:laurenlovato_slustl>]"
      ]
     },
     "execution_count": 2,
     "metadata": {},
     "output_type": "execute_result"
    }
   ],
   "source": [
    "search_result = gis.content.search(\"title:Fragile LL\", item_type=\"Feature Layer\", max_items=13)\n",
    "search_result"
   ]
  },
  {
   "cell_type": "code",
   "execution_count": 3,
   "metadata": {},
   "outputs": [],
   "source": [
    "classed_size_renderer = { \"renderer\": \"ClassedSizeRenderer\", \"field_name\":\"Total\"}"
   ]
  },
  {
   "cell_type": "code",
   "execution_count": 7,
   "metadata": {},
   "outputs": [
    {
     "data": {
      "application/vnd.jupyter.widget-view+json": {
       "model_id": "0c34d38bd5b74d6cae5fc672b87308db",
       "version_major": 2,
       "version_minor": 0
      },
      "text/plain": [
       "MapView(basemaps=['dark-gray', 'dark-gray-vector', 'gray', 'gray-vector', 'hybrid', 'national-geographic', 'oc…"
      ]
     },
     "metadata": {},
     "output_type": "display_data"
    }
   ],
   "source": [
    "map_layer = gis.map()\n",
    "map_layer"
   ]
  },
  {
   "cell_type": "code",
   "execution_count": 8,
   "metadata": {},
   "outputs": [
    {
     "ename": "TypeError",
     "evalue": "Object of type 'FeatureLayer' is not JSON serializable",
     "output_type": "error",
     "traceback": [
      "\u001b[1;31m---------------------------------------------------------------------------\u001b[0m",
      "\u001b[1;31mTypeError\u001b[0m                                 Traceback (most recent call last)",
      "\u001b[1;32m<ipython-input-8-ba00b95523e9>\u001b[0m in \u001b[0;36m<module>\u001b[1;34m()\u001b[0m\n\u001b[0;32m      1\u001b[0m \u001b[1;32mfor\u001b[0m \u001b[0mresult\u001b[0m \u001b[1;32min\u001b[0m \u001b[0msearch_result\u001b[0m\u001b[1;33m:\u001b[0m\u001b[1;33m\u001b[0m\u001b[0m\n\u001b[1;32m----> 2\u001b[1;33m     \u001b[0mmap_layer\u001b[0m\u001b[1;33m.\u001b[0m\u001b[0madd_layer\u001b[0m\u001b[1;33m(\u001b[0m\u001b[0mclassed_size_renderer\u001b[0m\u001b[1;33m,\u001b[0m \u001b[0mresult\u001b[0m\u001b[1;33m)\u001b[0m\u001b[1;33m\u001b[0m\u001b[0m\n\u001b[0m",
      "\u001b[1;32mC:\\Program Files\\ArcGIS\\Pro\\bin\\Python\\envs\\arcgispro-py3\\lib\\site-packages\\arcgis\\widgets\\__init__.py\u001b[0m in \u001b[0;36madd_layer\u001b[1;34m(self, item, options)\u001b[0m\n\u001b[0;32m    359\u001b[0m         \u001b[1;32melse\u001b[0m\u001b[1;33m:\u001b[0m  \u001b[1;31m# dict {'url':'xxx', 'type':'yyy', 'opacity':'zzz' ...}\u001b[0m\u001b[1;33m\u001b[0m\u001b[0m\n\u001b[0;32m    360\u001b[0m             \u001b[1;32mif\u001b[0m \u001b[0moptions\u001b[0m \u001b[1;32mis\u001b[0m \u001b[1;32mnot\u001b[0m \u001b[1;32mNone\u001b[0m\u001b[1;33m:\u001b[0m\u001b[1;33m\u001b[0m\u001b[0m\n\u001b[1;32m--> 361\u001b[1;33m                 \u001b[0mitem\u001b[0m\u001b[1;33m.\u001b[0m\u001b[0mupdate\u001b[0m\u001b[1;33m(\u001b[0m\u001b[1;33m{\u001b[0m\u001b[1;34m\"options\"\u001b[0m\u001b[1;33m:\u001b[0m \u001b[0mjson\u001b[0m\u001b[1;33m.\u001b[0m\u001b[0mdumps\u001b[0m\u001b[1;33m(\u001b[0m\u001b[0moptions\u001b[0m\u001b[1;33m)\u001b[0m\u001b[1;33m}\u001b[0m\u001b[1;33m)\u001b[0m\u001b[1;33m\u001b[0m\u001b[0m\n\u001b[0m\u001b[0;32m    362\u001b[0m \u001b[1;33m\u001b[0m\u001b[0m\n\u001b[0;32m    363\u001b[0m             \u001b[0mself\u001b[0m\u001b[1;33m.\u001b[0m\u001b[0m_addlayer\u001b[0m \u001b[1;33m=\u001b[0m \u001b[0mjson\u001b[0m\u001b[1;33m.\u001b[0m\u001b[0mdumps\u001b[0m\u001b[1;33m(\u001b[0m\u001b[0mitem\u001b[0m\u001b[1;33m)\u001b[0m\u001b[1;33m\u001b[0m\u001b[0m\n",
      "\u001b[1;32mC:\\Program Files\\ArcGIS\\Pro\\bin\\Python\\envs\\arcgispro-py3\\lib\\json\\__init__.py\u001b[0m in \u001b[0;36mdumps\u001b[1;34m(obj, skipkeys, ensure_ascii, check_circular, allow_nan, cls, indent, separators, default, sort_keys, **kw)\u001b[0m\n\u001b[0;32m    229\u001b[0m         \u001b[0mcls\u001b[0m \u001b[1;32mis\u001b[0m \u001b[1;32mNone\u001b[0m \u001b[1;32mand\u001b[0m \u001b[0mindent\u001b[0m \u001b[1;32mis\u001b[0m \u001b[1;32mNone\u001b[0m \u001b[1;32mand\u001b[0m \u001b[0mseparators\u001b[0m \u001b[1;32mis\u001b[0m \u001b[1;32mNone\u001b[0m \u001b[1;32mand\u001b[0m\u001b[1;33m\u001b[0m\u001b[0m\n\u001b[0;32m    230\u001b[0m         default is None and not sort_keys and not kw):\n\u001b[1;32m--> 231\u001b[1;33m         \u001b[1;32mreturn\u001b[0m \u001b[0m_default_encoder\u001b[0m\u001b[1;33m.\u001b[0m\u001b[0mencode\u001b[0m\u001b[1;33m(\u001b[0m\u001b[0mobj\u001b[0m\u001b[1;33m)\u001b[0m\u001b[1;33m\u001b[0m\u001b[0m\n\u001b[0m\u001b[0;32m    232\u001b[0m     \u001b[1;32mif\u001b[0m \u001b[0mcls\u001b[0m \u001b[1;32mis\u001b[0m \u001b[1;32mNone\u001b[0m\u001b[1;33m:\u001b[0m\u001b[1;33m\u001b[0m\u001b[0m\n\u001b[0;32m    233\u001b[0m         \u001b[0mcls\u001b[0m \u001b[1;33m=\u001b[0m \u001b[0mJSONEncoder\u001b[0m\u001b[1;33m\u001b[0m\u001b[0m\n",
      "\u001b[1;32mC:\\Program Files\\ArcGIS\\Pro\\bin\\Python\\envs\\arcgispro-py3\\lib\\json\\encoder.py\u001b[0m in \u001b[0;36mencode\u001b[1;34m(self, o)\u001b[0m\n\u001b[0;32m    197\u001b[0m         \u001b[1;31m# exceptions aren't as detailed.  The list call should be roughly\u001b[0m\u001b[1;33m\u001b[0m\u001b[1;33m\u001b[0m\u001b[0m\n\u001b[0;32m    198\u001b[0m         \u001b[1;31m# equivalent to the PySequence_Fast that ''.join() would do.\u001b[0m\u001b[1;33m\u001b[0m\u001b[1;33m\u001b[0m\u001b[0m\n\u001b[1;32m--> 199\u001b[1;33m         \u001b[0mchunks\u001b[0m \u001b[1;33m=\u001b[0m \u001b[0mself\u001b[0m\u001b[1;33m.\u001b[0m\u001b[0miterencode\u001b[0m\u001b[1;33m(\u001b[0m\u001b[0mo\u001b[0m\u001b[1;33m,\u001b[0m \u001b[0m_one_shot\u001b[0m\u001b[1;33m=\u001b[0m\u001b[1;32mTrue\u001b[0m\u001b[1;33m)\u001b[0m\u001b[1;33m\u001b[0m\u001b[0m\n\u001b[0m\u001b[0;32m    200\u001b[0m         \u001b[1;32mif\u001b[0m \u001b[1;32mnot\u001b[0m \u001b[0misinstance\u001b[0m\u001b[1;33m(\u001b[0m\u001b[0mchunks\u001b[0m\u001b[1;33m,\u001b[0m \u001b[1;33m(\u001b[0m\u001b[0mlist\u001b[0m\u001b[1;33m,\u001b[0m \u001b[0mtuple\u001b[0m\u001b[1;33m)\u001b[0m\u001b[1;33m)\u001b[0m\u001b[1;33m:\u001b[0m\u001b[1;33m\u001b[0m\u001b[0m\n\u001b[0;32m    201\u001b[0m             \u001b[0mchunks\u001b[0m \u001b[1;33m=\u001b[0m \u001b[0mlist\u001b[0m\u001b[1;33m(\u001b[0m\u001b[0mchunks\u001b[0m\u001b[1;33m)\u001b[0m\u001b[1;33m\u001b[0m\u001b[0m\n",
      "\u001b[1;32mC:\\Program Files\\ArcGIS\\Pro\\bin\\Python\\envs\\arcgispro-py3\\lib\\json\\encoder.py\u001b[0m in \u001b[0;36miterencode\u001b[1;34m(self, o, _one_shot)\u001b[0m\n\u001b[0;32m    255\u001b[0m                 \u001b[0mself\u001b[0m\u001b[1;33m.\u001b[0m\u001b[0mkey_separator\u001b[0m\u001b[1;33m,\u001b[0m \u001b[0mself\u001b[0m\u001b[1;33m.\u001b[0m\u001b[0mitem_separator\u001b[0m\u001b[1;33m,\u001b[0m \u001b[0mself\u001b[0m\u001b[1;33m.\u001b[0m\u001b[0msort_keys\u001b[0m\u001b[1;33m,\u001b[0m\u001b[1;33m\u001b[0m\u001b[0m\n\u001b[0;32m    256\u001b[0m                 self.skipkeys, _one_shot)\n\u001b[1;32m--> 257\u001b[1;33m         \u001b[1;32mreturn\u001b[0m \u001b[0m_iterencode\u001b[0m\u001b[1;33m(\u001b[0m\u001b[0mo\u001b[0m\u001b[1;33m,\u001b[0m \u001b[1;36m0\u001b[0m\u001b[1;33m)\u001b[0m\u001b[1;33m\u001b[0m\u001b[0m\n\u001b[0m\u001b[0;32m    258\u001b[0m \u001b[1;33m\u001b[0m\u001b[0m\n\u001b[0;32m    259\u001b[0m def _make_iterencode(markers, _default, _encoder, _indent, _floatstr,\n",
      "\u001b[1;32mC:\\Program Files\\ArcGIS\\Pro\\bin\\Python\\envs\\arcgispro-py3\\lib\\json\\encoder.py\u001b[0m in \u001b[0;36mdefault\u001b[1;34m(self, o)\u001b[0m\n\u001b[0;32m    178\u001b[0m         \"\"\"\n\u001b[0;32m    179\u001b[0m         raise TypeError(\"Object of type '%s' is not JSON serializable\" %\n\u001b[1;32m--> 180\u001b[1;33m                         o.__class__.__name__)\n\u001b[0m\u001b[0;32m    181\u001b[0m \u001b[1;33m\u001b[0m\u001b[0m\n\u001b[0;32m    182\u001b[0m     \u001b[1;32mdef\u001b[0m \u001b[0mencode\u001b[0m\u001b[1;33m(\u001b[0m\u001b[0mself\u001b[0m\u001b[1;33m,\u001b[0m \u001b[0mo\u001b[0m\u001b[1;33m)\u001b[0m\u001b[1;33m:\u001b[0m\u001b[1;33m\u001b[0m\u001b[0m\n",
      "\u001b[1;31mTypeError\u001b[0m: Object of type 'FeatureLayer' is not JSON serializable"
     ]
    }
   ],
   "source": [
    "for result in search_result:\n",
    "    map_layer.add_layer(result)"
   ]
  },
  {
   "cell_type": "code",
   "execution_count": 10,
   "metadata": {},
   "outputs": [
    {
     "name": "stdout",
     "output_type": "stream",
     "text": [
      "[['', 'Country', 'Year', 'Rank', 'Total', 'C1: Security Apparatus', 'C2: Factionalized Elites', 'C3: Group Grievance', 'E1: Economy', 'E2: Economic Inequality', 'E3: Human Flight and Brain Drain', 'P1: State Legitimacy', 'P2: Public Services', 'P3: Human Rights', 'S1: Demographic Pressures', 'S2: Refugees and IDPs', 'X1: External Intervention'], ['0', 'Sudan', '2006-01-01', '1st', '112.3', '9.8', '9.1', '9.7', '7.5', '9.2', '9.1', '9.5', '9.5', '9.8', '9.6', '9.7', '9.8'], ['1', 'Congo Democratic Republic', '2006-01-01', '2nd', '110.1', '9.8', '9.6', '9.1', '8.1', '9.0', '8.0', '9.0', '9.0', '9.5', '9.5', '9.5', '10.0'], ['2', \"Cote d'Ivoire\", '2006-01-01', '3rd', '109.2', '9.8', '9.8', '9.8', '9.0', '8.0', '8.5', '10.0', '8.5', '9.4', '8.8', '7.6', '10.0'], ['3', 'Iraq', '2006-01-01', '4th', '109.0', '9.8', '9.7', '9.8', '8.2', '8.7', '9.1', '8.5', '8.3', '9.7', '8.9', '8.3', '10.0'], ['4', 'Zimbabwe', '2006-01-01', '5th', '108.9', '9.4', '8.5', '8.5', '9.8', '9.2', '9.0', '8.9', '9.5', '9.5', '9.7', '8.9', '8.0'], ['5', 'Chad', '2006-01-01', '6th', '105.9', '9.4', '9.5', '8.5', '7.9', '9.0', '8.0', '9.5', '9.0', '9.1', '9.0', '9.0', '8.0'], ['6', 'Somalia', '2006-01-01', '6th', '105.9', '10.0', '9.8', '8.0', '8.5', '7.5', '7.0', '10.0', '10.0', '9.5', '9.0', '8.1', '8.5'], ['7', 'Haiti', '2006-01-01', '8th', '104.6', '9.4', '9.6', '8.8', '8.4', '8.3', '8.0', '9.4', '9.3', '9.6', '8.8', '5.0', '10.0'], ['8', 'Pakistan', '2006-01-01', '9th', '103.1', '9.1', '9.1', '8.6', '7.0', '8.9', '8.1', '8.5', '7.5', '8.5', '9.3', '9.3', '9.2'], ['9', 'Afghanistan', '2006-01-01', '10th', '99.8', '8.2', '8.0', '9.1', '7.5', '8.0', '7.0', '8.3', '8.0', '8.2', '7.9', '9.6', '10.0'], ['10', 'Guinea', '2006-01-01', '11th', '99.0', '8.1', '9.0', '8.1', '8.0', '8.0', '8.4', '9.1', '9.0', '8.1', '7.5', '7.2', '8.5'], ['11', 'Liberia', '2006-01-01', '11th', '99.0', '7.3', '8.8', '7.0', '8.9', '8.6', '7.1', '7.8', '9.0', '7.2', '8.0', '9.3', '10.0'], ['12', 'Central African Republic', '2006-01-01', '13th', '97.5', '8.9', '8.0', '8.8', '8.1', '8.5', '5.5', '9.0', '8.0', '7.5', '9.0', '7.7', '8.5'], ['13', 'North Korea', '2006-01-01', '14th', '97.3', '8.3', '8.0', '7.2', '9.5', '9.0', '5.0', '9.8', '9.5', '9.5', '8.0', '6.0', '7.5'], ['14', 'Burundi', '2006-01-01', '15th', '96.7', '7.3', '7.8', '7.0', '7.8', '8.8', '6.7', '7.2', '8.5', '7.5', '9.0', '9.1', '10.0'], ['15', 'Sierra Leone', '2006-01-01', '16th', '96.6', '7.0', '7.7', '7.1', '9.0', '8.7', '8.9', '8.0', '8.0', '7.0', '8.5', '7.9', '8.8'], ['16', 'Yemen', '2006-01-01', '16th', '96.6', '9.0', '9.4', '7.0', '7.8', '9.0', '8.2', '8.8', '8.2', '7.2', '7.8', '6.7', '7.5'], ['17', 'Myanmar', '2006-01-01', '18th', '96.5', '9.0', '8.0', '9.0', '7.1', '9.0', '6.0', '9.2', '8.2', '9.8', '8.9', '8.8', '3.5'], ['18', 'Bangladesh', '2006-01-01', '19th', '96.3', '8.3', '8.9', '9.5', '7.0', '9.0', '8.5', '9.0', '7.5', '7.8', '9.0', '5.8', '6.0'], ['19', 'Nepal', '2006-01-01', '20th', '95.4', '9.0', '9.0', '9.2', '8.5', '9.2', '6.0', '9.2', '6.2', '9.1', '8.5', '4.8', '6.7'], ['20', 'Uganda', '2006-01-01', '21st', '94.5', '8.5', '7.9', '7.8', '7.5', '8.4', '5.7', '8.0', '8.0', '8.0', '8.0', '9.2', '7.5'], ['21', 'Nigeria', '2006-01-01', '22nd', '94.4', '9.2', '9.0', '9.1', '5.4', '9.0', '8.5', '9.0', '8.3', '7.1', '8.0', '5.9', '5.9'], ['22', 'Uzbekistan', '2006-01-01', '22nd', '94.4', '9.1', '9.1', '7.5', '7.0', '8.1', '7.5', '9.3', '7.0', '9.3', '7.7', '5.8', '7.0'], ['23', 'Rwanda', '2006-01-01', '24th', '92.9', '5.0', '8.9', '9.0', '8.0', '7.2', '8.2', '8.7', '6.9', '7.7', '9.5', '7.0', '6.8'], ['24', 'Sri Lanka ', '2006-01-01', '25th', '92.4', '8.5', '8.9', '9.1', '5.7', '8.0', '6.7', '8.6', '7.0', '7.2', '8.0', '8.2', '6.5'], ['25', 'Ethiopia', '2006-01-01', '26th', '91.9', '7.5', '8.7', '7.0', '8.0', '8.5', '7.5', '7.6', '6.2', '8.0', '9.0', '7.6', '6.3'], ['26', 'Colombia', '2006-01-01', '27th', '91.8', '9.0', '9.2', '7.4', '3.2', '8.5', '8.5', '8.7', '6.5', '7.6', '7.0', '9.1', '7.1'], ['27', 'Kyrgyz Republic', '2006-01-01', '28th', '90.3', '8.3', '7.9', '7.0', '7.5', '8.0', '7.5', '8.3', '7.3', '7.9', '8.0', '6.6', '6.0'], ['28', 'Malawi', '2006-01-01', '29th', '89.8', '5.5', '6.7', '6.0', '8.8', '8.8', '7.0', '8.0', '9.0', '8.0', '9.0', '6.0', '7.0'], ['29', 'Burkina Faso', '2006-01-01', '30th', '89.7', '7.6', '7.7', '6.5', '8.2', '8.8', '6.6', '7.8', '8.4', '6.5', '9.0', '5.9', '6.7'], ['30', 'Egypt', '2006-01-01', '31st', '89.5', '6.5', '7.7', '8.5', '7.0', '8.0', '6.0', '9.0', '7.3', '8.0', '8.0', '6.0', '7.5'], ['31', 'Indonesia', '2006-01-01', '32nd', '89.2', '7.5', '7.9', '6.3', '6.8', '8.0', '8.3', '6.7', '7.2', '7.5', '7.5', '8.2', '7.3'], ['32', 'Kenya', '2006-01-01', '33rd', '88.6', '7.0', '7.6', '6.7', '6.8', '8.0', '8.0', '7.3', '7.2', '6.9', '9.0', '7.1', '7.0'], ['33', 'Syria', '2006-01-01', '33rd', '88.6', '7.5', '7.1', '8.0', '6.5', '8.9', '6.8', '9.0', '5.5', '9.0', '7.0', '7.1', '6.2'], ['34', 'Bosnia and Herzegovina', '2006-01-01', '35th', '88.5', '7.5', '8.7', '8.6', '6.2', '7.3', '6.0', '8.1', '5.8', '5.3', '6.5', '8.5', '10.0'], ['35', 'Cameroon', '2006-01-01', '36th', '88.4', '7.6', '7.9', '6.5', '6.0', '8.7', '8.0', '8.5', '8.0', '7.2', '6.5', '6.8', '6.7'], ['36', 'Angola', '2006-01-01', '37th', '88.3', '6.8', '8.0', '6.3', '4.9', '9.0', '5.0', '8.8', '7.6', '7.8', '8.0', '8.5', '7.6'], ['37', 'Togo', '2006-01-01', '37th', '88.3', '8.1', '7.8', '6.0', '8.0', '7.5', '6.5', '8.7', '8.1', '8.1', '7.0', '5.8', '6.7'], ['38', 'Bhutan', '2006-01-01', '39th', '87.9', '5.0', '8.4', '7.0', '8.0', '9.0', '6.7', '8.4', '6.0', '8.6', '6.0', '8.1', '6.7'], ['39', 'Laos', '2006-01-01', '39th', '87.9', '9.0', '8.9', '6.3', '6.5', '5.9', '6.6', '7.9', '8.0', '8.2', '8.0', '5.9', '6.7'], ['40', 'Mauritania', '2006-01-01', '41st', '87.8', '7.6', '7.9', '8.5', '7.8', '7.0', '5.0', '7.1', '8.2', '7.1', '9.0', '5.9', '6.7'], ['41', 'Tajikistan', '2006-01-01', '42nd', '87.7', '7.5', '8.7', '6.2', '6.8', '7.4', '6.5', '8.9', '7.5', '8.6', '7.0', '6.6', '6.0'], ['42', 'Russia', '2006-01-01', '43rd', '87.1', '7.5', '9.0', '8.0', '3.7', '8.0', '7.0', '8.2', '6.9', '9.1', '8.0', '7.2', '4.5'], ['43', 'Niger ', '2006-01-01', '44th', '87.0', '6.7', '6.0', '8.5', '9.0', '7.2', '6.0', '7.9', '8.5', '6.5', '9.4', '4.3', '7.0'], ['44', 'Turkmenistan', '2006-01-01', '45th', '86.1', '8.5', '8.0', '5.2', '8.0', '7.2', '6.0', '9.1', '7.2', '9.7', '7.0', '4.2', '6.0'], ['45', 'Guinea Bissau', '2006-01-01', '46th', '85.4', '7.5', '6.5', '5.5', '7.4', '9.3', '7.0', '7.8', '8.0', '7.9', '7.0', '4.9', '6.6'], ['46', 'Cambodia ', '2006-01-01', '47th', '85.0', '6.7', '7.5', '7.0', '6.0', '7.2', '8.0', '7.8', '7.5', '6.9', '7.5', '6.5', '6.4'], ['47', 'Dominican Republic', '2006-01-01', '47th', '85.0', '7.0', '7.4', '6.5', '6.0', '8.0', '8.5', '6.2', '8.0', '7.1', '7.8', '7.0', '5.5'], ['48', 'Papua New Guinea ', '2006-01-01', '49th', '84.6', '7.0', '6.7', '8.0', '7.0', '9.0', '8.0', '7.8', '8.0', '6.1', '8.0', '2.5', '6.5'], ['49', 'Belarus', '2006-01-01', '50th', '84.5', '6.8', '8.0', '5.5', '6.3', '8.5', '3.5', '9.0', '7.5', '7.3', '9.0', '5.1', '8.0'], ['50', 'Guatemala', '2006-01-01', '51st', '84.3', '7.5', '6.0', '7.1', '7.1', '8.0', '6.7', '7.5', '7.1', '7.1', '8.7', '6.0', '5.5'], ['51', 'Equatorial Guinea', '2006-01-01', '52nd', '84.0', '8.3', '8.0', '6.7', '4.0', '9.0', '7.5', '9.0', '8.0', '8.5', '7.0', '2.0', '6.0'], ['52', 'Iran', '2006-01-01', '52nd', '84.0', '8.0', '8.8', '6.9', '3.0', '7.5', '5.0', '8.1', '6.1', '9.1', '6.5', '8.7', '6.3'], ['53', 'Eritrea', '2006-01-01', '54th', '83.9', '7.2', '7.5', '5.4', '8.0', '6.0', '6.0', '8.0', '7.3', '6.8', '8.0', '7.2', '6.5'], ['54', 'Serbia  ', '2006-01-01', '55th', '83.8', '6.5', '8.6', '8.6', '6.5', '8.0', '5.5', '7.8', '5.0', '5.6', '5.7', '8.5', '7.5'], ['55', 'Bolivia', '2006-01-01', '56th', '82.9', '6.5', '8.4', '7.0', '6.2', '8.8', '7.0', '7.0', '7.8', '6.7', '7.5', '4.0', '6.0'], ['56', 'China', '2006-01-01', '57th', '82.5', '5.5', '8.0', '8.0', '4.5', '9.2', '6.6', '8.5', '7.3', '9.0', '8.5', '5.1', '2.3'], ['57', 'Moldova', '2006-01-01', '57th', '82.5', '5.5', '6.8', '7.3', '7.5', '7.5', '8.0', '7.4', '7.0', '6.8', '7.0', '4.7', '7.0'], ['58', 'Nicaragua ', '2006-01-01', '59th', '82.4', '6.5', '7.0', '6.4', '8.5', '9.0', '7.1', '7.3', '7.2', '5.7', '6.5', '5.5', '5.7'], ['59', 'Georgia ', '2006-01-01', '60th', '82.2', '8.1', '7.1', '7.4', '5.5', '7.0', '6.1', '7.7', '6.3', '5.6', '6.0', '6.8', '8.6'], ['60', 'Azerbaijan', '2006-01-01', '61st', '81.9', '7.0', '7.5', '7.3', '5.9', '7.5', '5.0', '8.1', '6.5', '6.0', '6.0', '8.1', '7.0'], ['61', 'Cuba', '2006-01-01', '61st', '81.9', '8.0', '8.0', '5.5', '6.5', '7.9', '6.0', '7.8', '4.0', '8.3', '7.5', '4.7', '7.7'], ['62', 'Ecuador', '2006-01-01', '63rd', '81.2', '6.8', '7.8', '6.8', '5.2', '8.0', '7.1', '8.3', '7.4', '6.7', '6.0', '5.6', '5.5'], ['63', 'Venezuela', '2006-01-01', '63rd', '81.2', '7.5', '7.3', '6.8', '4.0', '8.0', '7.0', '7.5', '7.0', '7.8', '7.5', '4.8', '6.0'], ['64', 'Lebanon', '2006-01-01', '65th', '80.5', '7.5', '8.3', '7.8', '5.3', '6.8', '7.0', '6.4', '5.0', '6.8', '6.8', '4.3', '8.5'], ['65', 'Zambia', '2006-01-01', '66th', '79.6', '6.0', '5.2', '5.2', '7.6', '7.3', '6.7', '7.5', '7.8', '5.8', '9.2', '5.2', '6.1'], ['66', 'Israel and West Bank', '2006-01-01', '67th', '79.4', '4.8', '7.5', '9.0', '3.8', '7.0', '3.5', '7.3', '7.0', '7.0', '7.0', '8.5', '7.0'], ['67', 'Peru', '2006-01-01', '68th', '79.2', '8.0', '7.1', '7.0', '5.4', '8.0', '7.6', '6.8', '6.4', '6.8', '6.5', '4.6', '5.0'], ['68', 'Philippines', '2006-01-01', '68th', '79.2', '7.0', '7.2', '7.2', '5.3', '7.5', '5.7', '7.8', '6.0', '6.1', '7.0', '5.5', '6.9'], ['69', 'Vietnam', '2006-01-01', '70th', '78.6', '7.5', '7.0', '5.3', '5.6', '6.2', '7.0', '7.0', '6.6', '7.0', '7.0', '6.5', '5.9'], ['70', 'Tanzania', '2006-01-01', '71st', '78.3', '6.0', '5.2', '6.0', '7.0', '7.0', '6.0', '6.5', '7.8', '6.0', '7.0', '6.8', '7.0'], ['71', 'Algeria', '2006-01-01', '72nd', '77.8', '6.8', '6.4', '7.1', '3.5', '7.4', '5.6', '7.5', '7.6', '7.5', '6.0', '6.6', '5.8'], ['72', 'Saudi Arabia', '2006-01-01', '73rd', '77.2', '7.8', '7.5', '7.9', '2.0', '7.0', '3.5', '8.5', '4.1', '8.5', '6.0', '6.9', '7.5'], ['73', 'Jordan ', '2006-01-01', '74th', '77.0', '6.8', '6.6', '6.0', '6.5', '7.6', '5.0', '6.8', '5.8', '6.1', '6.0', '6.8', '7.0'], ['74', 'Honduras', '2006-01-01', '75th', '76.7', '6.0', '6.4', '5.3', '7.6', '9.0', '6.0', '7.5', '6.9', '5.6', '8.8', '2.1', '5.5'], ['75', 'Morocco', '2006-01-01', '76th', '76.5', '5.6', '5.5', '6.9', '6.5', '7.0', '6.2', '8.0', '5.7', '6.6', '6.5', '8.0', '4.0'], ['76', 'El Salvador', '2006-01-01', '77th', '76.1', '6.0', '3.9', '6.0', '5.0', '7.0', '7.0', '7.0', '7.4', '6.7', '8.5', '6.1', '5.5'], ['77', 'Macedonia ', '2006-01-01', '78th', '75.1', '6.1', '6.2', '7.1', '6.0', '7.5', '7.0', '7.2', '5.6', '5.3', '5.7', '5.1', '6.3'], ['78', 'Thailand', '2006-01-01', '79th', '74.9', '6.8', '7.2', '8.1', '2.0', '7.5', '4.3', '6.8', '6.0', '6.5', '7.5', '5.7', '6.5'], ['79', 'Mozambique', '2006-01-01', '80th', '74.8', '5.5', '5.5', '4.5', '7.0', '7.1', '8.1', '7.4', '8.0', '6.7', '7.0', '2.0', '6.0'], ['80', 'Mali ', '2006-01-01', '81st', '74.6', '4.5', '3.5', '6.0', '8.5', '6.8', '8.0', '4.6', '8.6', '4.7', '8.5', '4.2', '6.7'], ['81', 'Turkey', '2006-01-01', '82nd', '74.4', '6.4', '6.9', '7.3', '4.1', '8.6', '5.0', '6.1', '5.7', '5.0', '7.2', '6.1', '6.0'], ['82', 'Gambia', '2006-01-01', '83rd', '74.0', '5.5', '5.8', '4.0', '8.1', '7.0', '6.0', '7.5', '6.5', '6.6', '6.0', '5.0', '6.0'], ['83', 'Gabon', '2006-01-01', '84th', '73.6', '5.5', '7.5', '3.0', '5.0', '7.9', '6.0', '7.9', '7.5', '6.2', '6.0', '5.4', '5.7'], ['84', 'Mexico', '2006-01-01', '85th', '73.1', '6.0', '4.7', '6.1', '6.3', '8.3', '7.0', '5.9', '6.0', '5.1', '7.2', '4.3', '6.2'], ['85', 'Ukraine', '2006-01-01', '86th', '72.9', '3.0', '7.5', '7.2', '4.5', '7.0', '7.5', '7.0', '5.5', '5.9', '7.0', '3.8', '7.0'], ['86', 'Paraguay', '2006-01-01', '87th', '72.0', '4.5', '7.5', '6.2', '6.6', '7.5', '6.0', '8.0', '6.8', '8.0', '5.0', '1.5', '4.4'], ['87', 'Kazakhstan', '2006-01-01', '88th', '71.9', '6.7', '7.7', '5.1', '6.5', '6.2', '4.0', '7.5', '6.7', '7.0', '5.0', '2.9', '6.6'], ['88', 'Armenia ', '2006-01-01', '89th', '71.5', '4.5', '5.8', '5.0', '5.1', '6.0', '7.0', '7.0', '6.5', '6.0', '6.0', '7.1', '5.5'], ['89', 'Benin', '2006-01-01', '90th', '70.9', '5.5', '3.8', '4.0', '6.5', '7.3', '6.9', '6.5', '7.8', '4.8', '6.0', '5.1', '6.7'], ['90', 'Namibia ', '2006-01-01', '91st', '70.7', '5.5', '3.5', '5.5', '5.5', '8.0', '8.0', '4.5', '7.8', '5.8', '5.7', '4.9', '6.0'], ['91', 'Cyprus ', '2006-01-01', '92nd', '70.5', '4.0', '8.5', '8.6', '5.0', '7.7', '6.0', '5.4', '4.2', '3.5', '5.0', '3.6', '9.0'], ['92', 'India', '2006-01-01', '93rd', '70.4', '4.5', '5.7', '6.9', '5.0', '8.5', '7.1', '4.8', '6.7', '5.4', '8.8', '2.8', '4.2'], ['93', 'Albania', '2006-01-01', '94th', '68.6', '5.5', '4.5', '4.5', '7.0', '6.0', '7.0', '7.0', '6.9', '5.5', '6.0', '2.7', '6.0'], ['94', 'Libya', '2006-01-01', '95th', '68.5', '5.5', '7.9', '5.5', '5.1', '7.3', '4.0', '7.5', '4.5', '8.1', '6.0', '2.1', '5.0'], ['95', 'Botswana', '2006-01-01', '96th', '66.9', '4.0', '3.0', '3.5', '5.0', '6.9', '6.0', '5.5', '6.8', '4.9', '9.3', '6.0', '6.0'], ['96', 'Jamaica ', '2006-01-01', '97th', '66.8', '6.0', '3.9', '4.5', '5.0', '6.5', '6.7', '7.0', '6.5', '5.6', '6.5', '2.5', '6.1'], ['97', 'Malaysia', '2006-01-01', '98th', '66.1', '6.2', '5.5', '5.5', '4.3', '6.6', '3.5', '5.9', '5.8', '6.5', '6.5', '4.1', '5.7'], ['98', 'Senegal ', '2006-01-01', '98th', '66.1', '5.5', '3.5', '5.2', '5.2', '6.8', '5.0', '5.8', '6.5', '6.0', '6.8', '4.3', '5.5'], ['99', 'Tunisia', '2006-01-01', '100th', '65.4', '6.0', '6.0', '5.0', '3.6', '7.5', '5.0', '6.5', '6.0', '7.5', '5.7', '3.6', '3.0'], ['100', 'Brazil', '2006-01-01', '101st', '63.1', '5.7', '3.2', '5.7', '2.7', '8.5', '5.0', '5.5', '6.7', '5.3', '6.5', '3.6', '4.7'], ['101', 'Romania ', '2006-01-01', '102nd', '62.6', '3.5', '4.1', '5.4', '5.9', '6.0', '5.5', '6.2', '5.3', '4.8', '6.5', '3.9', '5.5'], ['102', 'Bulgaria', '2006-01-01', '103rd', '62.1', '5.5', '4.1', '4.0', '4.3', '6.2', '6.0', '6.2', '5.3', '4.9', '6.0', '4.1', '5.5'], ['103', 'Croatia ', '2006-01-01', '104th', '61.9', '4.0', '3.9', '6.5', '5.8', '5.7', '5.0', '4.2', '4.1', '4.6', '5.7', '6.6', '5.8'], ['104', 'Kuwait ', '2006-01-01', '105th', '60.8', '5.5', '7.5', '4.5', '2.8', '6.0', '4.0', '6.8', '3.0', '6.5', '5.7', '4.5', '4.0'], ['105', 'Ghana ', '2006-01-01', '106th', '60.5', '2.0', '3.5', '5.0', '4.0', '6.8', '8.0', '5.5', '6.8', '4.4', '5.5', '4.5', '4.5'], ['106', 'Panama ', '2006-01-01', '107th', '59.6', '5.3', '3.0', '4.5', '5.7', '7.5', '5.0', '4.9', '5.8', '4.8', '6.5', '2.6', '4.0'], ['107', 'Mongolia ', '2006-01-01', '108th', '58.4', '4.7', '5.0', '4.1', '4.5', '5.7', '2.0', '6.2', '5.3', '6.7', '6.0', '1.0', '7.2'], ['108', 'Latvia', '2006-01-01', '109th', '56.2', '2.0', '4.1', '4.5', '5.5', '7.0', '5.0', '4.8', '4.0', '3.7', '5.7', '5.9', '4.0'], ['109', 'South Africa ', '2006-01-01', '110th', '55.7', '3.4', '4.0', '4.5', '2.2', '8.0', '4.0', '4.1', '6.0', '4.0', '7.7', '5.8', '2.0'], ['110', 'Estonia ', '2006-01-01', '111th', '51.0', '2.0', '5.9', '4.5', '3.5', '5.0', '4.0', '5.0', '4.0', '3.7', '5.0', '5.1', '3.3'], ['111', 'Slovak Republic', '2006-01-01', '112th', '49.9', '2.0', '4.0', '4.4', '4.5', '6.5', '5.5', '3.8', '4.3', '4.6', '4.5', '1.8', '4.0'], ['112', 'Lithuania', '2006-01-01', '113th', '49.7', '2.0', '3.0', '3.5', '4.5', '6.1', '5.5', '4.1', '4.1', '3.7', '5.7', '3.5', '4.0'], ['113', 'Costa Rica', '2006-01-01', '114th', '49.6', '2.0', '3.3', '4.0', '4.5', '6.2', '5.0', '3.9', '2.5', '3.5', '6.0', '4.2', '4.5'], ['114', 'Poland', '2006-01-01', '115th', '47.9', '2.0', '3.0', '3.2', '4.3', '4.7', '6.5', '4.2', '4.3', '3.5', '5.0', '3.2', '4.0'], ['115', 'Hungary', '2006-01-01', '116th', '46.7', '2.0', '3.0', '3.0', '4.0', '6.4', '5.0', '3.8', '4.2', '4.0', '3.7', '3.6', '4.0'], ['116', 'Oman ', '2006-01-01', '117th', '43.8', '5.5', '7.5', '3.0', '3.5', '2.0', '1.0', '6.3', '3.5', '6.5', '2.0', '1.0', '2.0'], ['117', 'Mauritius ', '2006-01-01', '118th', '41.9', '4.0', '3.0', '3.5', '3.1', '6.0', '2.0', '5.1', '4.5', '4.7', '3.0', '1.0', '2.0'], ['118', 'Czech Republic', '2006-01-01', '119th', '41.8', '2.0', '3.5', '3.2', '2.5', '4.0', '5.0', '3.7', '3.9', '3.0', '4.0', '3.5', '3.5'], ['119', 'Uruguay ', '2006-01-01', '120th', '41.2', '3.0', '2.5', '2.0', '3.5', '5.0', '6.0', '3.0', '4.0', '2.5', '5.0', '1.0', '3.7'], ['120', 'Greece ', '2006-01-01', '121st', '41.1', '2.0', '1.5', '3.5', '3.5', '5.0', '5.5', '4.0', '3.0', '3.0', '5.0', '1.4', '3.7'], ['121', 'Argentina', '2006-01-01', '122nd', '40.8', '2.0', '2.8', '4.0', '4.2', '5.2', '4.0', '3.5', '4.0', '3.7', '3.0', '1.4', '3.0'], ['122', 'South Korea', '2006-01-01', '123rd', '39.9', '1.0', '3.0', '3.5', '1.0', '2.5', '5.5', '3.9', '1.5', '2.8', '4.0', '4.2', '7.0'], ['123', 'Germany ', '2006-01-01', '124th', '39.7', '2.5', '1.8', '4.9', '3.2', '6.2', '3.0', '2.3', '1.8', '2.9', '4.0', '5.0', '2.1'], ['124', 'Spain ', '2006-01-01', '125th', '37.4', '3.2', '5.7', '5.8', '3.3', '5.0', '1.5', '1.5', '1.5', '2.9', '3.2', '1.8', '2.0'], ['125', 'Slovenia ', '2006-01-01', '126th', '36.8', '3.0', '1.2', '3.5', '3.2', '5.5', '3.5', '3.2', '3.5', '3.7', '4.0', '1.5', '1.0'], ['126', 'Italy ', '2006-01-01', '127th', '35.1', '2.5', '2.8', '3.5', '4.0', '4.5', '3.0', '3.2', '1.5', '1.8', '3.5', '2.8', '2.0'], ['127', 'United States', '2006-01-01', '128th', '34.5', '1.0', '1.5', '3.0', '1.5', '6.0', '1.0', '2.5', '1.0', '5.0', '5.0', '6.0', '1.0'], ['128', 'France', '2006-01-01', '129th', '34.3', '1.0', '1.8', '6.0', '3.0', '5.0', '2.0', '1.5', '1.0', '3.2', '4.0', '3.8', '2.0'], ['129', 'United Kingdom', '2006-01-01', '130th', '34.2', '2.5', '3.0', '5.0', '1.0', '5.0', '2.0', '2.5', '1.8', '2.0', '3.5', '3.9', '2.0'], ['130', 'Portugal ', '2006-01-01', '131st', '32.7', '1.0', '1.4', '2.5', '3.7', '4.0', '2.0', '1.5', '3.8', '3.3', '5.0', '1.0', '3.5'], ['131', 'Chile ', '2006-01-01', '132nd', '32.0', '2.0', '1.5', '3.5', '3.4', '4.0', '2.0', '1.5', '3.5', '3.6', '3.0', '1.0', '3.0'], ['132', 'Singapore ', '2006-01-01', '133rd', '30.8', '1.0', '4.0', '3.0', '3.3', '2.5', '3.0', '3.5', '1.0', '3.5', '2.0', '1.0', '3.0'], ['133', 'Netherlands ', '2006-01-01', '134th', '28.1', '1.0', '1.0', '4.8', '2.0', '4.0', '2.5', '1.2', '1.0', '1.5', '3.0', '4.1', '2.0'], ['134', 'Japan ', '2006-01-01', '135th', '28.0', '1.0', '1.3', '3.8', '2.6', '2.5', '2.0', '1.8', '1.0', '3.0', '4.0', '1.0', '4.0'], ['135', 'Austria ', '2006-01-01', '136th', '26.1', '1.0', '2.0', '3.5', '1.9', '5.0', '1.0', '1.3', '1.0', '1.5', '2.5', '2.1', '3.3'], ['136', 'Denmark', '2006-01-01', '137th', '24.8', '1.0', '1.0', '4.5', '2.0', '2.0', '2.0', '1.0', '1.0', '1.5', '3.0', '2.5', '3.3'], ['137', 'Belgium', '2006-01-01', '138th', '24.0', '1.0', '1.5', '3.5', '2.0', '4.0', '1.0', '1.5', '1.0', '1.5', '3.0', '1.5', '2.5'], ['138', 'Canada ', '2006-01-01', '139th', '23.1', '1.0', '1.6', '2.0', '1.2', '5.0', '2.0', '1.5', '1.0', '1.5', '3.0', '2.3', '1.0'], ['139', 'Australia', '2006-01-01', '140th', '22.0', '1.0', '1.5', '3.0', '1.5', '4.5', '1.0', '1.0', '1.0', '2.5', '2.5', '1.5', '1.0'], ['140', 'New Zealand ', '2006-01-01', '141st', '19.4', '1.0', '1.0', '2.0', '2.9', '4.0', '2.0', '1.0', '1.0', '1.5', '1.0', '1.0', '1.0'], ['141', 'Switzerland ', '2006-01-01', '142nd', '18.7', '1.0', '1.0', '2.0', '1.2', '2.5', '2.0', '1.0', '1.0', '1.5', '3.0', '1.5', '1.0'], ['142', 'Ireland ', '2006-01-01', '143rd', '18.6', '1.0', '1.0', '1.0', '1.9', '3.0', '2.0', '1.5', '1.3', '1.5', '2.0', '1.4', '1.0'], ['143', 'Finland ', '2006-01-01', '144th', '18.2', '1.0', '1.0', '1.0', '2.2', '2.0', '2.0', '1.0', '1.0', '1.5', '3.0', '1.5', '1.0'], ['144', 'Sweden ', '2006-01-01', '144th', '18.2', '1.0', '1.0', '1.0', '1.2', '2.0', '2.0', '1.0', '1.0', '1.5', '3.0', '2.5', '1.0'], ['145', 'Norway ', '2006-01-01', '146th', '16.8', '1.0', '1.0', '1.0', '1.8', '2.0', '1.0', '1.0', '1.0', '1.5', '3.0', '1.5', '1.0']]\n"
     ]
    }
   ],
   "source": [
    "import csv\n",
    "\n",
    "with open('fsi-2006.csv', newline='') as csvfile:\n",
    "    data = list(csv.reader(csvfile))\n",
    "\n",
    "print(data)"
   ]
  },
  {
   "cell_type": "code",
   "execution_count": null,
   "metadata": {},
   "outputs": [],
   "source": []
  }
 ],
 "metadata": {
  "kernelspec": {
   "display_name": "Python 3",
   "language": "python",
   "name": "python3"
  },
  "language_info": {
   "codemirror_mode": {
    "name": "ipython",
    "version": 3
   },
   "file_extension": ".py",
   "mimetype": "text/x-python",
   "name": "python",
   "nbconvert_exporter": "python",
   "pygments_lexer": "ipython3",
   "version": "3.6.5"
  }
 },
 "nbformat": 4,
 "nbformat_minor": 2
}
