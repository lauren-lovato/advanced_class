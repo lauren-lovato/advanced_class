{
 "cells": [
  {
   "cell_type": "code",
   "execution_count": 27,
   "metadata": {},
   "outputs": [
    {
     "name": "stdout",
     "output_type": "stream",
     "text": [
      "Enter password: ········\n"
     ]
    }
   ],
   "source": [
    "from arcgis.gis import GIS\n",
    "import pandas as pd\n",
    "import os\n",
    "gis = GIS (\"http://slustl.maps.arcgis.com/home\", \"laurenlovato_slustl\")"
   ]
  },
  {
   "cell_type": "code",
   "execution_count": 28,
   "metadata": {},
   "outputs": [],
   "source": [
    "FSI_2006 = 'fsi-2006.xlsx'\n",
    "FSI_2007 = 'fsi-2007.xlsx'\n",
    "FSI_2008 = 'fsi-2008.xlsx'\n",
    "FSI_2009 = 'fsi-2009.xlsx'\n",
    "FSI_2010 = 'fsi-2010.xlsx'\n",
    "FSI_2011 = 'fsi-2011.xlsx'\n",
    "FSI_2012 = 'fsi-2012.xlsx'\n",
    "FSI_2013 = 'fsi-2013.xlsx'\n",
    "FSI_2014 = 'fsi-2014.xlsx'\n",
    "FSI_2015 = 'fsi-2015.xlsx'\n",
    "FSI_2016 = 'fsi-2016.xlsx'\n",
    "FSI_2017 = 'fsi-2017.xlsx'\n",
    "FSI_2018 = 'fsi-2018.xlsx'"
   ]
  },
  {
   "cell_type": "code",
   "execution_count": 29,
   "metadata": {},
   "outputs": [],
   "source": [
    "FSI_xcllist = [FSI_2006, FSI_2007, FSI_2008, FSI_2009, FSI_2010, FSI_2011, \n",
    "               FSI_2012, FSI_2013, FSI_2014, FSI_2015, FSI_2016, FSI_2017, FSI_2018]"
   ]
  },
  {
   "cell_type": "code",
   "execution_count": 30,
   "metadata": {},
   "outputs": [],
   "source": [
    "for xcl in FSI_xcllist:\n",
    "    data_xls = pd.read_excel(xcl, index_col=None)\n",
    "    data_xls.to_csv(xcl[0:8]+\".csv\", encoding='utf-8')\n",
    "    os.remove(xcl)"
   ]
  },
  {
   "cell_type": "code",
   "execution_count": 10,
   "metadata": {},
   "outputs": [],
   "source": [
    "FSI_2006 = 'fsi-2006.xlsx'"
   ]
  },
  {
   "cell_type": "code",
   "execution_count": 11,
   "metadata": {},
   "outputs": [
    {
     "data": {
      "text/plain": [
       "'fsi-2006.xlsx'"
      ]
     },
     "execution_count": 11,
     "metadata": {},
     "output_type": "execute_result"
    }
   ],
   "source": [
    "FSI_2006"
   ]
  },
  {
   "cell_type": "code",
   "execution_count": 22,
   "metadata": {},
   "outputs": [
    {
     "data": {
      "text/plain": [
       "'fsi-2006'"
      ]
     },
     "execution_count": 22,
     "metadata": {},
     "output_type": "execute_result"
    }
   ],
   "source": [
    "FSI_2006[0:8]"
   ]
  },
  {
   "cell_type": "code",
   "execution_count": 25,
   "metadata": {},
   "outputs": [
    {
     "name": "stdout",
     "output_type": "stream",
     "text": [
      "['fsi-2006.xlsx', 'fsi-2007.xlsx', 'fsi-2008.xlsx', 'fsi-2009.xlsx', 'fsi-2010.xlsx', 'fsi-2011.xlsx', 'fsi-2012.xlsx', 'fsi-2013.xlsx', 'fsi-2014.xlsx', 'fsi-2015.xlsx', 'fsi-2016.xlsx', 'fsi-2017.xlsx', 'fsi-2018.xlsx']\n"
     ]
    }
   ],
   "source": [
    "print (FSI_xcllist)"
   ]
  },
  {
   "cell_type": "code",
   "execution_count": 34,
   "metadata": {},
   "outputs": [
    {
     "data": {
      "text/plain": [
       "'2006'"
      ]
     },
     "execution_count": 34,
     "metadata": {},
     "output_type": "execute_result"
    }
   ],
   "source": [
    "FSI_2006[4:8]"
   ]
  },
  {
   "cell_type": "code",
   "execution_count": 37,
   "metadata": {},
   "outputs": [
    {
     "ename": "NameError",
     "evalue": "name 'find_csv_filenames' is not defined",
     "output_type": "error",
     "traceback": [
      "\u001b[1;31m---------------------------------------------------------------------------\u001b[0m",
      "\u001b[1;31mNameError\u001b[0m                                 Traceback (most recent call last)",
      "\u001b[1;32m<ipython-input-37-17eeecab23da>\u001b[0m in \u001b[0;36m<module>\u001b[1;34m()\u001b[0m\n\u001b[1;32m----> 1\u001b[1;33m \u001b[0mfilenames\u001b[0m \u001b[1;33m=\u001b[0m \u001b[0mfind_csv_filenames\u001b[0m\u001b[1;33m(\u001b[0m\u001b[1;34mr'C:\\Users\\Lauren\\Documents\\GitHub\\advanced_class\\Project2'\u001b[0m\u001b[1;33m)\u001b[0m\u001b[1;33m\u001b[0m\u001b[0m\n\u001b[0m\u001b[0;32m      2\u001b[0m \u001b[1;32mfor\u001b[0m \u001b[0mname\u001b[0m \u001b[1;32min\u001b[0m \u001b[0mfilenames\u001b[0m\u001b[1;33m:\u001b[0m\u001b[1;33m\u001b[0m\u001b[0m\n\u001b[0;32m      3\u001b[0m   \u001b[0mprint\u001b[0m \u001b[1;33m(\u001b[0m\u001b[0mname\u001b[0m\u001b[1;33m)\u001b[0m\u001b[1;33m\u001b[0m\u001b[0m\n",
      "\u001b[1;31mNameError\u001b[0m: name 'find_csv_filenames' is not defined"
     ]
    }
   ],
   "source": [
    "filenames = find_csv_filenames(r'C:\\Users\\Lauren\\Documents\\GitHub\\advanced_class\\Project2')\n",
    "for name in filenames:\n",
    "  print (name)"
   ]
  },
  {
   "cell_type": "code",
   "execution_count": 38,
   "metadata": {},
   "outputs": [],
   "source": [
    "import glob"
   ]
  },
  {
   "cell_type": "code",
   "execution_count": 39,
   "metadata": {},
   "outputs": [
    {
     "name": "stdout",
     "output_type": "stream",
     "text": [
      "['fsi-2006.csv', 'fsi-2007.csv', 'fsi-2008.csv', 'fsi-2009.csv', 'fsi-2010.csv', 'fsi-2011.csv', 'fsi-2012.csv', 'fsi-2013.csv', 'fsi-2014.csv', 'fsi-2015.csv', 'fsi-2016.csv', 'fsi-2017.csv', 'fsi-2018.csv']\n"
     ]
    }
   ],
   "source": [
    "print(glob.glob('fsi*.csv'))"
   ]
  },
  {
   "cell_type": "code",
   "execution_count": 40,
   "metadata": {},
   "outputs": [
    {
     "name": "stdout",
     "output_type": "stream",
     "text": [
      "['fsi-2006.csv', 'fsi-2007.csv', 'fsi-2008.csv', 'fsi-2009.csv', 'fsi-2010.csv', 'fsi-2011.csv', 'fsi-2012.csv', 'fsi-2013.csv', 'fsi-2014.csv', 'fsi-2015.csv', 'fsi-2016.csv', 'fsi-2017.csv', 'fsi-2018.csv']\n"
     ]
    }
   ],
   "source": [
    "csv_list = print(glob.glob('fsi*.csv'))"
   ]
  },
  {
   "cell_type": "code",
   "execution_count": 41,
   "metadata": {},
   "outputs": [],
   "source": [
    "csv_list = (glob.glob('fsi*.csv'))"
   ]
  },
  {
   "cell_type": "code",
   "execution_count": 43,
   "metadata": {},
   "outputs": [
    {
     "name": "stdout",
     "output_type": "stream",
     "text": [
      "['fsi-2006.csv', 'fsi-2007.csv', 'fsi-2008.csv', 'fsi-2009.csv', 'fsi-2010.csv', 'fsi-2011.csv', 'fsi-2012.csv', 'fsi-2013.csv', 'fsi-2014.csv', 'fsi-2015.csv', 'fsi-2016.csv', 'fsi-2017.csv', 'fsi-2018.csv']\n"
     ]
    }
   ],
   "source": [
    "print (csv_list)"
   ]
  },
  {
   "cell_type": "code",
   "execution_count": 44,
   "metadata": {},
   "outputs": [],
   "source": [
    "search_result = gis.content.search(\"title:Fragil States Index\", \"owner:laurenlovato_slustl\")"
   ]
  },
  {
   "cell_type": "code",
   "execution_count": 45,
   "metadata": {},
   "outputs": [
    {
     "data": {
      "text/plain": [
       "[]"
      ]
     },
     "execution_count": 45,
     "metadata": {},
     "output_type": "execute_result"
    }
   ],
   "source": [
    "search_result"
   ]
  },
  {
   "cell_type": "code",
   "execution_count": 46,
   "metadata": {},
   "outputs": [
    {
     "data": {
      "text/plain": [
       "[]"
      ]
     },
     "execution_count": 46,
     "metadata": {},
     "output_type": "execute_result"
    }
   ],
   "source": [
    "search_result = gis.content.search(\"title:Fragile States Index\", \"owner:laurenlovato_slustl\")\n",
    "search_result"
   ]
  },
  {
   "cell_type": "code",
   "execution_count": 56,
   "metadata": {},
   "outputs": [
    {
     "data": {
      "text/plain": [
       "[]"
      ]
     },
     "execution_count": 56,
     "metadata": {},
     "output_type": "execute_result"
    }
   ],
   "source": [
    "search_result = gis.content.search(\"title:Fragile*\", \"owner: laurenlovato_slustl\", max_items=50)\n",
    "search_result"
   ]
  },
  {
   "cell_type": "code",
   "execution_count": 65,
   "metadata": {},
   "outputs": [
    {
     "data": {
      "text/plain": [
       "[<Item title:\"Fragile States Index 2011 LL\" type:Feature Layer Collection owner:laurenlovato_slustl>,\n",
       " <Item title:\"Fragile States Index 2018 LL\" type:Feature Layer Collection owner:laurenlovato_slustl>,\n",
       " <Item title:\"Fragile States Index 2006 LL\" type:Feature Layer Collection owner:laurenlovato_slustl>,\n",
       " <Item title:\"Fragile States Index 2007 LL\" type:Feature Layer Collection owner:laurenlovato_slustl>,\n",
       " <Item title:\"Fragile States Index 2017 LL\" type:Feature Layer Collection owner:laurenlovato_slustl>,\n",
       " <Item title:\"Fragile States Index 2009 LL\" type:Feature Layer Collection owner:laurenlovato_slustl>,\n",
       " <Item title:\"Fragile States Index 2014 LL\" type:Feature Layer Collection owner:laurenlovato_slustl>,\n",
       " <Item title:\"Fragile States Index 2016 LL\" type:Feature Layer Collection owner:laurenlovato_slustl>,\n",
       " <Item title:\"Fragile States Index 2010 LL\" type:Feature Layer Collection owner:laurenlovato_slustl>,\n",
       " <Item title:\"Fragile States Index 2008 LL\" type:Feature Layer Collection owner:laurenlovato_slustl>]"
      ]
     },
     "execution_count": 65,
     "metadata": {},
     "output_type": "execute_result"
    }
   ],
   "source": [
    "search_result = gis.content.search(\"title:Fragile\", item_type=\"Feature Layer\")\n",
    "search_result"
   ]
  },
  {
   "cell_type": "code",
   "execution_count": 71,
   "metadata": {},
   "outputs": [
    {
     "data": {
      "text/plain": [
       "[<Item title:\"LL_acled_demo_pred_surface\" type:Feature Layer Collection owner:laurenlovato_slustl>,\n",
       " <Item title:\"St. Louis Streets LL\" type:Feature Layer Collection owner:laurenlovato_slustl>,\n",
       " <Item title:\"Fragile States Index 2011 LL\" type:Feature Layer Collection owner:laurenlovato_slustl>,\n",
       " <Item title:\"Fragile States Index 2018 LL\" type:Feature Layer Collection owner:laurenlovato_slustl>,\n",
       " <Item title:\"LL_acled_demo\" type:Feature Layer Collection owner:laurenlovato_slustl>,\n",
       " <Item title:\"Thunder_Departures\" type:Feature Layer Collection owner:laurenlovato_slustl>,\n",
       " <Item title:\"StLouis_area_Stables\" type:Feature Layer Collection owner:laurenlovato_slustl>,\n",
       " <Item title:\"Density_crime_STL\" type:Feature Layer Collection owner:laurenlovato_slustl>,\n",
       " <Item title:\"Thunder_Acquisitions\" type:Feature Layer Collection owner:laurenlovato_slustl>,\n",
       " <Item title:\"Mars_features_points\" type:Feature Layer Collection owner:laurenlovato_slustl>]"
      ]
     },
     "execution_count": 71,
     "metadata": {},
     "output_type": "execute_result"
    }
   ],
   "source": [
    "search_my_contents = gis.content.search(query=\"owner:laurenlovato_slustl\", item_type=\"Feature Layer\")\n",
    "search_my_contents"
   ]
  },
  {
   "cell_type": "code",
   "execution_count": 80,
   "metadata": {},
   "outputs": [
    {
     "data": {
      "text/plain": [
       "[<Item title:\"LL_acled_demo_pred_surface\" type:Feature Layer Collection owner:laurenlovato_slustl>,\n",
       " <Item title:\"St. Louis Streets LL\" type:Feature Layer Collection owner:laurenlovato_slustl>,\n",
       " <Item title:\"Fragile States Index 2011 LL\" type:Feature Layer Collection owner:laurenlovato_slustl>,\n",
       " <Item title:\"Fragile States Index 2018 LL\" type:Feature Layer Collection owner:laurenlovato_slustl>,\n",
       " <Item title:\"LL_acled_demo\" type:Feature Layer Collection owner:laurenlovato_slustl>,\n",
       " <Item title:\"Thunder_Departures\" type:Feature Layer Collection owner:laurenlovato_slustl>,\n",
       " <Item title:\"StLouis_area_Stables\" type:Feature Layer Collection owner:laurenlovato_slustl>,\n",
       " <Item title:\"Density_crime_STL\" type:Feature Layer Collection owner:laurenlovato_slustl>,\n",
       " <Item title:\"Thunder_Acquisitions\" type:Feature Layer Collection owner:laurenlovato_slustl>,\n",
       " <Item title:\"Mars_features_points\" type:Feature Layer Collection owner:laurenlovato_slustl>,\n",
       " <Item title:\"St. Louis Boundary LL\" type:Feature Layer Collection owner:laurenlovato_slustl>,\n",
       " <Item title:\"Hot_Spots_Crime\" type:Feature Layer Collection owner:laurenlovato_slustl>,\n",
       " <Item title:\"Fragile States Index 2006 LL\" type:Feature Layer Collection owner:laurenlovato_slustl>,\n",
       " <Item title:\"Fragile States Index 2017 LL\" type:Feature Layer Collection owner:laurenlovato_slustl>,\n",
       " <Item title:\"Fragile States Index 2007 LL\" type:Feature Layer Collection owner:laurenlovato_slustl>,\n",
       " <Item title:\"Fragile States Index 2009 LL\" type:Feature Layer Collection owner:laurenlovato_slustl>,\n",
       " <Item title:\"St. Louis Neighborhoods LL\" type:Feature Layer Collection owner:laurenlovato_slustl>,\n",
       " <Item title:\"Hot_Spots_St__Louis_Crime2\" type:Feature Layer Collection owner:laurenlovato_slustl>,\n",
       " <Item title:\"Fragile States Index 2014 LL\" type:Feature Layer Collection owner:laurenlovato_slustl>,\n",
       " <Item title:\"Fragile States Index 2016 LL\" type:Feature Layer Collection owner:laurenlovato_slustl>,\n",
       " <Item title:\"stl_crime_by_ward_ll\" type:Feature Layer Collection owner:laurenlovato_slustl>,\n",
       " <Item title:\"Hotspot_crime_STL\" type:Feature Layer Collection owner:laurenlovato_slustl>,\n",
       " <Item title:\"Fragile States Index 2010 LL\" type:Feature Layer Collection owner:laurenlovato_slustl>,\n",
       " <Item title:\"Fragile States Index 2013 LL\" type:Feature Layer Collection owner:laurenlovato_slustl>,\n",
       " <Item title:\"Fragile States Index 2008 LL\" type:Feature Layer Collection owner:laurenlovato_slustl>,\n",
       " <Item title:\"STL_metro_counties\" type:Feature Layer Collection owner:laurenlovato_slustl>,\n",
       " <Item title:\"St__Louis_Crime_LL_Density2\" type:Feature Layer Collection owner:laurenlovato_slustl>,\n",
       " <Item title:\"Fragile States Index 2015 LL\" type:Feature Layer Collection owner:laurenlovato_slustl>,\n",
       " <Item title:\"National Rainfall Data LL\" type:Feature Layer Collection owner:laurenlovato_slustl>,\n",
       " <Item title:\"UNHCR Resettlements in United States - LL\" type:Feature Layer Collection owner:laurenlovato_slustl>,\n",
       " <Item title:\"Fragile States Index 2012 LL\" type:Feature Layer Collection owner:laurenlovato_slustl>,\n",
       " <Item title:\"St. Louis Crime LL\" type:Feature Layer Collection owner:laurenlovato_slustl>]"
      ]
     },
     "execution_count": 80,
     "metadata": {},
     "output_type": "execute_result"
    }
   ],
   "source": [
    "search_my_contents = gis.content.search(query=\"owner:laurenlovato_slustl\", item_type=\"Feature Layer\", max_items=50)\n",
    "search_my_contents"
   ]
  },
  {
   "cell_type": "code",
   "execution_count": 82,
   "metadata": {},
   "outputs": [
    {
     "data": {
      "text/plain": [
       "[<Item title:\"Fragile States Index 2011 LL\" type:Feature Layer Collection owner:laurenlovato_slustl>,\n",
       " <Item title:\"Fragile States Index 2018 LL\" type:Feature Layer Collection owner:laurenlovato_slustl>,\n",
       " <Item title:\"Fragile States Index 2007 LL\" type:Feature Layer Collection owner:laurenlovato_slustl>,\n",
       " <Item title:\"Fragile States Index 2009 LL\" type:Feature Layer Collection owner:laurenlovato_slustl>,\n",
       " <Item title:\"Fragile States Index 2006 LL\" type:Feature Layer Collection owner:laurenlovato_slustl>,\n",
       " <Item title:\"Fragile States Index 2017 LL\" type:Feature Layer Collection owner:laurenlovato_slustl>,\n",
       " <Item title:\"Fragile States Index 2014 LL\" type:Feature Layer Collection owner:laurenlovato_slustl>,\n",
       " <Item title:\"Fragile States Index 2016 LL\" type:Feature Layer Collection owner:laurenlovato_slustl>,\n",
       " <Item title:\"Fragile States Index 2010 LL\" type:Feature Layer Collection owner:laurenlovato_slustl>,\n",
       " <Item title:\"Fragile States Index 2013 LL\" type:Feature Layer Collection owner:laurenlovato_slustl>,\n",
       " <Item title:\"Fragile States Index 2008 LL\" type:Feature Layer Collection owner:laurenlovato_slustl>,\n",
       " <Item title:\"Fragile States Index 2015 LL\" type:Feature Layer Collection owner:laurenlovato_slustl>,\n",
       " <Item title:\"Fragile States Index 2012 LL\" type:Feature Layer Collection owner:laurenlovato_slustl>]"
      ]
     },
     "execution_count": 82,
     "metadata": {},
     "output_type": "execute_result"
    }
   ],
   "source": [
    "search_result = gis.content.search(\"title:Fragile LL\", item_type=\"Feature Layer\", max_items=13)\n",
    "search_result"
   ]
  },
  {
   "cell_type": "code",
   "execution_count": 84,
   "metadata": {},
   "outputs": [
    {
     "data": {
      "text/html": [
       "<div class=\"item_container\" style=\"height: auto; overflow: hidden; border: 1px solid #cfcfcf; border-radius: 2px; background: #f6fafa; line-height: 1.21429em; padding: 10px;\">\n",
       "                    <div class=\"item_left\" style=\"width: 210px; float: left;\">\n",
       "                       <a href='http://SLUSTL.maps.arcgis.com/home/item.html?id=ee079d95d525476b835794563833f00c' target='_blank'>\n",
       "                        <img src='http://static.arcgis.com/images/desktopapp.png' class=\"itemThumbnail\">\n",
       "                       </a>\n",
       "                    </div>\n",
       "\n",
       "                    <div class=\"item_right\"     style=\"float: none; width: auto; overflow: hidden;\">\n",
       "                        <a href='http://SLUSTL.maps.arcgis.com/home/item.html?id=ee079d95d525476b835794563833f00c' target='_blank'><b>Fragile States Index 2011 LL</b>\n",
       "                        </a>\n",
       "                        <br/><img src='http://SLUSTL.maps.arcgis.com/home/js/jsapi/esri/css/images/item_type_icons/featureshosted16.png' style=\"vertical-align:middle;\">Feature Layer Collection by laurenlovato_slustl\n",
       "                        <br/>Last Modified: October 28, 2018\n",
       "                        <br/>0 comments, 0 views\n",
       "                    </div>\n",
       "                </div>\n",
       "                "
      ],
      "text/plain": [
       "<Item title:\"Fragile States Index 2011 LL\" type:Feature Layer Collection owner:laurenlovato_slustl>"
      ]
     },
     "execution_count": 84,
     "metadata": {},
     "output_type": "execute_result"
    }
   ],
   "source": [
    "search_result[0]"
   ]
  },
  {
   "cell_type": "code",
   "execution_count": 87,
   "metadata": {},
   "outputs": [
    {
     "data": {
      "application/vnd.jupyter.widget-view+json": {
       "model_id": "5f768e12894e42388bd7b23d7d546059",
       "version_major": 2,
       "version_minor": 0
      },
      "text/plain": [
       "MapView(basemaps=['dark-gray', 'dark-gray-vector', 'gray', 'gray-vector', 'hybrid', 'national-geographic', 'oc…"
      ]
     },
     "metadata": {},
     "output_type": "display_data"
    }
   ],
   "source": [
    "map_layer = gis.map()\n",
    "map_layer"
   ]
  },
  {
   "cell_type": "code",
   "execution_count": 99,
   "metadata": {},
   "outputs": [],
   "source": [
    "classed_size_renderer = {\"color\":\"Blue\", \"renderer\": \"ClassedSizeRenderer\", \"field_name\":\"Total\"}"
   ]
  },
  {
   "cell_type": "code",
   "execution_count": 100,
   "metadata": {},
   "outputs": [],
   "source": [
    "map_layer.add_layer(search_result[0], classed_size_renderer)"
   ]
  },
  {
   "cell_type": "code",
   "execution_count": null,
   "metadata": {},
   "outputs": [],
   "source": []
  }
 ],
 "metadata": {
  "kernelspec": {
   "display_name": "Python 3",
   "language": "python",
   "name": "python3"
  },
  "language_info": {
   "codemirror_mode": {
    "name": "ipython",
    "version": 3
   },
   "file_extension": ".py",
   "mimetype": "text/x-python",
   "name": "python",
   "nbconvert_exporter": "python",
   "pygments_lexer": "ipython3",
   "version": "3.6.5"
  }
 },
 "nbformat": 4,
 "nbformat_minor": 2
}
