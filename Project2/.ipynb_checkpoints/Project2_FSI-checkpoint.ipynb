{
 "cells": [
  {
   "cell_type": "markdown",
   "metadata": {},
   "source": [
    "# Project 2 - Option 1: Fragile States Index"
   ]
  },
  {
   "cell_type": "markdown",
   "metadata": {},
   "source": [
    "### The Fragile States Index is an open source dataset that ranks the fragility of the countries of the world. The FSI data is available as CSV files that ranks the courties in terms of fragility but also provides metrics on other aspects of each country's health, such as the econmony, human rights, and poliltical division."
   ]
  },
  {
   "cell_type": "markdown",
   "metadata": {},
   "source": [
    "### Publish each FSI CSV file as a uniquly named feature service"
   ]
  },
  {
   "cell_type": "markdown",
   "metadata": {},
   "source": [
    "#### Turn excel files to CSV files using pandas"
   ]
  },
  {
   "cell_type": "code",
   "execution_count": 3,
   "metadata": {},
   "outputs": [
    {
     "name": "stdout",
     "output_type": "stream",
     "text": [
      "Enter password: ········\n"
     ]
    }
   ],
   "source": [
    "from arcgis.gis import GIS\n",
    "import pandas as pd\n",
    "import os\n",
    "gis = GIS (\"http://slustl.maps.arcgis.com/home\", \"laurenlovato_slustl\")"
   ]
  },
  {
   "cell_type": "code",
   "execution_count": 4,
   "metadata": {},
   "outputs": [],
   "source": [
    "FSI_2006 = 'fsi-2006.xlsx'\n",
    "FSI_2007 = 'fsi-2007.xlsx'\n",
    "FSI_2008 = 'fsi-2008.xlsx'\n",
    "FSI_2009 = 'fsi-2009.xlsx'\n",
    "FSI_2010 = 'fsi-2010.xlsx'\n",
    "FSI_2011 = 'fsi-2011.xlsx'\n",
    "FSI_2012 = 'fsi-2012.xlsx'\n",
    "FSI_2013 = 'fsi-2013.xlsx'\n",
    "FSI_2014 = 'fsi-2014.xlsx'\n",
    "FSI_2015 = 'fsi-2015.xlsx'\n",
    "FSI_2016 = 'fsi-2016.xlsx'\n",
    "FSI_2017 = 'fsi-2017.xlsx'\n",
    "FSI_2018 = 'fsi-2018.xlsx'"
   ]
  },
  {
   "cell_type": "code",
   "execution_count": 5,
   "metadata": {},
   "outputs": [],
   "source": [
    "FSI_xcllist = [FSI_2006, FSI_2007, FSI_2008, FSI_2009, FSI_2010, FSI_2011, \n",
    "               FSI_2012, FSI_2013, FSI_2014, FSI_2015, FSI_2016, FSI_2017, FSI_2018]"
   ]
  },
  {
   "cell_type": "code",
   "execution_count": 6,
   "metadata": {},
   "outputs": [],
   "source": [
    "for xcl in FSI_xcllist:\n",
    "    data_xls = pd.read_excel(xcl, index_col=None)\n",
    "    data_xls.to_csv(xcl[0:8]+\".csv\", encoding='utf-8')\n",
    "    os.remove(xcl)"
   ]
  },
  {
   "cell_type": "markdown",
   "metadata": {},
   "source": [
    "#### Use import glob to make list of all CSV files in folder"
   ]
  },
  {
   "cell_type": "code",
   "execution_count": 7,
   "metadata": {},
   "outputs": [
    {
     "name": "stdout",
     "output_type": "stream",
     "text": [
      "['fsi-2006.csv', 'fsi-2007.csv', 'fsi-2008.csv', 'fsi-2009.csv', 'fsi-2010.csv', 'fsi-2011.csv', 'fsi-2012.csv', 'fsi-2013.csv', 'fsi-2014.csv', 'fsi-2015.csv', 'fsi-2016.csv', 'fsi-2017.csv', 'fsi-2018.csv']\n"
     ]
    }
   ],
   "source": [
    "import glob\n",
    "csv_list = (glob.glob('fsi*.csv'))\n",
    "print (csv_list)"
   ]
  },
  {
   "cell_type": "markdown",
   "metadata": {},
   "source": [
    "#### Use a for loop to create new feature layer item for each CSV file, and publish each as a uniquly named feature service."
   ]
  },
  {
   "cell_type": "code",
   "execution_count": 9,
   "metadata": {},
   "outputs": [
    {
     "name": "stdout",
     "output_type": "stream",
     "text": [
      "<Item title:\"Fragile States Index 2006 LL\" type:Feature Layer Collection owner:laurenlovato_slustl>\n",
      "<Item title:\"Fragile States Index 2007 LL\" type:Feature Layer Collection owner:laurenlovato_slustl>\n",
      "<Item title:\"Fragile States Index 2008 LL\" type:Feature Layer Collection owner:laurenlovato_slustl>\n",
      "<Item title:\"Fragile States Index 2009 LL\" type:Feature Layer Collection owner:laurenlovato_slustl>\n",
      "<Item title:\"Fragile States Index 2010 LL\" type:Feature Layer Collection owner:laurenlovato_slustl>\n",
      "<Item title:\"Fragile States Index 2011 LL\" type:Feature Layer Collection owner:laurenlovato_slustl>\n",
      "<Item title:\"Fragile States Index 2012 LL\" type:Feature Layer Collection owner:laurenlovato_slustl>\n",
      "<Item title:\"Fragile States Index 2013 LL\" type:Feature Layer Collection owner:laurenlovato_slustl>\n",
      "<Item title:\"Fragile States Index 2014 LL\" type:Feature Layer Collection owner:laurenlovato_slustl>\n",
      "<Item title:\"Fragile States Index 2015 LL\" type:Feature Layer Collection owner:laurenlovato_slustl>\n",
      "<Item title:\"Fragile States Index 2016 LL\" type:Feature Layer Collection owner:laurenlovato_slustl>\n",
      "<Item title:\"Fragile States Index 2017 LL\" type:Feature Layer Collection owner:laurenlovato_slustl>\n",
      "<Item title:\"Fragile States Index 2018 LL\" type:Feature Layer Collection owner:laurenlovato_slustl>\n"
     ]
    }
   ],
   "source": [
    "for c in csv_list:\n",
    "    csv_path = c\n",
    "    csv_properties={'title': 'Fragile States Index ' + c[4:8] + \" LL\",\n",
    "                'description':\"The Fragile States Index is an open source dataset that ranks the fragility of the countries of the world. This map of FSI data shows the ranking of courties in terms of fragility but also provides metrics on other aspects of each country's health, such as the econmony, human rights, and poliltical division.\",\n",
    "                'tags':'FSI'}\n",
    "    fsi_csv_item = gis.content.add(item_properties=csv_properties, data=csv_path)\n",
    "    fsi_feature_layer_item = fsi_csv_item.publish()\n",
    "    print (fsi_feature_layer_item)"
   ]
  },
  {
   "cell_type": "markdown",
   "metadata": {},
   "source": [
    "### Create a webmap containing each feature service symbolized."
   ]
  },
  {
   "cell_type": "markdown",
   "metadata": {},
   "source": [
    "#### Search to get just my feature layers"
   ]
  },
  {
   "cell_type": "code",
   "execution_count": 12,
   "metadata": {},
   "outputs": [
    {
     "data": {
      "text/plain": [
       "[<Item title:\"Fragile States Index 2011 LL\" type:Feature Layer Collection owner:laurenlovato_slustl>,\n",
       " <Item title:\"Fragile States Index 2018 LL\" type:Feature Layer Collection owner:laurenlovato_slustl>,\n",
       " <Item title:\"Fragile States Index 2007 LL\" type:Feature Layer Collection owner:laurenlovato_slustl>,\n",
       " <Item title:\"Fragile States Index 2009 LL\" type:Feature Layer Collection owner:laurenlovato_slustl>,\n",
       " <Item title:\"Fragile States Index 2006 LL\" type:Feature Layer Collection owner:laurenlovato_slustl>,\n",
       " <Item title:\"Fragile States Index 2017 LL\" type:Feature Layer Collection owner:laurenlovato_slustl>,\n",
       " <Item title:\"Fragile States Index 2014 LL\" type:Feature Layer Collection owner:laurenlovato_slustl>,\n",
       " <Item title:\"Fragile States Index 2016 LL\" type:Feature Layer Collection owner:laurenlovato_slustl>,\n",
       " <Item title:\"Fragile States Index 2010 LL\" type:Feature Layer Collection owner:laurenlovato_slustl>,\n",
       " <Item title:\"Fragile States Index 2013 LL\" type:Feature Layer Collection owner:laurenlovato_slustl>,\n",
       " <Item title:\"Fragile States Index 2008 LL\" type:Feature Layer Collection owner:laurenlovato_slustl>,\n",
       " <Item title:\"Fragile States Index 2015 LL\" type:Feature Layer Collection owner:laurenlovato_slustl>,\n",
       " <Item title:\"Fragile States Index 2012 LL\" type:Feature Layer Collection owner:laurenlovato_slustl>]"
      ]
     },
     "execution_count": 12,
     "metadata": {},
     "output_type": "execute_result"
    }
   ],
   "source": [
    "search_result = gis.content.search(\"title:Fragile LL\", item_type=\"Feature Layer\", max_items=13)\n",
    "search_result"
   ]
  },
  {
   "cell_type": "markdown",
   "metadata": {},
   "source": [
    "#### Use classed size renderer so that countries with highest FSI scores (and ranked highest) are larger "
   ]
  },
  {
   "cell_type": "code",
   "execution_count": 46,
   "metadata": {},
   "outputs": [],
   "source": [
    "classed_size_renderer = { \"renderer\": \"ClassedSizeRenderer\", \"field_name\":\"Total\"}"
   ]
  },
  {
   "cell_type": "markdown",
   "metadata": {},
   "source": [
    "#### Create map layer (of world)"
   ]
  },
  {
   "cell_type": "code",
   "execution_count": 48,
   "metadata": {},
   "outputs": [
    {
     "data": {
      "application/vnd.jupyter.widget-view+json": {
       "model_id": "87bf90d805354b35ad50f4765851f9af",
       "version_major": 2,
       "version_minor": 0
      },
      "text/plain": [
       "MapView(basemaps=['dark-gray', 'dark-gray-vector', 'gray', 'gray-vector', 'hybrid', 'national-geographic', 'oc…"
      ]
     },
     "metadata": {},
     "output_type": "display_data"
    }
   ],
   "source": [
    "map_layer = gis.map()\n",
    "map_layer"
   ]
  },
  {
   "cell_type": "markdown",
   "metadata": {},
   "source": [
    "#### Use for loop to add each layer with classed_sized_renderer"
   ]
  },
  {
   "cell_type": "code",
   "execution_count": 49,
   "metadata": {},
   "outputs": [],
   "source": [
    "for result in search_result:\n",
    "    map_layer.add_layer(result, classed_size_renderer)"
   ]
  },
  {
   "cell_type": "markdown",
   "metadata": {},
   "source": [
    "#### Create WebMap of FSI data"
   ]
  },
  {
   "cell_type": "code",
   "execution_count": 50,
   "metadata": {},
   "outputs": [
    {
     "data": {
      "text/html": [
       "<div class=\"item_container\" style=\"height: auto; overflow: hidden; border: 1px solid #cfcfcf; border-radius: 2px; background: #f6fafa; line-height: 1.21429em; padding: 10px;\">\n",
       "                    <div class=\"item_left\" style=\"width: 210px; float: left;\">\n",
       "                       <a href='http://SLUSTL.maps.arcgis.com/home/item.html?id=8a850244b78e4d9fa3b9608e9de94dbd' target='_blank'>\n",
       "                        <img src='data:image/png;base64,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' width='200' height='133' class=\"itemThumbnail\">\n",
       "                       </a>\n",
       "                    </div>\n",
       "\n",
       "                    <div class=\"item_right\"     style=\"float: none; width: auto; overflow: hidden;\">\n",
       "                        <a href='http://SLUSTL.maps.arcgis.com/home/item.html?id=8a850244b78e4d9fa3b9608e9de94dbd' target='_blank'><b>Map of Fragile States Index Data, 2006-2018 LL</b>\n",
       "                        </a>\n",
       "                        <br/>Map of Fragile States Index data, that shows higher ranking and higher scores with larger points.<img src='http://SLUSTL.maps.arcgis.com/home/js/jsapi/esri/css/images/item_type_icons/maps16.png' style=\"vertical-align:middle;\">Web Map by laurenlovato_slustl\n",
       "                        <br/>Last Modified: October 30, 2018\n",
       "                        <br/>0 comments, 0 views\n",
       "                    </div>\n",
       "                </div>\n",
       "                "
      ],
      "text/plain": [
       "<Item title:\"Map of Fragile States Index Data, 2006-2018 LL\" type:Web Map owner:laurenlovato_slustl>"
      ]
     },
     "execution_count": 50,
     "metadata": {},
     "output_type": "execute_result"
    }
   ],
   "source": [
    "thumbnail_jpg = \"FSI.jpg\"\n",
    "webmap_item_properties = {'title':'Map of Fragile States Index Data, 2006-2018 LL',\n",
    "                          'snippet':'Map of Fragile States Index data, that shows higher ranking and higher scores with larger points.',\n",
    "                          'tags':['FSI']}\n",
    "map_layer.save(webmap_item_properties, thumbnail=thumbnail_jpg)"
   ]
  },
  {
   "cell_type": "markdown",
   "metadata": {},
   "source": [
    "#### Share with SLU"
   ]
  },
  {
   "cell_type": "code",
   "execution_count": 51,
   "metadata": {},
   "outputs": [
    {
     "data": {
      "text/plain": [
       "[<Item title:\"Map of Fragile States Index Data, 2006-2018 LL\" type:Web Map owner:laurenlovato_slustl>]"
      ]
     },
     "execution_count": 51,
     "metadata": {},
     "output_type": "execute_result"
    }
   ],
   "source": [
    "search_webmap = gis.content.search(\"title:Fragile LL\", item_type=\"Web Map\")\n",
    "search_webmap"
   ]
  },
  {
   "cell_type": "code",
   "execution_count": 52,
   "metadata": {},
   "outputs": [],
   "source": [
    "webmap= search_webmap[0]"
   ]
  },
  {
   "cell_type": "code",
   "execution_count": 53,
   "metadata": {},
   "outputs": [
    {
     "data": {
      "text/plain": [
       "{'notSharedWith': [], 'itemId': '8a850244b78e4d9fa3b9608e9de94dbd'}"
      ]
     },
     "execution_count": 53,
     "metadata": {},
     "output_type": "execute_result"
    }
   ],
   "source": [
    "webmap.share(org=True)"
   ]
  },
  {
   "cell_type": "markdown",
   "metadata": {},
   "source": [
    "### Web map is created. See Story Map created from Web map: https://slustl.maps.arcgis.com/apps/MapJournal/index.html?appid=1e363e0b5ce541de868938c59c0febad"
   ]
  },
  {
   "cell_type": "code",
   "execution_count": null,
   "metadata": {},
   "outputs": [],
   "source": []
  }
 ],
 "metadata": {
  "kernelspec": {
   "display_name": "Python 3",
   "language": "python",
   "name": "python3"
  },
  "language_info": {
   "codemirror_mode": {
    "name": "ipython",
    "version": 3
   },
   "file_extension": ".py",
   "mimetype": "text/x-python",
   "name": "python",
   "nbconvert_exporter": "python",
   "pygments_lexer": "ipython3",
   "version": "3.6.5"
  }
 },
 "nbformat": 4,
 "nbformat_minor": 2
}
