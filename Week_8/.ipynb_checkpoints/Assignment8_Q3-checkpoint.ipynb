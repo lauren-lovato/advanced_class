{
 "cells": [
  {
   "cell_type": "markdown",
   "metadata": {},
   "source": [
    "## Week 8, Assignment 8, Question 3"
   ]
  },
  {
   "cell_type": "markdown",
   "metadata": {},
   "source": [
    "#### After running that analysis in ArcGIS Online, run them through Python. Using Python, add the objects to a map (separate maps for each) and save the map as a Web Map. Take a look at the help documentation for each tool. Do the results from running through ArcGIS Online match up with the results from Python?"
   ]
  },
  {
   "cell_type": "code",
   "execution_count": 1,
   "metadata": {},
   "outputs": [
    {
     "name": "stdout",
     "output_type": "stream",
     "text": [
      "Enter password: ········\n"
     ]
    }
   ],
   "source": [
    "from arcgis.gis import GIS\n",
    "gis = GIS(\"http://slustl.maps.arcgis.com/home\", \"laurenlovato_slustl\")"
   ]
  },
  {
   "cell_type": "code",
   "execution_count": 6,
   "metadata": {},
   "outputs": [
    {
     "data": {
      "text/plain": [
       "[<Item title:\"Hot_Spots_Crime\" type:Feature Layer Collection owner:laurenlovato_slustl>,\n",
       " <Item title:\"St__Louis_Crime_LL_Density\" type:Feature Layer Collection owner:laurenlovato_slustl>,\n",
       " <Item title:\"St. Louis Crime LL\" type:Feature Layer Collection owner:laurenlovato_slustl>]"
      ]
     },
     "execution_count": 6,
     "metadata": {},
     "output_type": "execute_result"
    }
   ],
   "source": [
    "crime_search = gis.content.search(\"St. Louis Crime LL\", \"feature layer\")\n",
    "crime_search"
   ]
  },
  {
   "cell_type": "code",
   "execution_count": 7,
   "metadata": {},
   "outputs": [
    {
     "data": {
      "text/html": [
       "<div class=\"item_container\" style=\"height: auto; overflow: hidden; border: 1px solid #cfcfcf; border-radius: 2px; background: #f6fafa; line-height: 1.21429em; padding: 10px;\">\n",
       "                    <div class=\"item_left\" style=\"width: 210px; float: left;\">\n",
       "                       <a href='http://SLUSTL.maps.arcgis.com/home/item.html?id=ab401cc3bed64aa8863bcf2a1be909f8' target='_blank'>\n",
       "                        <img src='data:image/png;base64,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' width='200' height='133' class=\"itemThumbnail\">\n",
       "                       </a>\n",
       "                    </div>\n",
       "\n",
       "                    <div class=\"item_right\"     style=\"float: none; width: auto; overflow: hidden;\">\n",
       "                        <a href='http://SLUSTL.maps.arcgis.com/home/item.html?id=ab401cc3bed64aa8863bcf2a1be909f8' target='_blank'><b>St. Louis Crime LL</b>\n",
       "                        </a>\n",
       "                        <br/><img src='http://SLUSTL.maps.arcgis.com/home/js/jsapi/esri/css/images/item_type_icons/featureshosted16.png' style=\"vertical-align:middle;\">Feature Layer Collection by laurenlovato_slustl\n",
       "                        <br/>Last Modified: October 21, 2018\n",
       "                        <br/>0 comments, 1 views\n",
       "                    </div>\n",
       "                </div>\n",
       "                "
      ],
      "text/plain": [
       "<Item title:\"St. Louis Crime LL\" type:Feature Layer Collection owner:laurenlovato_slustl>"
      ]
     },
     "execution_count": 7,
     "metadata": {},
     "output_type": "execute_result"
    }
   ],
   "source": [
    "crime_item = crime_search[2]\n",
    "crime_item"
   ]
  },
  {
   "cell_type": "code",
   "execution_count": 17,
   "metadata": {},
   "outputs": [
    {
     "data": {
      "text/html": [
       "<div class=\"item_container\" style=\"height: auto; overflow: hidden; border: 1px solid #cfcfcf; border-radius: 2px; background: #f6fafa; line-height: 1.21429em; padding: 10px;\">\n",
       "                    <div class=\"item_left\" style=\"width: 210px; float: left;\">\n",
       "                       <a href='http://SLUSTL.maps.arcgis.com/home/item.html?id=3ab66da018ab4ec7bb24570acc1fa03f' target='_blank'>\n",
       "                        <img src='http://static.arcgis.com/images/desktopapp.png' class=\"itemThumbnail\">\n",
       "                       </a>\n",
       "                    </div>\n",
       "\n",
       "                    <div class=\"item_right\"     style=\"float: none; width: auto; overflow: hidden;\">\n",
       "                        <a href='http://SLUSTL.maps.arcgis.com/home/item.html?id=3ab66da018ab4ec7bb24570acc1fa03f' target='_blank'><b>Hotspot_crime_STL</b>\n",
       "                        </a>\n",
       "                        <br/><img src='http://SLUSTL.maps.arcgis.com/home/js/jsapi/esri/css/images/item_type_icons/featureshosted16.png' style=\"vertical-align:middle;\">Feature Layer Collection by laurenlovato_slustl\n",
       "                        <br/>Last Modified: October 24, 2018\n",
       "                        <br/>0 comments, 0 views\n",
       "                    </div>\n",
       "                </div>\n",
       "                "
      ],
      "text/plain": [
       "<Item title:\"Hotspot_crime_STL\" type:Feature Layer Collection owner:laurenlovato_slustl>"
      ]
     },
     "execution_count": 17,
     "metadata": {},
     "output_type": "execute_result"
    }
   ],
   "source": [
    "from arcgis.features import analysis\n",
    "analysis.find_hot_spots(crime_item, analysis_field=None, divided_by_field=None, bounding_polygon_layer=None, aggregation_polygon_layer=None, output_name=\"Hotspot_crime_STL\", context=None, gis=None)"
   ]
  },
  {
   "cell_type": "code",
   "execution_count": 19,
   "metadata": {},
   "outputs": [
    {
     "data": {
      "text/html": [
       "<div class=\"item_container\" style=\"height: auto; overflow: hidden; border: 1px solid #cfcfcf; border-radius: 2px; background: #f6fafa; line-height: 1.21429em; padding: 10px;\">\n",
       "                    <div class=\"item_left\" style=\"width: 210px; float: left;\">\n",
       "                       <a href='http://SLUSTL.maps.arcgis.com/home/item.html?id=d8a988aee9d7445a8c40c6a4a645ce2c' target='_blank'>\n",
       "                        <img src='http://static.arcgis.com/images/desktopapp.png' class=\"itemThumbnail\">\n",
       "                       </a>\n",
       "                    </div>\n",
       "\n",
       "                    <div class=\"item_right\"     style=\"float: none; width: auto; overflow: hidden;\">\n",
       "                        <a href='http://SLUSTL.maps.arcgis.com/home/item.html?id=d8a988aee9d7445a8c40c6a4a645ce2c' target='_blank'><b>Density_crime_STL</b>\n",
       "                        </a>\n",
       "                        <br/><img src='http://SLUSTL.maps.arcgis.com/home/js/jsapi/esri/css/images/item_type_icons/featureshosted16.png' style=\"vertical-align:middle;\">Feature Layer Collection by laurenlovato_slustl\n",
       "                        <br/>Last Modified: October 24, 2018\n",
       "                        <br/>0 comments, 1 views\n",
       "                    </div>\n",
       "                </div>\n",
       "                "
      ],
      "text/plain": [
       "<Item title:\"Density_crime_STL\" type:Feature Layer Collection owner:laurenlovato_slustl>"
      ]
     },
     "execution_count": 19,
     "metadata": {},
     "output_type": "execute_result"
    }
   ],
   "source": [
    "analysis.calculate_density(crime_item, field=None, cell_size=None, cell_size_units='Meters', radius=None, radius_units=None, bounding_polygon_layer=None, area_units=None, classification_type='EqualInterval', num_classes=10, output_name=\"Density_crime_STL\", context=None, gis=None)"
   ]
  },
  {
   "cell_type": "code",
   "execution_count": 23,
   "metadata": {
    "scrolled": true
   },
   "outputs": [
    {
     "data": {
      "application/vnd.jupyter.widget-view+json": {
       "model_id": "d3f333ddcbf8461eb447299d4e0063d6",
       "version_major": 2,
       "version_minor": 0
      },
      "text/plain": [
       "MapView(basemaps=['dark-gray', 'dark-gray-vector', 'gray', 'gray-vector', 'hybrid', 'national-geographic', 'oc…"
      ]
     },
     "metadata": {},
     "output_type": "display_data"
    }
   ],
   "source": [
    "map1 = gis.map('St. Louis, MO')\n",
    "map1"
   ]
  },
  {
   "cell_type": "code",
   "execution_count": 25,
   "metadata": {},
   "outputs": [
    {
     "data": {
      "text/plain": [
       "[<Item title:\"Hotspot_crime_STL\" type:Feature Layer Collection owner:laurenlovato_slustl>,\n",
       " <Item title:\"stl_crime_hotspots\" type:Feature Layer Collection owner:gregbrunner_slugis>]"
      ]
     },
     "execution_count": 25,
     "metadata": {},
     "output_type": "execute_result"
    }
   ],
   "source": [
    "hotspot_search = gis.content.search(\"Hotspot_crime_STL \", \"Feature Layer\")\n",
    "hotspot_search"
   ]
  },
  {
   "cell_type": "code",
   "execution_count": 26,
   "metadata": {},
   "outputs": [],
   "source": [
    "hotspot_item = hotspot_search[0]\n",
    "map1.add_layer(hotspot_item)"
   ]
  },
  {
   "cell_type": "code",
   "execution_count": 27,
   "metadata": {},
   "outputs": [
    {
     "data": {
      "application/vnd.jupyter.widget-view+json": {
       "model_id": "d6c4162824b14b55aa7540cfd638518d",
       "version_major": 2,
       "version_minor": 0
      },
      "text/plain": [
       "MapView(basemaps=['dark-gray', 'dark-gray-vector', 'gray', 'gray-vector', 'hybrid', 'national-geographic', 'oc…"
      ]
     },
     "metadata": {},
     "output_type": "display_data"
    }
   ],
   "source": [
    "map2 = gis.map('St. Louis, MO')\n",
    "map2"
   ]
  },
  {
   "cell_type": "code",
   "execution_count": 28,
   "metadata": {},
   "outputs": [
    {
     "data": {
      "text/plain": [
       "[<Item title:\"STL_Crime_Density\" type:Feature Layer Collection owner:gregbrunner_slugis>,\n",
       " <Item title:\"StL_Crime_by_Laura_Density\" type:Feature Layer Collection owner:lbernett_SLUSTL>,\n",
       " <Item title:\"Density_crime_STL\" type:Feature Layer Collection owner:laurenlovato_slustl>]"
      ]
     },
     "execution_count": 28,
     "metadata": {},
     "output_type": "execute_result"
    }
   ],
   "source": [
    "density_search = gis.content.search(\"Density_crime_STL\", \"Feature Layer\")\n",
    "density_search"
   ]
  },
  {
   "cell_type": "code",
   "execution_count": 29,
   "metadata": {},
   "outputs": [],
   "source": [
    "density_item = density_search[2]\n",
    "map2.add_layer(density_item)"
   ]
  },
  {
   "cell_type": "code",
   "execution_count": 30,
   "metadata": {},
   "outputs": [
    {
     "data": {
      "text/html": [
       "<div class=\"item_container\" style=\"height: auto; overflow: hidden; border: 1px solid #cfcfcf; border-radius: 2px; background: #f6fafa; line-height: 1.21429em; padding: 10px;\">\n",
       "                    <div class=\"item_left\" style=\"width: 210px; float: left;\">\n",
       "                       <a href='http://SLUSTL.maps.arcgis.com/home/item.html?id=5e6a1e474b8a42809a8f2e38b1cb2678' target='_blank'>\n",
       "                        <img src='http://static.arcgis.com/images/desktopapp.png' class=\"itemThumbnail\">\n",
       "                       </a>\n",
       "                    </div>\n",
       "\n",
       "                    <div class=\"item_right\"     style=\"float: none; width: auto; overflow: hidden;\">\n",
       "                        <a href='http://SLUSTL.maps.arcgis.com/home/item.html?id=5e6a1e474b8a42809a8f2e38b1cb2678' target='_blank'><b>St. Louis Crime Hotspot Map</b>\n",
       "                        </a>\n",
       "                        <br/>St. Louis crime data with hotspots, using Python<img src='http://SLUSTL.maps.arcgis.com/home/js/jsapi/esri/css/images/item_type_icons/maps16.png' style=\"vertical-align:middle;\">Web Map by laurenlovato_slustl\n",
       "                        <br/>Last Modified: October 24, 2018\n",
       "                        <br/>0 comments, 0 views\n",
       "                    </div>\n",
       "                </div>\n",
       "                "
      ],
      "text/plain": [
       "<Item title:\"St. Louis Crime Hotspot Map\" type:Web Map owner:laurenlovato_slustl>"
      ]
     },
     "execution_count": 30,
     "metadata": {},
     "output_type": "execute_result"
    }
   ],
   "source": [
    "webmap_properties1 = {'title':'St. Louis Crime Hotspot Map',\n",
    "                    'snippet': 'St. Louis crime data with hotspots, using Python',\n",
    "                    'tags':['crime', 'St. Louis']}\n",
    "\n",
    "webmap_item1 = map1.save(webmap_properties1)\n",
    "webmap_item1"
   ]
  },
  {
   "cell_type": "code",
   "execution_count": 31,
   "metadata": {},
   "outputs": [
    {
     "data": {
      "text/html": [
       "<div class=\"item_container\" style=\"height: auto; overflow: hidden; border: 1px solid #cfcfcf; border-radius: 2px; background: #f6fafa; line-height: 1.21429em; padding: 10px;\">\n",
       "                    <div class=\"item_left\" style=\"width: 210px; float: left;\">\n",
       "                       <a href='http://SLUSTL.maps.arcgis.com/home/item.html?id=7477f9fe12b347db9c5de0ff9f070b77' target='_blank'>\n",
       "                        <img src='http://static.arcgis.com/images/desktopapp.png' class=\"itemThumbnail\">\n",
       "                       </a>\n",
       "                    </div>\n",
       "\n",
       "                    <div class=\"item_right\"     style=\"float: none; width: auto; overflow: hidden;\">\n",
       "                        <a href='http://SLUSTL.maps.arcgis.com/home/item.html?id=7477f9fe12b347db9c5de0ff9f070b77' target='_blank'><b>St. Louis Crime Density Map</b>\n",
       "                        </a>\n",
       "                        <br/>St. Louis crime data with density analysis, using Python<img src='http://SLUSTL.maps.arcgis.com/home/js/jsapi/esri/css/images/item_type_icons/maps16.png' style=\"vertical-align:middle;\">Web Map by laurenlovato_slustl\n",
       "                        <br/>Last Modified: October 24, 2018\n",
       "                        <br/>0 comments, 0 views\n",
       "                    </div>\n",
       "                </div>\n",
       "                "
      ],
      "text/plain": [
       "<Item title:\"St. Louis Crime Density Map\" type:Web Map owner:laurenlovato_slustl>"
      ]
     },
     "execution_count": 31,
     "metadata": {},
     "output_type": "execute_result"
    }
   ],
   "source": [
    "webmap_properties2 = {'title':'St. Louis Crime Density Map',\n",
    "                    'snippet': 'St. Louis crime data with density analysis, using Python',\n",
    "                    'tags':['crime', 'St. Louis']}\n",
    "\n",
    "webmap_item2 = map2.save(webmap_properties2)\n",
    "webmap_item2"
   ]
  },
  {
   "cell_type": "markdown",
   "metadata": {},
   "source": [
    "#### The results from ArcGIS online match up with the results from Python."
   ]
  },
  {
   "cell_type": "code",
   "execution_count": null,
   "metadata": {},
   "outputs": [],
   "source": []
  }
 ],
 "metadata": {
  "kernelspec": {
   "display_name": "Python 3",
   "language": "python",
   "name": "python3"
  },
  "language_info": {
   "codemirror_mode": {
    "name": "ipython",
    "version": 3
   },
   "file_extension": ".py",
   "mimetype": "text/x-python",
   "name": "python",
   "nbconvert_exporter": "python",
   "pygments_lexer": "ipython3",
   "version": "3.6.5"
  }
 },
 "nbformat": 4,
 "nbformat_minor": 2
}
