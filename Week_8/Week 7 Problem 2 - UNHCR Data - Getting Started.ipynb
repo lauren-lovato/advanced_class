{
 "cells": [
  {
   "cell_type": "markdown",
   "metadata": {},
   "source": [
    "# Problem 2"
   ]
  },
  {
   "cell_type": "markdown",
   "metadata": {},
   "source": [
    "The [UNHCR Data API](http://popdata.unhcr.org/wiki/index52ce.html?title=API_Documentation) provides robust statistics on immigration accross the work. Using the data API, create 5 new items in ArcIGS Online (or 1 webmap with 5 layers) of the location and number of assylum seekers from each location seeking assylum in England (GBR), France (FRA), Australia (AUS), Germany (DEU), and the USA (USA). Please see the UNHCR Sample Notebook to help get you started. The maps should look something like the following:"
   ]
  },
  {
   "cell_type": "code",
   "execution_count": 1,
   "metadata": {},
   "outputs": [],
   "source": [
    "import pandas as pd\n",
    "import requests"
   ]
  },
  {
   "cell_type": "code",
   "execution_count": 5,
   "metadata": {},
   "outputs": [
    {
     "name": "stdout",
     "output_type": "stream",
     "text": [
      "['[{\"country_of_asylum\": \"SRB\", \"country_of_asylum_en\": \"Serbia and Kosovo: S/RES/1244 (1999)\", \"country_of_origin\": \"SYR\", \"country_of_origin_en\": \"Syrian Arab Rep.\", \"year\": 2015, \"month\": 8, \"month_en\": \"August\", \"value\": 3}]']\n"
     ]
    }
   ],
   "source": [
    "import json "
   ]
  },
  {
   "cell_type": "code",
   "execution_count": 18,
   "metadata": {},
   "outputs": [],
   "source": [
    "import arcgis\n",
    "from arcgis.gis import GIS\n",
    "from IPython.display import display\n",
    "\n",
    "gis = GIS(\"http://slustl.maps.arcgis.com/home\", \"gregbrunner_slugis\", \"100%BlueGatorade\")"
   ]
  },
  {
   "cell_type": "code",
   "execution_count": 19,
   "metadata": {},
   "outputs": [
    {
     "data": {
      "application/vnd.jupyter.widget-view+json": {
       "model_id": "315f565eff8544678c33743157d28858",
       "version_major": 2,
       "version_minor": 0
      },
      "text/plain": [
       "MapView(basemaps=['dark-gray', 'dark-gray-vector', 'gray', 'gray-vector', 'hybrid', 'national-geographic', 'oc…"
      ]
     },
     "metadata": {},
     "output_type": "display_data"
    }
   ],
   "source": [
    "#map_layer = gis.map('Europe')\n",
    "#map_layer"
   ]
  },
  {
   "cell_type": "code",
   "execution_count": 8,
   "metadata": {},
   "outputs": [],
   "source": [
    "classed_size_renderer = { \"renderer\": \"ClassedSizeRenderer\", \"field_name\":\"value\"}"
   ]
  },
  {
   "cell_type": "code",
   "execution_count": 10,
   "metadata": {},
   "outputs": [
    {
     "name": "stdout",
     "output_type": "stream",
     "text": [
      "looking at GBR\n",
      "Importing\n",
      "Publishing\n",
      "looking at AUS\n",
      "Importing\n",
      "Publishing\n",
      "looking at USA\n",
      "Importing\n",
      "Publishing\n",
      "looking at DEU\n",
      "Importing\n",
      "Publishing\n",
      "looking at FRA\n",
      "Importing\n",
      "Publishing\n"
     ]
    }
   ],
   "source": [
    "country_list = ['GBR', 'AUS', 'USA', 'DEU', 'FRA']\n",
    "for c in country_list:\n",
    "    print('looking at ' + c)\n",
    "    df = pd.read_json('http://popdata.unhcr.org/api/stats/resettlement.json?year=2014&country_of_asylum='+ c)\n",
    "    print(\"Importing\")\n",
    "    resettlment_stats = gis.content.import_data(df, {\"Address\" : \"country_of_origin_en\"})\n",
    "    print(\"Publishing\")\n",
    "    item_properties = {\n",
    "        \"title\": \"UNHCR \" + c,\n",
    "        \"tags\" : \"UNHCR\",\n",
    "        \"snippet\": \" UNHCR\",\n",
    "        \"description\": \"test description\",\n",
    "        \"text\": json.dumps({\"featureCollection\": {\"layers\": [dict(resettlment_stats.layer)]}}),\n",
    "        \"type\": \"Feature Collection\",\n",
    "        \"typeKeywords\": \"Data, Feature Collection, Singlelayer\"\n",
    "    }\n",
    "\n",
    "    item = gis.content.add(item_properties)\n",
    "    item\n",
    "    #print(\"add item to layer\")\n",
    "    #unhcr_lyr = resettlment_stats.publish({},  {\"Address\" : \"country_of_origin_en\"})\n",
    "    #unhcr_lyr = df.publish({}, {\"Address\" : \"country_of_origin_en\"})\n",
    "    #map_layer.add_layer(item, classed_size_renderer)"
   ]
  },
  {
   "cell_type": "code",
   "execution_count": 21,
   "metadata": {},
   "outputs": [
    {
     "name": "stdout",
     "output_type": "stream",
     "text": [
      "[<Item title:\"UNHCR DEU\" type:Feature Collection owner:gregbrunner_slugis>, <Item title:\"UNHCR GBR\" type:Feature Collection owner:gregbrunner_slugis>, <Item title:\"UNHCR USA\" type:Feature Collection owner:gregbrunner_slugis>, <Item title:\"UNHCR FRA\" type:Feature Collection owner:gregbrunner_slugis>, <Item title:\"UNHCR AUS\" type:Feature Collection owner:gregbrunner_slugis>]\n",
      "<Item title:\"UNHCR DEU\" type:Feature Collection owner:gregbrunner_slugis>\n",
      "<Item title:\"UNHCR GBR\" type:Feature Collection owner:gregbrunner_slugis>\n",
      "<Item title:\"UNHCR USA\" type:Feature Collection owner:gregbrunner_slugis>\n",
      "<Item title:\"UNHCR FRA\" type:Feature Collection owner:gregbrunner_slugis>\n",
      "<Item title:\"UNHCR AUS\" type:Feature Collection owner:gregbrunner_slugis>\n"
     ]
    }
   ],
   "source": [
    "items = gis.content.search(\"UNHCR\")\n",
    "print(items)\n",
    "for it in items:\n",
    "    print(it)\n",
    "    #map_layer.add_layer(it)"
   ]
  },
  {
   "cell_type": "code",
   "execution_count": null,
   "metadata": {},
   "outputs": [],
   "source": [
    "#webmap_item_properties = {'title':'UNHCR Data',\n",
    "#                         'snippet':'UNHCR Analysis',\n",
    "#                         'tags':['UNHCR']}\n",
    "#\n",
    "#map_layer.save(webmap_item_properties)#, thumbnail='./webmap_thumbnail.png')"
   ]
  }
 ],
 "metadata": {
  "kernelspec": {
   "display_name": "Python 3",
   "language": "python",
   "name": "python3"
  },
  "language_info": {
   "codemirror_mode": {
    "name": "ipython",
    "version": 3
   },
   "file_extension": ".py",
   "mimetype": "text/x-python",
   "name": "python",
   "nbconvert_exporter": "python",
   "pygments_lexer": "ipython3",
   "version": "3.6.5"
  }
 },
 "nbformat": 4,
 "nbformat_minor": 2
}
