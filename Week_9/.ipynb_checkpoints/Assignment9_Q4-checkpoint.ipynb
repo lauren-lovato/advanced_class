{
 "cells": [
  {
   "cell_type": "markdown",
   "metadata": {},
   "source": [
    "## Week 9, Assignment 9, Question 4"
   ]
  },
  {
   "cell_type": "markdown",
   "metadata": {},
   "source": [
    "### Going back to problem 3, setup your Python Notebook to easily take in an arbtrary year, month, and countryand answer the series of three questions by only modifying the year, month, and country parameters. "
   ]
  },
  {
   "cell_type": "code",
   "execution_count": 1,
   "metadata": {},
   "outputs": [],
   "source": [
    "import requests\n",
    "import pandas as pd"
   ]
  },
  {
   "cell_type": "code",
   "execution_count": 11,
   "metadata": {},
   "outputs": [],
   "source": [
    "### year, month, and country parameters\n",
    "year = '2015'\n",
    "month = '1'\n",
    "country = 'AUS'"
   ]
  },
  {
   "cell_type": "code",
   "execution_count": 12,
   "metadata": {},
   "outputs": [
    {
     "data": {
      "text/plain": [
       "'http://popdata.unhcr.org/api/stats/asylum_seekers_monthly.json?year=2015&month=1&coa=AUS'"
      ]
     },
     "execution_count": 12,
     "metadata": {},
     "output_type": "execute_result"
    }
   ],
   "source": [
    "url = 'http://popdata.unhcr.org/api/stats/asylum_seekers_monthly.json?year='+year+'&month='+month+'&coa='+country\n",
    "url"
   ]
  },
  {
   "cell_type": "code",
   "execution_count": 13,
   "metadata": {},
   "outputs": [],
   "source": [
    "data = requests.get(url)\n",
    "as_json = data.json()\n",
    "df = pd.DataFrame(as_json)"
   ]
  },
  {
   "cell_type": "code",
   "execution_count": 14,
   "metadata": {},
   "outputs": [
    {
     "data": {
      "text/html": [
       "<div>\n",
       "<style scoped>\n",
       "    .dataframe tbody tr th:only-of-type {\n",
       "        vertical-align: middle;\n",
       "    }\n",
       "\n",
       "    .dataframe tbody tr th {\n",
       "        vertical-align: top;\n",
       "    }\n",
       "\n",
       "    .dataframe thead th {\n",
       "        text-align: right;\n",
       "    }\n",
       "</style>\n",
       "<table border=\"1\" class=\"dataframe\">\n",
       "  <thead>\n",
       "    <tr style=\"text-align: right;\">\n",
       "      <th></th>\n",
       "      <th>country_of_asylum</th>\n",
       "      <th>country_of_asylum_en</th>\n",
       "      <th>country_of_origin</th>\n",
       "      <th>country_of_origin_en</th>\n",
       "      <th>month</th>\n",
       "      <th>month_en</th>\n",
       "      <th>value</th>\n",
       "      <th>year</th>\n",
       "    </tr>\n",
       "  </thead>\n",
       "  <tbody>\n",
       "    <tr>\n",
       "      <th>0</th>\n",
       "      <td>AUS</td>\n",
       "      <td>Australia</td>\n",
       "      <td>AFG</td>\n",
       "      <td>Afghanistan</td>\n",
       "      <td>1</td>\n",
       "      <td>January</td>\n",
       "      <td>2</td>\n",
       "      <td>2015</td>\n",
       "    </tr>\n",
       "    <tr>\n",
       "      <th>1</th>\n",
       "      <td>AUS</td>\n",
       "      <td>Australia</td>\n",
       "      <td>EGY</td>\n",
       "      <td>Egypt</td>\n",
       "      <td>1</td>\n",
       "      <td>January</td>\n",
       "      <td>7</td>\n",
       "      <td>2015</td>\n",
       "    </tr>\n",
       "    <tr>\n",
       "      <th>2</th>\n",
       "      <td>AUS</td>\n",
       "      <td>Australia</td>\n",
       "      <td>AZE</td>\n",
       "      <td>Azerbaijan</td>\n",
       "      <td>1</td>\n",
       "      <td>January</td>\n",
       "      <td>3</td>\n",
       "      <td>2015</td>\n",
       "    </tr>\n",
       "    <tr>\n",
       "      <th>3</th>\n",
       "      <td>AUS</td>\n",
       "      <td>Australia</td>\n",
       "      <td>BGD</td>\n",
       "      <td>Bangladesh</td>\n",
       "      <td>1</td>\n",
       "      <td>January</td>\n",
       "      <td>17</td>\n",
       "      <td>2015</td>\n",
       "    </tr>\n",
       "    <tr>\n",
       "      <th>4</th>\n",
       "      <td>AUS</td>\n",
       "      <td>Australia</td>\n",
       "      <td>CHN</td>\n",
       "      <td>China</td>\n",
       "      <td>1</td>\n",
       "      <td>January</td>\n",
       "      <td>80</td>\n",
       "      <td>2015</td>\n",
       "    </tr>\n",
       "  </tbody>\n",
       "</table>\n",
       "</div>"
      ],
      "text/plain": [
       "  country_of_asylum country_of_asylum_en country_of_origin  \\\n",
       "0               AUS            Australia               AFG   \n",
       "1               AUS            Australia               EGY   \n",
       "2               AUS            Australia               AZE   \n",
       "3               AUS            Australia               BGD   \n",
       "4               AUS            Australia               CHN   \n",
       "\n",
       "  country_of_origin_en  month month_en  value  year  \n",
       "0          Afghanistan      1  January      2  2015  \n",
       "1                Egypt      1  January      7  2015  \n",
       "2           Azerbaijan      1  January      3  2015  \n",
       "3           Bangladesh      1  January     17  2015  \n",
       "4                China      1  January     80  2015  "
      ]
     },
     "execution_count": 14,
     "metadata": {},
     "output_type": "execute_result"
    }
   ],
   "source": [
    "df.head()"
   ]
  },
  {
   "cell_type": "markdown",
   "metadata": {},
   "source": [
    "### From what country did Australia recieve the most immigrants in January 2015? China \n",
    "### What were the 5 countries that contributed the most immigrants in January of 2015? China, Bangladesh, Azerbaijan, Egpyt, Afghanistan\n",
    "### From what countries did only 1 immigrant arrive from Australia in January of 2015? none. lowest is 2 from Afghanistan"
   ]
  },
  {
   "cell_type": "code",
   "execution_count": 15,
   "metadata": {},
   "outputs": [],
   "source": [
    "### year, month, and country parameters\n",
    "year = '2018'\n",
    "month = '1'\n",
    "country = 'AUS'"
   ]
  },
  {
   "cell_type": "code",
   "execution_count": 17,
   "metadata": {},
   "outputs": [],
   "source": [
    "url = 'http://popdata.unhcr.org/api/stats/asylum_seekers_monthly.json?year='+year+'&month='+month+'&coa='+country\n",
    "data = requests.get(url)\n",
    "as_json = data.json()\n",
    "df = pd.DataFrame(as_json)"
   ]
  },
  {
   "cell_type": "code",
   "execution_count": 18,
   "metadata": {},
   "outputs": [
    {
     "data": {
      "text/html": [
       "<div>\n",
       "<style scoped>\n",
       "    .dataframe tbody tr th:only-of-type {\n",
       "        vertical-align: middle;\n",
       "    }\n",
       "\n",
       "    .dataframe tbody tr th {\n",
       "        vertical-align: top;\n",
       "    }\n",
       "\n",
       "    .dataframe thead th {\n",
       "        text-align: right;\n",
       "    }\n",
       "</style>\n",
       "<table border=\"1\" class=\"dataframe\">\n",
       "  <thead>\n",
       "    <tr style=\"text-align: right;\">\n",
       "      <th></th>\n",
       "      <th>country_of_asylum</th>\n",
       "      <th>country_of_asylum_en</th>\n",
       "      <th>country_of_origin</th>\n",
       "      <th>country_of_origin_en</th>\n",
       "      <th>month</th>\n",
       "      <th>month_en</th>\n",
       "      <th>value</th>\n",
       "      <th>year</th>\n",
       "    </tr>\n",
       "  </thead>\n",
       "  <tbody>\n",
       "    <tr>\n",
       "      <th>0</th>\n",
       "      <td>AUS</td>\n",
       "      <td>Australia</td>\n",
       "      <td>AFG</td>\n",
       "      <td>Afghanistan</td>\n",
       "      <td>1</td>\n",
       "      <td>January</td>\n",
       "      <td>10</td>\n",
       "      <td>2018</td>\n",
       "    </tr>\n",
       "    <tr>\n",
       "      <th>1</th>\n",
       "      <td>AUS</td>\n",
       "      <td>Australia</td>\n",
       "      <td>ALB</td>\n",
       "      <td>Albania</td>\n",
       "      <td>1</td>\n",
       "      <td>January</td>\n",
       "      <td>5</td>\n",
       "      <td>2018</td>\n",
       "    </tr>\n",
       "    <tr>\n",
       "      <th>2</th>\n",
       "      <td>AUS</td>\n",
       "      <td>Australia</td>\n",
       "      <td>EGY</td>\n",
       "      <td>Egypt</td>\n",
       "      <td>1</td>\n",
       "      <td>January</td>\n",
       "      <td>9</td>\n",
       "      <td>2018</td>\n",
       "    </tr>\n",
       "    <tr>\n",
       "      <th>3</th>\n",
       "      <td>AUS</td>\n",
       "      <td>Australia</td>\n",
       "      <td>BGD</td>\n",
       "      <td>Bangladesh</td>\n",
       "      <td>1</td>\n",
       "      <td>January</td>\n",
       "      <td>26</td>\n",
       "      <td>2018</td>\n",
       "    </tr>\n",
       "    <tr>\n",
       "      <th>4</th>\n",
       "      <td>AUS</td>\n",
       "      <td>Australia</td>\n",
       "      <td>CHN</td>\n",
       "      <td>China</td>\n",
       "      <td>1</td>\n",
       "      <td>January</td>\n",
       "      <td>1148</td>\n",
       "      <td>2018</td>\n",
       "    </tr>\n",
       "  </tbody>\n",
       "</table>\n",
       "</div>"
      ],
      "text/plain": [
       "  country_of_asylum country_of_asylum_en country_of_origin  \\\n",
       "0               AUS            Australia               AFG   \n",
       "1               AUS            Australia               ALB   \n",
       "2               AUS            Australia               EGY   \n",
       "3               AUS            Australia               BGD   \n",
       "4               AUS            Australia               CHN   \n",
       "\n",
       "  country_of_origin_en  month month_en  value  year  \n",
       "0          Afghanistan      1  January     10  2018  \n",
       "1              Albania      1  January      5  2018  \n",
       "2                Egypt      1  January      9  2018  \n",
       "3           Bangladesh      1  January     26  2018  \n",
       "4                China      1  January   1148  2018  "
      ]
     },
     "execution_count": 18,
     "metadata": {},
     "output_type": "execute_result"
    }
   ],
   "source": [
    "df.head()"
   ]
  },
  {
   "cell_type": "markdown",
   "metadata": {},
   "source": [
    "### From what country did Australia recieve the most immigrants in January 2018? China\n",
    "### What were the 5 countries that contributed the most immigrants in January of 2018? China, Bangladesh,  Egpyt, Albania Afghanistan\n",
    "### From what countries did only 1 immigrant arrive from Australia in January of 2018? none. lowest is 5 from Albania"
   ]
  },
  {
   "cell_type": "code",
   "execution_count": null,
   "metadata": {},
   "outputs": [],
   "source": []
  }
 ],
 "metadata": {
  "kernelspec": {
   "display_name": "Python 3",
   "language": "python",
   "name": "python3"
  },
  "language_info": {
   "codemirror_mode": {
    "name": "ipython",
    "version": 3
   },
   "file_extension": ".py",
   "mimetype": "text/x-python",
   "name": "python",
   "nbconvert_exporter": "python",
   "pygments_lexer": "ipython3",
   "version": "3.6.5"
  }
 },
 "nbformat": 4,
 "nbformat_minor": 2
}
